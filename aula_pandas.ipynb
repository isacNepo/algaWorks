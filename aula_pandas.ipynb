{
  "nbformat": 4,
  "nbformat_minor": 0,
  "metadata": {
    "colab": {
      "provenance": [],
      "collapsed_sections": [],
      "include_colab_link": true
    },
    "kernelspec": {
      "name": "python3",
      "display_name": "Python 3"
    },
    "language_info": {
      "name": "python"
    }
  },
  "cells": [
    {
      "cell_type": "markdown",
      "metadata": {
        "id": "view-in-github",
        "colab_type": "text"
      },
      "source": [
        "<a href=\"https://colab.research.google.com/github/isacNepo/aulas_faculdade/blob/master/aula_pandas.ipynb\" target=\"_parent\"><img src=\"https://colab.research.google.com/assets/colab-badge.svg\" alt=\"Open In Colab\"/></a>"
      ]
    },
    {
      "cell_type": "markdown",
      "source": [
        "# Introdução ao Pandas\n",
        "\n",
        "O Pandas é uma biblioteca para a linguagem Python para manipulação e análise de dados. Em particular, oferece estruturas e operações para manipular tabelas numéricas e séries temporais. É um _software_ livre sob a licensa licença BSD. O nome é derivado do termo inglês \"panel data\" (dados em painel), um termo usado em estatística e econometria para conjunto de dados que incluem várias unidades amostrais (indivíduos, empresas, etc.) acompanhadas ao longo do tempo. (Wikipédia, 2022)\n",
        "\n",
        "## Documentação do Pandas\n",
        "\n",
        "https://pandas.pydata.org/pandas-docs/stable/"
      ],
      "metadata": {
        "id": "tmtBZOSlQOPF"
      }
    },
    {
      "cell_type": "markdown",
      "source": [
        "## Definições Importantes\n",
        "\n",
        "#### Dados Tabulares\n",
        "\n",
        "* Primeira linha: Cabeçalho (*Header*)\n",
        "* Cada coluna: uma variável\n",
        "* Cada linha: uma observação\n",
        "* Cada Tabela/arquivo: um nível de observação\n",
        "\n",
        "![](https://github.com/storopoli/ciencia-de-dados/blob/main/notebooks/images/dados-tabulares.png?raw=1)"
      ],
      "metadata": {
        "id": "szoJVPnhRAu7"
      }
    },
    {
      "cell_type": "markdown",
      "source": [
        "## Elementos do Pandas\n",
        "\n",
        "* *DataFrame*: Tabela Retangular de Dados\n",
        "    - Conjunto de *Series*\n",
        "    - Todas compartilhando o mesmo índice (*index*)\n",
        "* *Series*: Coluna do *DataFrame*\n",
        "    - *arrays* em 1-D\n",
        "    - Composta por:\n",
        "        - Sequência de Valores\n",
        "            - *numeric*\n",
        "            - *string*\n",
        "            - *bool*\n",
        "        - Sequencia de *index*\n",
        "        \n",
        "![](https://media.geeksforgeeks.org/wp-content/cdn-uploads/creating_dataframe1.png)"
      ],
      "metadata": {
        "id": "P-ZLGhcnS1O9"
      }
    },
    {
      "cell_type": "markdown",
      "source": [
        "![](https://storage.googleapis.com/lds-media/images/series-and-dataframe.width-1200.png)"
      ],
      "metadata": {
        "id": "79ehftbJVQM5"
      }
    },
    {
      "cell_type": "markdown",
      "source": [
        "## Tipos de Dados\n",
        "\n",
        "| Pandas dtype    | Python type    | NumPy type                                | Uso                                                   |\n",
        "|-----------------|----------------|-------------------------------------------|-------------------------------------------------------|\n",
        "| `object`        | `str` ou misto | *string_*, *unicode_*, misto              | Texto ou misto de valores `numeric` and `non-numeric` |\n",
        "| `int64`         | `int`          | *int_*, `int8`, `int16`, `int32`, `int64` | Número Inteiros                                       |\n",
        "| `float64`       | `float`        | *float_*, `float16`, `float32`, `float64` | Número Reais                                          |\n",
        "| `bool`          | `bool`         | `bool`                                    | Verdadeiro ou Falso                                   |\n",
        "| `datetime64`    | NA             | `datetime64[ns]`                          | Data e Hora                                           |\n",
        "| `timedelta[ns]` | NA             | NA                                        | Diferença entre duas `datetimes`                      |\n",
        "| `category`      | NA             | NA                                        | Lista Finita de Valores em Texto                      |"
      ],
      "metadata": {
        "id": "Ff6jmB4oXoER"
      }
    },
    {
      "cell_type": "markdown",
      "source": [
        "## Importação/Exportação de Dados\n",
        "\n",
        "<img src=\"https://github.com/storopoli/ciencia-de-dados/blob/main/notebooks/images/pandas-io.svg?raw=1\" alt=\"\" style=\"background-color: white;\"/>"
      ],
      "metadata": {
        "id": "CZwYDM3xYagv"
      }
    },
    {
      "cell_type": "markdown",
      "source": [
        "\n",
        "| Formato   | Input                 | Output            | Observação                     |\n",
        "| --------- | --------------------- | ----------------- | ------------------------------ |\n",
        "| CSV       | `pd.read_csv()`       | `.to_csv()`       | Arquivo Texto CSV, TSV, etc    |\n",
        "| XLS/XLSX  | `pd.read_excel()`     | `.to_excel()`     | Planilha                       |\n",
        "| HDF       | `pd.read_hdf()`       | `.to_hdf()`       | HDF5 database                  |\n",
        "| SQL       | `pd.read_sql()`       | `.to_sql()`       | SQL table                      |\n",
        "| JSON      | `pd.read_json()`      | `.to_json()`      | JavaScript Object Notation     |\n",
        "| MSGPACK   | `pd.read_msgpack()`   | `.to_msgpack()`   | Portable binary format         |\n",
        "| HTML      | `pd.read_html()`      | `.to_html()`      | código HTML                    |\n",
        "| GBQ       | `pd.read_gbq()`       | `.to_gbq()`       | Google Big Query format        |\n",
        "| DTA       | `pd.read_stata()`     | `.to_stata()`     | Stata                          |\n",
        "| Parquet   | `pd.read_parquet()`   | `.to_parquet()`   | Apache Parquet                 |\n",
        "| Feather   | `pd.read_feather()`   | `.to_feather()`   | Apache Arrow                   |\n",
        "| Qualquer  | `pd.read_clipboard()` | `.to_clipboard()` | Ex., de pág HTML               |\n",
        "| Qualquer  | `pd.read_pickle()`    | `.to_pickle()`    | (Structured) Python object     |"
      ],
      "metadata": {
        "id": "iUUR7TuEegxz"
      }
    },
    {
      "cell_type": "markdown",
      "source": [
        "## Tipos de importação mais utilizados\n",
        "\n",
        "### `CSV` (.CSV)\n",
        "\n",
        "Se atentar com os seguintes argumentos de [`pd.read_csv()`](https://pandas.pydata.org/pandas-docs/stable/reference/api/pandas.read_csv.html):\n",
        "\n",
        "* Caminho (`path`)\n",
        "* `sep`: `','`, para europeu/brasileiro use `';'`\n",
        "* `decimal`: `'.'`, para europeu/brasileiro use `','`\n",
        "* `header`: `pandas` tenta adivinhar\n",
        "* `index_col`: `None`, mas pode ser uma coluna do arquivo (ex: 2ª coluna use `index_col=2`)\n",
        "* `names`: `None`, mas pode ser uma lista dos nomes das variáveis (colunas)\n",
        "* `skip_rows`: `None` (pular linhas)\n",
        "* `na_values`: `None`, mas pode ser qualquer string (ex: `'NA'`)\n",
        "* `thousands`: `None` mas pode ser `','` ou `'.'`\n",
        "* `encoding`\n",
        "    - `'utf8'`: padrão\n",
        "    - `'latin1'`: ç à é î ã\n",
        "    \n",
        "### `Excel` (.XLS e .XLSX)\n",
        "\n",
        "Se atentar com os seguintes argumentos de [`pd.read_excel()`](https://pandas.pydata.org/pandas-docs/stable/reference/api/pandas.read_excel.html):\n",
        "* Caminho (`path`)\n",
        "* `sheet_name`: `0`, mas pode ser qualquer `string` ou `int`\n",
        "    - `sheet_name=0`: Primeira aba da planilha\n",
        "    - `sheet_name=2`: Terceira aba da planilha\n",
        "    - `sheet_name='Plan1'`: Primeira aba da planilha\n",
        "    - `sheet_name='nome_que_usuário_colocou'`    "
      ],
      "metadata": {
        "id": "9Oajysp2exkL"
      }
    },
    {
      "cell_type": "markdown",
      "source": [
        "---\n",
        "# Trabalhando com o Pandas"
      ],
      "metadata": {
        "id": "kttpbsClf1vB"
      }
    },
    {
      "cell_type": "code",
      "execution_count": 1,
      "metadata": {
        "id": "ZbVigMgvPeDu"
      },
      "outputs": [],
      "source": [
        "# Importação de bibliotecas (Pandas)\n",
        "import pandas as pd # \"as\" em inglês é um apelidos (alias)"
      ]
    },
    {
      "cell_type": "code",
      "source": [
        "# Vamos declarar uma variável para armazenar os dados externos.\n",
        "# Ao armazenar os dados eles serão transformados em um DataFrame.\n",
        "# \"d(ata)f(rame)\" é uma referência para um DataFrame.\n",
        "\n",
        "# Carregando os dados de forma remota\n",
        "df_covid = pd.read_csv(\"http://www.edsonmelo.com.br/datasets/covid_19_data.csv\")"
      ],
      "metadata": {
        "id": "4IK4NUFbhA19"
      },
      "execution_count": 2,
      "outputs": []
    },
    {
      "cell_type": "markdown",
      "source": [
        "# Inspecionando um DataFrame\n",
        "\n",
        "Essa é a primeira etapa para se trabalhar com dados, pois é de fundamental importância sabermos **com o que** estamos lidando, ou seja, a qualidade, a quantidade, a distribuição, dados ausentes, etc."
      ],
      "metadata": {
        "id": "WUBBoalii5RT"
      }
    },
    {
      "cell_type": "code",
      "source": [
        "# Descobrindo informações sobre: colunas, tipos de dados, número de linhas\n",
        "# Lembrando que a partir de \"agora\" todos os dados estão na variável \"df_covid\"\n",
        "df_covid.info()"
      ],
      "metadata": {
        "colab": {
          "base_uri": "https://localhost:8080/"
        },
        "id": "1HihXlZIihaQ",
        "outputId": "a618d835-602b-41c4-b98c-8d2a4dfb46f1"
      },
      "execution_count": 3,
      "outputs": [
        {
          "output_type": "stream",
          "name": "stdout",
          "text": [
            "<class 'pandas.core.frame.DataFrame'>\n",
            "RangeIndex: 98252 entries, 0 to 98251\n",
            "Data columns (total 8 columns):\n",
            " #   Column           Non-Null Count  Dtype  \n",
            "---  ------           --------------  -----  \n",
            " 0   SNo              98252 non-null  int64  \n",
            " 1   ObservationDate  98252 non-null  object \n",
            " 2   Province/State   67099 non-null  object \n",
            " 3   Country/Region   98252 non-null  object \n",
            " 4   Last Update      98252 non-null  object \n",
            " 5   Confirmed        98252 non-null  float64\n",
            " 6   Deaths           98252 non-null  float64\n",
            " 7   Recovered        98252 non-null  float64\n",
            "dtypes: float64(3), int64(1), object(4)\n",
            "memory usage: 6.0+ MB\n"
          ]
        }
      ]
    },
    {
      "cell_type": "code",
      "source": [
        "# Analisando a quantidade de linhas e colunas\n",
        "df_covid.shape"
      ],
      "metadata": {
        "colab": {
          "base_uri": "https://localhost:8080/"
        },
        "id": "QvQQOEOBlFXQ",
        "outputId": "4d38d9be-4ecf-4044-e587-17cb927c812e"
      },
      "execution_count": 4,
      "outputs": [
        {
          "output_type": "execute_result",
          "data": {
            "text/plain": [
              "(98252, 8)"
            ]
          },
          "metadata": {},
          "execution_count": 4
        }
      ]
    },
    {
      "cell_type": "code",
      "source": [
        "# Lendo os valores de forma individual\n",
        "print(df_covid.shape[0])\n",
        "print(df_covid.shape[1])"
      ],
      "metadata": {
        "colab": {
          "base_uri": "https://localhost:8080/"
        },
        "id": "873YUdyNnp7g",
        "outputId": "746fa1d7-c283-4f12-e283-c2af51581ec6"
      },
      "execution_count": 5,
      "outputs": [
        {
          "output_type": "stream",
          "name": "stdout",
          "text": [
            "98252\n",
            "8\n"
          ]
        }
      ]
    },
    {
      "cell_type": "code",
      "source": [
        "# Mostrando alguns dados do DataFrame\n",
        "# Vamos começar pelo início (Topo ou Header)\n",
        "# Este comando mostra as cinco primeiras linhas do DataFrame\n",
        "df_covid.head()"
      ],
      "metadata": {
        "colab": {
          "base_uri": "https://localhost:8080/",
          "height": 206
        },
        "id": "5vPqUDyLoGu-",
        "outputId": "b587a35b-dc44-4892-8443-6674c6fbaa01"
      },
      "execution_count": 6,
      "outputs": [
        {
          "output_type": "execute_result",
          "data": {
            "text/plain": [
              "   SNo ObservationDate Province/State  Country/Region      Last Update  \\\n",
              "0    1      01/22/2020          Anhui  Mainland China  1/22/2020 17:00   \n",
              "1    2      01/22/2020        Beijing  Mainland China  1/22/2020 17:00   \n",
              "2    3      01/22/2020      Chongqing  Mainland China  1/22/2020 17:00   \n",
              "3    4      01/22/2020         Fujian  Mainland China  1/22/2020 17:00   \n",
              "4    5      01/22/2020          Gansu  Mainland China  1/22/2020 17:00   \n",
              "\n",
              "   Confirmed  Deaths  Recovered  \n",
              "0        1.0     0.0        0.0  \n",
              "1       14.0     0.0        0.0  \n",
              "2        6.0     0.0        0.0  \n",
              "3        1.0     0.0        0.0  \n",
              "4        0.0     0.0        0.0  "
            ],
            "text/html": [
              "\n",
              "  <div id=\"df-6f4d5049-dad0-4ff3-a1e4-9ee5b96205c8\">\n",
              "    <div class=\"colab-df-container\">\n",
              "      <div>\n",
              "<style scoped>\n",
              "    .dataframe tbody tr th:only-of-type {\n",
              "        vertical-align: middle;\n",
              "    }\n",
              "\n",
              "    .dataframe tbody tr th {\n",
              "        vertical-align: top;\n",
              "    }\n",
              "\n",
              "    .dataframe thead th {\n",
              "        text-align: right;\n",
              "    }\n",
              "</style>\n",
              "<table border=\"1\" class=\"dataframe\">\n",
              "  <thead>\n",
              "    <tr style=\"text-align: right;\">\n",
              "      <th></th>\n",
              "      <th>SNo</th>\n",
              "      <th>ObservationDate</th>\n",
              "      <th>Province/State</th>\n",
              "      <th>Country/Region</th>\n",
              "      <th>Last Update</th>\n",
              "      <th>Confirmed</th>\n",
              "      <th>Deaths</th>\n",
              "      <th>Recovered</th>\n",
              "    </tr>\n",
              "  </thead>\n",
              "  <tbody>\n",
              "    <tr>\n",
              "      <th>0</th>\n",
              "      <td>1</td>\n",
              "      <td>01/22/2020</td>\n",
              "      <td>Anhui</td>\n",
              "      <td>Mainland China</td>\n",
              "      <td>1/22/2020 17:00</td>\n",
              "      <td>1.0</td>\n",
              "      <td>0.0</td>\n",
              "      <td>0.0</td>\n",
              "    </tr>\n",
              "    <tr>\n",
              "      <th>1</th>\n",
              "      <td>2</td>\n",
              "      <td>01/22/2020</td>\n",
              "      <td>Beijing</td>\n",
              "      <td>Mainland China</td>\n",
              "      <td>1/22/2020 17:00</td>\n",
              "      <td>14.0</td>\n",
              "      <td>0.0</td>\n",
              "      <td>0.0</td>\n",
              "    </tr>\n",
              "    <tr>\n",
              "      <th>2</th>\n",
              "      <td>3</td>\n",
              "      <td>01/22/2020</td>\n",
              "      <td>Chongqing</td>\n",
              "      <td>Mainland China</td>\n",
              "      <td>1/22/2020 17:00</td>\n",
              "      <td>6.0</td>\n",
              "      <td>0.0</td>\n",
              "      <td>0.0</td>\n",
              "    </tr>\n",
              "    <tr>\n",
              "      <th>3</th>\n",
              "      <td>4</td>\n",
              "      <td>01/22/2020</td>\n",
              "      <td>Fujian</td>\n",
              "      <td>Mainland China</td>\n",
              "      <td>1/22/2020 17:00</td>\n",
              "      <td>1.0</td>\n",
              "      <td>0.0</td>\n",
              "      <td>0.0</td>\n",
              "    </tr>\n",
              "    <tr>\n",
              "      <th>4</th>\n",
              "      <td>5</td>\n",
              "      <td>01/22/2020</td>\n",
              "      <td>Gansu</td>\n",
              "      <td>Mainland China</td>\n",
              "      <td>1/22/2020 17:00</td>\n",
              "      <td>0.0</td>\n",
              "      <td>0.0</td>\n",
              "      <td>0.0</td>\n",
              "    </tr>\n",
              "  </tbody>\n",
              "</table>\n",
              "</div>\n",
              "      <button class=\"colab-df-convert\" onclick=\"convertToInteractive('df-6f4d5049-dad0-4ff3-a1e4-9ee5b96205c8')\"\n",
              "              title=\"Convert this dataframe to an interactive table.\"\n",
              "              style=\"display:none;\">\n",
              "        \n",
              "  <svg xmlns=\"http://www.w3.org/2000/svg\" height=\"24px\"viewBox=\"0 0 24 24\"\n",
              "       width=\"24px\">\n",
              "    <path d=\"M0 0h24v24H0V0z\" fill=\"none\"/>\n",
              "    <path d=\"M18.56 5.44l.94 2.06.94-2.06 2.06-.94-2.06-.94-.94-2.06-.94 2.06-2.06.94zm-11 1L8.5 8.5l.94-2.06 2.06-.94-2.06-.94L8.5 2.5l-.94 2.06-2.06.94zm10 10l.94 2.06.94-2.06 2.06-.94-2.06-.94-.94-2.06-.94 2.06-2.06.94z\"/><path d=\"M17.41 7.96l-1.37-1.37c-.4-.4-.92-.59-1.43-.59-.52 0-1.04.2-1.43.59L10.3 9.45l-7.72 7.72c-.78.78-.78 2.05 0 2.83L4 21.41c.39.39.9.59 1.41.59.51 0 1.02-.2 1.41-.59l7.78-7.78 2.81-2.81c.8-.78.8-2.07 0-2.86zM5.41 20L4 18.59l7.72-7.72 1.47 1.35L5.41 20z\"/>\n",
              "  </svg>\n",
              "      </button>\n",
              "      \n",
              "  <style>\n",
              "    .colab-df-container {\n",
              "      display:flex;\n",
              "      flex-wrap:wrap;\n",
              "      gap: 12px;\n",
              "    }\n",
              "\n",
              "    .colab-df-convert {\n",
              "      background-color: #E8F0FE;\n",
              "      border: none;\n",
              "      border-radius: 50%;\n",
              "      cursor: pointer;\n",
              "      display: none;\n",
              "      fill: #1967D2;\n",
              "      height: 32px;\n",
              "      padding: 0 0 0 0;\n",
              "      width: 32px;\n",
              "    }\n",
              "\n",
              "    .colab-df-convert:hover {\n",
              "      background-color: #E2EBFA;\n",
              "      box-shadow: 0px 1px 2px rgba(60, 64, 67, 0.3), 0px 1px 3px 1px rgba(60, 64, 67, 0.15);\n",
              "      fill: #174EA6;\n",
              "    }\n",
              "\n",
              "    [theme=dark] .colab-df-convert {\n",
              "      background-color: #3B4455;\n",
              "      fill: #D2E3FC;\n",
              "    }\n",
              "\n",
              "    [theme=dark] .colab-df-convert:hover {\n",
              "      background-color: #434B5C;\n",
              "      box-shadow: 0px 1px 3px 1px rgba(0, 0, 0, 0.15);\n",
              "      filter: drop-shadow(0px 1px 2px rgba(0, 0, 0, 0.3));\n",
              "      fill: #FFFFFF;\n",
              "    }\n",
              "  </style>\n",
              "\n",
              "      <script>\n",
              "        const buttonEl =\n",
              "          document.querySelector('#df-6f4d5049-dad0-4ff3-a1e4-9ee5b96205c8 button.colab-df-convert');\n",
              "        buttonEl.style.display =\n",
              "          google.colab.kernel.accessAllowed ? 'block' : 'none';\n",
              "\n",
              "        async function convertToInteractive(key) {\n",
              "          const element = document.querySelector('#df-6f4d5049-dad0-4ff3-a1e4-9ee5b96205c8');\n",
              "          const dataTable =\n",
              "            await google.colab.kernel.invokeFunction('convertToInteractive',\n",
              "                                                     [key], {});\n",
              "          if (!dataTable) return;\n",
              "\n",
              "          const docLinkHtml = 'Like what you see? Visit the ' +\n",
              "            '<a target=\"_blank\" href=https://colab.research.google.com/notebooks/data_table.ipynb>data table notebook</a>'\n",
              "            + ' to learn more about interactive tables.';\n",
              "          element.innerHTML = '';\n",
              "          dataTable['output_type'] = 'display_data';\n",
              "          await google.colab.output.renderOutput(dataTable, element);\n",
              "          const docLink = document.createElement('div');\n",
              "          docLink.innerHTML = docLinkHtml;\n",
              "          element.appendChild(docLink);\n",
              "        }\n",
              "      </script>\n",
              "    </div>\n",
              "  </div>\n",
              "  "
            ]
          },
          "metadata": {},
          "execution_count": 6
        }
      ]
    },
    {
      "cell_type": "code",
      "source": [
        "# Podemos colocar um parâmetro no head(n_linhas)\n",
        "df_covid.head(10)"
      ],
      "metadata": {
        "colab": {
          "base_uri": "https://localhost:8080/",
          "height": 363
        },
        "id": "FEbwISn_on56",
        "outputId": "e28c33fc-7775-426b-b1d4-b80a8208dcb0"
      },
      "execution_count": 7,
      "outputs": [
        {
          "output_type": "execute_result",
          "data": {
            "text/plain": [
              "   SNo ObservationDate Province/State  Country/Region      Last Update  \\\n",
              "0    1      01/22/2020          Anhui  Mainland China  1/22/2020 17:00   \n",
              "1    2      01/22/2020        Beijing  Mainland China  1/22/2020 17:00   \n",
              "2    3      01/22/2020      Chongqing  Mainland China  1/22/2020 17:00   \n",
              "3    4      01/22/2020         Fujian  Mainland China  1/22/2020 17:00   \n",
              "4    5      01/22/2020          Gansu  Mainland China  1/22/2020 17:00   \n",
              "5    6      01/22/2020      Guangdong  Mainland China  1/22/2020 17:00   \n",
              "6    7      01/22/2020        Guangxi  Mainland China  1/22/2020 17:00   \n",
              "7    8      01/22/2020        Guizhou  Mainland China  1/22/2020 17:00   \n",
              "8    9      01/22/2020         Hainan  Mainland China  1/22/2020 17:00   \n",
              "9   10      01/22/2020          Hebei  Mainland China  1/22/2020 17:00   \n",
              "\n",
              "   Confirmed  Deaths  Recovered  \n",
              "0        1.0     0.0        0.0  \n",
              "1       14.0     0.0        0.0  \n",
              "2        6.0     0.0        0.0  \n",
              "3        1.0     0.0        0.0  \n",
              "4        0.0     0.0        0.0  \n",
              "5       26.0     0.0        0.0  \n",
              "6        2.0     0.0        0.0  \n",
              "7        1.0     0.0        0.0  \n",
              "8        4.0     0.0        0.0  \n",
              "9        1.0     0.0        0.0  "
            ],
            "text/html": [
              "\n",
              "  <div id=\"df-47fe9f8c-a8d8-4eed-812a-4bf01fe46a6b\">\n",
              "    <div class=\"colab-df-container\">\n",
              "      <div>\n",
              "<style scoped>\n",
              "    .dataframe tbody tr th:only-of-type {\n",
              "        vertical-align: middle;\n",
              "    }\n",
              "\n",
              "    .dataframe tbody tr th {\n",
              "        vertical-align: top;\n",
              "    }\n",
              "\n",
              "    .dataframe thead th {\n",
              "        text-align: right;\n",
              "    }\n",
              "</style>\n",
              "<table border=\"1\" class=\"dataframe\">\n",
              "  <thead>\n",
              "    <tr style=\"text-align: right;\">\n",
              "      <th></th>\n",
              "      <th>SNo</th>\n",
              "      <th>ObservationDate</th>\n",
              "      <th>Province/State</th>\n",
              "      <th>Country/Region</th>\n",
              "      <th>Last Update</th>\n",
              "      <th>Confirmed</th>\n",
              "      <th>Deaths</th>\n",
              "      <th>Recovered</th>\n",
              "    </tr>\n",
              "  </thead>\n",
              "  <tbody>\n",
              "    <tr>\n",
              "      <th>0</th>\n",
              "      <td>1</td>\n",
              "      <td>01/22/2020</td>\n",
              "      <td>Anhui</td>\n",
              "      <td>Mainland China</td>\n",
              "      <td>1/22/2020 17:00</td>\n",
              "      <td>1.0</td>\n",
              "      <td>0.0</td>\n",
              "      <td>0.0</td>\n",
              "    </tr>\n",
              "    <tr>\n",
              "      <th>1</th>\n",
              "      <td>2</td>\n",
              "      <td>01/22/2020</td>\n",
              "      <td>Beijing</td>\n",
              "      <td>Mainland China</td>\n",
              "      <td>1/22/2020 17:00</td>\n",
              "      <td>14.0</td>\n",
              "      <td>0.0</td>\n",
              "      <td>0.0</td>\n",
              "    </tr>\n",
              "    <tr>\n",
              "      <th>2</th>\n",
              "      <td>3</td>\n",
              "      <td>01/22/2020</td>\n",
              "      <td>Chongqing</td>\n",
              "      <td>Mainland China</td>\n",
              "      <td>1/22/2020 17:00</td>\n",
              "      <td>6.0</td>\n",
              "      <td>0.0</td>\n",
              "      <td>0.0</td>\n",
              "    </tr>\n",
              "    <tr>\n",
              "      <th>3</th>\n",
              "      <td>4</td>\n",
              "      <td>01/22/2020</td>\n",
              "      <td>Fujian</td>\n",
              "      <td>Mainland China</td>\n",
              "      <td>1/22/2020 17:00</td>\n",
              "      <td>1.0</td>\n",
              "      <td>0.0</td>\n",
              "      <td>0.0</td>\n",
              "    </tr>\n",
              "    <tr>\n",
              "      <th>4</th>\n",
              "      <td>5</td>\n",
              "      <td>01/22/2020</td>\n",
              "      <td>Gansu</td>\n",
              "      <td>Mainland China</td>\n",
              "      <td>1/22/2020 17:00</td>\n",
              "      <td>0.0</td>\n",
              "      <td>0.0</td>\n",
              "      <td>0.0</td>\n",
              "    </tr>\n",
              "    <tr>\n",
              "      <th>5</th>\n",
              "      <td>6</td>\n",
              "      <td>01/22/2020</td>\n",
              "      <td>Guangdong</td>\n",
              "      <td>Mainland China</td>\n",
              "      <td>1/22/2020 17:00</td>\n",
              "      <td>26.0</td>\n",
              "      <td>0.0</td>\n",
              "      <td>0.0</td>\n",
              "    </tr>\n",
              "    <tr>\n",
              "      <th>6</th>\n",
              "      <td>7</td>\n",
              "      <td>01/22/2020</td>\n",
              "      <td>Guangxi</td>\n",
              "      <td>Mainland China</td>\n",
              "      <td>1/22/2020 17:00</td>\n",
              "      <td>2.0</td>\n",
              "      <td>0.0</td>\n",
              "      <td>0.0</td>\n",
              "    </tr>\n",
              "    <tr>\n",
              "      <th>7</th>\n",
              "      <td>8</td>\n",
              "      <td>01/22/2020</td>\n",
              "      <td>Guizhou</td>\n",
              "      <td>Mainland China</td>\n",
              "      <td>1/22/2020 17:00</td>\n",
              "      <td>1.0</td>\n",
              "      <td>0.0</td>\n",
              "      <td>0.0</td>\n",
              "    </tr>\n",
              "    <tr>\n",
              "      <th>8</th>\n",
              "      <td>9</td>\n",
              "      <td>01/22/2020</td>\n",
              "      <td>Hainan</td>\n",
              "      <td>Mainland China</td>\n",
              "      <td>1/22/2020 17:00</td>\n",
              "      <td>4.0</td>\n",
              "      <td>0.0</td>\n",
              "      <td>0.0</td>\n",
              "    </tr>\n",
              "    <tr>\n",
              "      <th>9</th>\n",
              "      <td>10</td>\n",
              "      <td>01/22/2020</td>\n",
              "      <td>Hebei</td>\n",
              "      <td>Mainland China</td>\n",
              "      <td>1/22/2020 17:00</td>\n",
              "      <td>1.0</td>\n",
              "      <td>0.0</td>\n",
              "      <td>0.0</td>\n",
              "    </tr>\n",
              "  </tbody>\n",
              "</table>\n",
              "</div>\n",
              "      <button class=\"colab-df-convert\" onclick=\"convertToInteractive('df-47fe9f8c-a8d8-4eed-812a-4bf01fe46a6b')\"\n",
              "              title=\"Convert this dataframe to an interactive table.\"\n",
              "              style=\"display:none;\">\n",
              "        \n",
              "  <svg xmlns=\"http://www.w3.org/2000/svg\" height=\"24px\"viewBox=\"0 0 24 24\"\n",
              "       width=\"24px\">\n",
              "    <path d=\"M0 0h24v24H0V0z\" fill=\"none\"/>\n",
              "    <path d=\"M18.56 5.44l.94 2.06.94-2.06 2.06-.94-2.06-.94-.94-2.06-.94 2.06-2.06.94zm-11 1L8.5 8.5l.94-2.06 2.06-.94-2.06-.94L8.5 2.5l-.94 2.06-2.06.94zm10 10l.94 2.06.94-2.06 2.06-.94-2.06-.94-.94-2.06-.94 2.06-2.06.94z\"/><path d=\"M17.41 7.96l-1.37-1.37c-.4-.4-.92-.59-1.43-.59-.52 0-1.04.2-1.43.59L10.3 9.45l-7.72 7.72c-.78.78-.78 2.05 0 2.83L4 21.41c.39.39.9.59 1.41.59.51 0 1.02-.2 1.41-.59l7.78-7.78 2.81-2.81c.8-.78.8-2.07 0-2.86zM5.41 20L4 18.59l7.72-7.72 1.47 1.35L5.41 20z\"/>\n",
              "  </svg>\n",
              "      </button>\n",
              "      \n",
              "  <style>\n",
              "    .colab-df-container {\n",
              "      display:flex;\n",
              "      flex-wrap:wrap;\n",
              "      gap: 12px;\n",
              "    }\n",
              "\n",
              "    .colab-df-convert {\n",
              "      background-color: #E8F0FE;\n",
              "      border: none;\n",
              "      border-radius: 50%;\n",
              "      cursor: pointer;\n",
              "      display: none;\n",
              "      fill: #1967D2;\n",
              "      height: 32px;\n",
              "      padding: 0 0 0 0;\n",
              "      width: 32px;\n",
              "    }\n",
              "\n",
              "    .colab-df-convert:hover {\n",
              "      background-color: #E2EBFA;\n",
              "      box-shadow: 0px 1px 2px rgba(60, 64, 67, 0.3), 0px 1px 3px 1px rgba(60, 64, 67, 0.15);\n",
              "      fill: #174EA6;\n",
              "    }\n",
              "\n",
              "    [theme=dark] .colab-df-convert {\n",
              "      background-color: #3B4455;\n",
              "      fill: #D2E3FC;\n",
              "    }\n",
              "\n",
              "    [theme=dark] .colab-df-convert:hover {\n",
              "      background-color: #434B5C;\n",
              "      box-shadow: 0px 1px 3px 1px rgba(0, 0, 0, 0.15);\n",
              "      filter: drop-shadow(0px 1px 2px rgba(0, 0, 0, 0.3));\n",
              "      fill: #FFFFFF;\n",
              "    }\n",
              "  </style>\n",
              "\n",
              "      <script>\n",
              "        const buttonEl =\n",
              "          document.querySelector('#df-47fe9f8c-a8d8-4eed-812a-4bf01fe46a6b button.colab-df-convert');\n",
              "        buttonEl.style.display =\n",
              "          google.colab.kernel.accessAllowed ? 'block' : 'none';\n",
              "\n",
              "        async function convertToInteractive(key) {\n",
              "          const element = document.querySelector('#df-47fe9f8c-a8d8-4eed-812a-4bf01fe46a6b');\n",
              "          const dataTable =\n",
              "            await google.colab.kernel.invokeFunction('convertToInteractive',\n",
              "                                                     [key], {});\n",
              "          if (!dataTable) return;\n",
              "\n",
              "          const docLinkHtml = 'Like what you see? Visit the ' +\n",
              "            '<a target=\"_blank\" href=https://colab.research.google.com/notebooks/data_table.ipynb>data table notebook</a>'\n",
              "            + ' to learn more about interactive tables.';\n",
              "          element.innerHTML = '';\n",
              "          dataTable['output_type'] = 'display_data';\n",
              "          await google.colab.output.renderOutput(dataTable, element);\n",
              "          const docLink = document.createElement('div');\n",
              "          docLink.innerHTML = docLinkHtml;\n",
              "          element.appendChild(docLink);\n",
              "        }\n",
              "      </script>\n",
              "    </div>\n",
              "  </div>\n",
              "  "
            ]
          },
          "metadata": {},
          "execution_count": 7
        }
      ]
    },
    {
      "cell_type": "code",
      "source": [
        "# Se consigo ver o topo, então dá para ver o fim (tail)\n",
        "df_covid.tail()"
      ],
      "metadata": {
        "colab": {
          "base_uri": "https://localhost:8080/",
          "height": 206
        },
        "id": "6R2wPsW8pbXf",
        "outputId": "c6d8bbc9-f781-44ca-8483-556cb23207a7"
      },
      "execution_count": 8,
      "outputs": [
        {
          "output_type": "execute_result",
          "data": {
            "text/plain": [
              "         SNo ObservationDate     Province/State  Country/Region  \\\n",
              "98247  98248      08/29/2020  Zaporizhia Oblast         Ukraine   \n",
              "98248  98249      08/29/2020            Zeeland     Netherlands   \n",
              "98249  98250      08/29/2020           Zhejiang  Mainland China   \n",
              "98250  98251      08/29/2020    Zhytomyr Oblast         Ukraine   \n",
              "98251  98252      08/29/2020       Zuid-Holland     Netherlands   \n",
              "\n",
              "               Last Update  Confirmed  Deaths  Recovered  \n",
              "98247  2020-08-30 04:28:22     1520.0    25.0      883.0  \n",
              "98248  2020-08-30 04:28:22     1048.0    72.0        0.0  \n",
              "98249  2020-08-30 04:28:22     1277.0     1.0     1268.0  \n",
              "98250  2020-08-30 04:28:22     3155.0    61.0     1837.0  \n",
              "98251  2020-08-30 04:28:22    18774.0  1344.0        0.0  "
            ],
            "text/html": [
              "\n",
              "  <div id=\"df-2f327c38-f66d-4167-96ad-c9020c9f2115\">\n",
              "    <div class=\"colab-df-container\">\n",
              "      <div>\n",
              "<style scoped>\n",
              "    .dataframe tbody tr th:only-of-type {\n",
              "        vertical-align: middle;\n",
              "    }\n",
              "\n",
              "    .dataframe tbody tr th {\n",
              "        vertical-align: top;\n",
              "    }\n",
              "\n",
              "    .dataframe thead th {\n",
              "        text-align: right;\n",
              "    }\n",
              "</style>\n",
              "<table border=\"1\" class=\"dataframe\">\n",
              "  <thead>\n",
              "    <tr style=\"text-align: right;\">\n",
              "      <th></th>\n",
              "      <th>SNo</th>\n",
              "      <th>ObservationDate</th>\n",
              "      <th>Province/State</th>\n",
              "      <th>Country/Region</th>\n",
              "      <th>Last Update</th>\n",
              "      <th>Confirmed</th>\n",
              "      <th>Deaths</th>\n",
              "      <th>Recovered</th>\n",
              "    </tr>\n",
              "  </thead>\n",
              "  <tbody>\n",
              "    <tr>\n",
              "      <th>98247</th>\n",
              "      <td>98248</td>\n",
              "      <td>08/29/2020</td>\n",
              "      <td>Zaporizhia Oblast</td>\n",
              "      <td>Ukraine</td>\n",
              "      <td>2020-08-30 04:28:22</td>\n",
              "      <td>1520.0</td>\n",
              "      <td>25.0</td>\n",
              "      <td>883.0</td>\n",
              "    </tr>\n",
              "    <tr>\n",
              "      <th>98248</th>\n",
              "      <td>98249</td>\n",
              "      <td>08/29/2020</td>\n",
              "      <td>Zeeland</td>\n",
              "      <td>Netherlands</td>\n",
              "      <td>2020-08-30 04:28:22</td>\n",
              "      <td>1048.0</td>\n",
              "      <td>72.0</td>\n",
              "      <td>0.0</td>\n",
              "    </tr>\n",
              "    <tr>\n",
              "      <th>98249</th>\n",
              "      <td>98250</td>\n",
              "      <td>08/29/2020</td>\n",
              "      <td>Zhejiang</td>\n",
              "      <td>Mainland China</td>\n",
              "      <td>2020-08-30 04:28:22</td>\n",
              "      <td>1277.0</td>\n",
              "      <td>1.0</td>\n",
              "      <td>1268.0</td>\n",
              "    </tr>\n",
              "    <tr>\n",
              "      <th>98250</th>\n",
              "      <td>98251</td>\n",
              "      <td>08/29/2020</td>\n",
              "      <td>Zhytomyr Oblast</td>\n",
              "      <td>Ukraine</td>\n",
              "      <td>2020-08-30 04:28:22</td>\n",
              "      <td>3155.0</td>\n",
              "      <td>61.0</td>\n",
              "      <td>1837.0</td>\n",
              "    </tr>\n",
              "    <tr>\n",
              "      <th>98251</th>\n",
              "      <td>98252</td>\n",
              "      <td>08/29/2020</td>\n",
              "      <td>Zuid-Holland</td>\n",
              "      <td>Netherlands</td>\n",
              "      <td>2020-08-30 04:28:22</td>\n",
              "      <td>18774.0</td>\n",
              "      <td>1344.0</td>\n",
              "      <td>0.0</td>\n",
              "    </tr>\n",
              "  </tbody>\n",
              "</table>\n",
              "</div>\n",
              "      <button class=\"colab-df-convert\" onclick=\"convertToInteractive('df-2f327c38-f66d-4167-96ad-c9020c9f2115')\"\n",
              "              title=\"Convert this dataframe to an interactive table.\"\n",
              "              style=\"display:none;\">\n",
              "        \n",
              "  <svg xmlns=\"http://www.w3.org/2000/svg\" height=\"24px\"viewBox=\"0 0 24 24\"\n",
              "       width=\"24px\">\n",
              "    <path d=\"M0 0h24v24H0V0z\" fill=\"none\"/>\n",
              "    <path d=\"M18.56 5.44l.94 2.06.94-2.06 2.06-.94-2.06-.94-.94-2.06-.94 2.06-2.06.94zm-11 1L8.5 8.5l.94-2.06 2.06-.94-2.06-.94L8.5 2.5l-.94 2.06-2.06.94zm10 10l.94 2.06.94-2.06 2.06-.94-2.06-.94-.94-2.06-.94 2.06-2.06.94z\"/><path d=\"M17.41 7.96l-1.37-1.37c-.4-.4-.92-.59-1.43-.59-.52 0-1.04.2-1.43.59L10.3 9.45l-7.72 7.72c-.78.78-.78 2.05 0 2.83L4 21.41c.39.39.9.59 1.41.59.51 0 1.02-.2 1.41-.59l7.78-7.78 2.81-2.81c.8-.78.8-2.07 0-2.86zM5.41 20L4 18.59l7.72-7.72 1.47 1.35L5.41 20z\"/>\n",
              "  </svg>\n",
              "      </button>\n",
              "      \n",
              "  <style>\n",
              "    .colab-df-container {\n",
              "      display:flex;\n",
              "      flex-wrap:wrap;\n",
              "      gap: 12px;\n",
              "    }\n",
              "\n",
              "    .colab-df-convert {\n",
              "      background-color: #E8F0FE;\n",
              "      border: none;\n",
              "      border-radius: 50%;\n",
              "      cursor: pointer;\n",
              "      display: none;\n",
              "      fill: #1967D2;\n",
              "      height: 32px;\n",
              "      padding: 0 0 0 0;\n",
              "      width: 32px;\n",
              "    }\n",
              "\n",
              "    .colab-df-convert:hover {\n",
              "      background-color: #E2EBFA;\n",
              "      box-shadow: 0px 1px 2px rgba(60, 64, 67, 0.3), 0px 1px 3px 1px rgba(60, 64, 67, 0.15);\n",
              "      fill: #174EA6;\n",
              "    }\n",
              "\n",
              "    [theme=dark] .colab-df-convert {\n",
              "      background-color: #3B4455;\n",
              "      fill: #D2E3FC;\n",
              "    }\n",
              "\n",
              "    [theme=dark] .colab-df-convert:hover {\n",
              "      background-color: #434B5C;\n",
              "      box-shadow: 0px 1px 3px 1px rgba(0, 0, 0, 0.15);\n",
              "      filter: drop-shadow(0px 1px 2px rgba(0, 0, 0, 0.3));\n",
              "      fill: #FFFFFF;\n",
              "    }\n",
              "  </style>\n",
              "\n",
              "      <script>\n",
              "        const buttonEl =\n",
              "          document.querySelector('#df-2f327c38-f66d-4167-96ad-c9020c9f2115 button.colab-df-convert');\n",
              "        buttonEl.style.display =\n",
              "          google.colab.kernel.accessAllowed ? 'block' : 'none';\n",
              "\n",
              "        async function convertToInteractive(key) {\n",
              "          const element = document.querySelector('#df-2f327c38-f66d-4167-96ad-c9020c9f2115');\n",
              "          const dataTable =\n",
              "            await google.colab.kernel.invokeFunction('convertToInteractive',\n",
              "                                                     [key], {});\n",
              "          if (!dataTable) return;\n",
              "\n",
              "          const docLinkHtml = 'Like what you see? Visit the ' +\n",
              "            '<a target=\"_blank\" href=https://colab.research.google.com/notebooks/data_table.ipynb>data table notebook</a>'\n",
              "            + ' to learn more about interactive tables.';\n",
              "          element.innerHTML = '';\n",
              "          dataTable['output_type'] = 'display_data';\n",
              "          await google.colab.output.renderOutput(dataTable, element);\n",
              "          const docLink = document.createElement('div');\n",
              "          docLink.innerHTML = docLinkHtml;\n",
              "          element.appendChild(docLink);\n",
              "        }\n",
              "      </script>\n",
              "    </div>\n",
              "  </div>\n",
              "  "
            ]
          },
          "metadata": {},
          "execution_count": 8
        }
      ]
    },
    {
      "cell_type": "code",
      "source": [
        "df_covid.tail(10)"
      ],
      "metadata": {
        "colab": {
          "base_uri": "https://localhost:8080/",
          "height": 363
        },
        "id": "IFjWfWc_pmNE",
        "outputId": "6965d6c4-9b8d-4e01-f636-3b5b20df7434"
      },
      "execution_count": 9,
      "outputs": [
        {
          "output_type": "execute_result",
          "data": {
            "text/plain": [
              "         SNo ObservationDate      Province/State  Country/Region  \\\n",
              "98242  98243      08/29/2020               Yukon          Canada   \n",
              "98243  98244      08/29/2020              Yunnan  Mainland China   \n",
              "98244  98245      08/29/2020    Zabaykalsky Krai          Russia   \n",
              "98245  98246      08/29/2020           Zacatecas          Mexico   \n",
              "98246  98247      08/29/2020  Zakarpattia Oblast         Ukraine   \n",
              "98247  98248      08/29/2020   Zaporizhia Oblast         Ukraine   \n",
              "98248  98249      08/29/2020             Zeeland     Netherlands   \n",
              "98249  98250      08/29/2020            Zhejiang  Mainland China   \n",
              "98250  98251      08/29/2020     Zhytomyr Oblast         Ukraine   \n",
              "98251  98252      08/29/2020        Zuid-Holland     Netherlands   \n",
              "\n",
              "               Last Update  Confirmed  Deaths  Recovered  \n",
              "98242  2020-08-30 04:28:22       15.0     0.0       15.0  \n",
              "98243  2020-08-30 04:28:22      199.0     2.0      191.0  \n",
              "98244  2020-08-30 04:28:22     4541.0    56.0     4207.0  \n",
              "98245  2020-08-30 04:28:22     5195.0   470.0     3970.0  \n",
              "98246  2020-08-30 04:28:22     7385.0   259.0     3220.0  \n",
              "98247  2020-08-30 04:28:22     1520.0    25.0      883.0  \n",
              "98248  2020-08-30 04:28:22     1048.0    72.0        0.0  \n",
              "98249  2020-08-30 04:28:22     1277.0     1.0     1268.0  \n",
              "98250  2020-08-30 04:28:22     3155.0    61.0     1837.0  \n",
              "98251  2020-08-30 04:28:22    18774.0  1344.0        0.0  "
            ],
            "text/html": [
              "\n",
              "  <div id=\"df-d031bb99-3715-4bc6-bcce-12ba602a6f6e\">\n",
              "    <div class=\"colab-df-container\">\n",
              "      <div>\n",
              "<style scoped>\n",
              "    .dataframe tbody tr th:only-of-type {\n",
              "        vertical-align: middle;\n",
              "    }\n",
              "\n",
              "    .dataframe tbody tr th {\n",
              "        vertical-align: top;\n",
              "    }\n",
              "\n",
              "    .dataframe thead th {\n",
              "        text-align: right;\n",
              "    }\n",
              "</style>\n",
              "<table border=\"1\" class=\"dataframe\">\n",
              "  <thead>\n",
              "    <tr style=\"text-align: right;\">\n",
              "      <th></th>\n",
              "      <th>SNo</th>\n",
              "      <th>ObservationDate</th>\n",
              "      <th>Province/State</th>\n",
              "      <th>Country/Region</th>\n",
              "      <th>Last Update</th>\n",
              "      <th>Confirmed</th>\n",
              "      <th>Deaths</th>\n",
              "      <th>Recovered</th>\n",
              "    </tr>\n",
              "  </thead>\n",
              "  <tbody>\n",
              "    <tr>\n",
              "      <th>98242</th>\n",
              "      <td>98243</td>\n",
              "      <td>08/29/2020</td>\n",
              "      <td>Yukon</td>\n",
              "      <td>Canada</td>\n",
              "      <td>2020-08-30 04:28:22</td>\n",
              "      <td>15.0</td>\n",
              "      <td>0.0</td>\n",
              "      <td>15.0</td>\n",
              "    </tr>\n",
              "    <tr>\n",
              "      <th>98243</th>\n",
              "      <td>98244</td>\n",
              "      <td>08/29/2020</td>\n",
              "      <td>Yunnan</td>\n",
              "      <td>Mainland China</td>\n",
              "      <td>2020-08-30 04:28:22</td>\n",
              "      <td>199.0</td>\n",
              "      <td>2.0</td>\n",
              "      <td>191.0</td>\n",
              "    </tr>\n",
              "    <tr>\n",
              "      <th>98244</th>\n",
              "      <td>98245</td>\n",
              "      <td>08/29/2020</td>\n",
              "      <td>Zabaykalsky Krai</td>\n",
              "      <td>Russia</td>\n",
              "      <td>2020-08-30 04:28:22</td>\n",
              "      <td>4541.0</td>\n",
              "      <td>56.0</td>\n",
              "      <td>4207.0</td>\n",
              "    </tr>\n",
              "    <tr>\n",
              "      <th>98245</th>\n",
              "      <td>98246</td>\n",
              "      <td>08/29/2020</td>\n",
              "      <td>Zacatecas</td>\n",
              "      <td>Mexico</td>\n",
              "      <td>2020-08-30 04:28:22</td>\n",
              "      <td>5195.0</td>\n",
              "      <td>470.0</td>\n",
              "      <td>3970.0</td>\n",
              "    </tr>\n",
              "    <tr>\n",
              "      <th>98246</th>\n",
              "      <td>98247</td>\n",
              "      <td>08/29/2020</td>\n",
              "      <td>Zakarpattia Oblast</td>\n",
              "      <td>Ukraine</td>\n",
              "      <td>2020-08-30 04:28:22</td>\n",
              "      <td>7385.0</td>\n",
              "      <td>259.0</td>\n",
              "      <td>3220.0</td>\n",
              "    </tr>\n",
              "    <tr>\n",
              "      <th>98247</th>\n",
              "      <td>98248</td>\n",
              "      <td>08/29/2020</td>\n",
              "      <td>Zaporizhia Oblast</td>\n",
              "      <td>Ukraine</td>\n",
              "      <td>2020-08-30 04:28:22</td>\n",
              "      <td>1520.0</td>\n",
              "      <td>25.0</td>\n",
              "      <td>883.0</td>\n",
              "    </tr>\n",
              "    <tr>\n",
              "      <th>98248</th>\n",
              "      <td>98249</td>\n",
              "      <td>08/29/2020</td>\n",
              "      <td>Zeeland</td>\n",
              "      <td>Netherlands</td>\n",
              "      <td>2020-08-30 04:28:22</td>\n",
              "      <td>1048.0</td>\n",
              "      <td>72.0</td>\n",
              "      <td>0.0</td>\n",
              "    </tr>\n",
              "    <tr>\n",
              "      <th>98249</th>\n",
              "      <td>98250</td>\n",
              "      <td>08/29/2020</td>\n",
              "      <td>Zhejiang</td>\n",
              "      <td>Mainland China</td>\n",
              "      <td>2020-08-30 04:28:22</td>\n",
              "      <td>1277.0</td>\n",
              "      <td>1.0</td>\n",
              "      <td>1268.0</td>\n",
              "    </tr>\n",
              "    <tr>\n",
              "      <th>98250</th>\n",
              "      <td>98251</td>\n",
              "      <td>08/29/2020</td>\n",
              "      <td>Zhytomyr Oblast</td>\n",
              "      <td>Ukraine</td>\n",
              "      <td>2020-08-30 04:28:22</td>\n",
              "      <td>3155.0</td>\n",
              "      <td>61.0</td>\n",
              "      <td>1837.0</td>\n",
              "    </tr>\n",
              "    <tr>\n",
              "      <th>98251</th>\n",
              "      <td>98252</td>\n",
              "      <td>08/29/2020</td>\n",
              "      <td>Zuid-Holland</td>\n",
              "      <td>Netherlands</td>\n",
              "      <td>2020-08-30 04:28:22</td>\n",
              "      <td>18774.0</td>\n",
              "      <td>1344.0</td>\n",
              "      <td>0.0</td>\n",
              "    </tr>\n",
              "  </tbody>\n",
              "</table>\n",
              "</div>\n",
              "      <button class=\"colab-df-convert\" onclick=\"convertToInteractive('df-d031bb99-3715-4bc6-bcce-12ba602a6f6e')\"\n",
              "              title=\"Convert this dataframe to an interactive table.\"\n",
              "              style=\"display:none;\">\n",
              "        \n",
              "  <svg xmlns=\"http://www.w3.org/2000/svg\" height=\"24px\"viewBox=\"0 0 24 24\"\n",
              "       width=\"24px\">\n",
              "    <path d=\"M0 0h24v24H0V0z\" fill=\"none\"/>\n",
              "    <path d=\"M18.56 5.44l.94 2.06.94-2.06 2.06-.94-2.06-.94-.94-2.06-.94 2.06-2.06.94zm-11 1L8.5 8.5l.94-2.06 2.06-.94-2.06-.94L8.5 2.5l-.94 2.06-2.06.94zm10 10l.94 2.06.94-2.06 2.06-.94-2.06-.94-.94-2.06-.94 2.06-2.06.94z\"/><path d=\"M17.41 7.96l-1.37-1.37c-.4-.4-.92-.59-1.43-.59-.52 0-1.04.2-1.43.59L10.3 9.45l-7.72 7.72c-.78.78-.78 2.05 0 2.83L4 21.41c.39.39.9.59 1.41.59.51 0 1.02-.2 1.41-.59l7.78-7.78 2.81-2.81c.8-.78.8-2.07 0-2.86zM5.41 20L4 18.59l7.72-7.72 1.47 1.35L5.41 20z\"/>\n",
              "  </svg>\n",
              "      </button>\n",
              "      \n",
              "  <style>\n",
              "    .colab-df-container {\n",
              "      display:flex;\n",
              "      flex-wrap:wrap;\n",
              "      gap: 12px;\n",
              "    }\n",
              "\n",
              "    .colab-df-convert {\n",
              "      background-color: #E8F0FE;\n",
              "      border: none;\n",
              "      border-radius: 50%;\n",
              "      cursor: pointer;\n",
              "      display: none;\n",
              "      fill: #1967D2;\n",
              "      height: 32px;\n",
              "      padding: 0 0 0 0;\n",
              "      width: 32px;\n",
              "    }\n",
              "\n",
              "    .colab-df-convert:hover {\n",
              "      background-color: #E2EBFA;\n",
              "      box-shadow: 0px 1px 2px rgba(60, 64, 67, 0.3), 0px 1px 3px 1px rgba(60, 64, 67, 0.15);\n",
              "      fill: #174EA6;\n",
              "    }\n",
              "\n",
              "    [theme=dark] .colab-df-convert {\n",
              "      background-color: #3B4455;\n",
              "      fill: #D2E3FC;\n",
              "    }\n",
              "\n",
              "    [theme=dark] .colab-df-convert:hover {\n",
              "      background-color: #434B5C;\n",
              "      box-shadow: 0px 1px 3px 1px rgba(0, 0, 0, 0.15);\n",
              "      filter: drop-shadow(0px 1px 2px rgba(0, 0, 0, 0.3));\n",
              "      fill: #FFFFFF;\n",
              "    }\n",
              "  </style>\n",
              "\n",
              "      <script>\n",
              "        const buttonEl =\n",
              "          document.querySelector('#df-d031bb99-3715-4bc6-bcce-12ba602a6f6e button.colab-df-convert');\n",
              "        buttonEl.style.display =\n",
              "          google.colab.kernel.accessAllowed ? 'block' : 'none';\n",
              "\n",
              "        async function convertToInteractive(key) {\n",
              "          const element = document.querySelector('#df-d031bb99-3715-4bc6-bcce-12ba602a6f6e');\n",
              "          const dataTable =\n",
              "            await google.colab.kernel.invokeFunction('convertToInteractive',\n",
              "                                                     [key], {});\n",
              "          if (!dataTable) return;\n",
              "\n",
              "          const docLinkHtml = 'Like what you see? Visit the ' +\n",
              "            '<a target=\"_blank\" href=https://colab.research.google.com/notebooks/data_table.ipynb>data table notebook</a>'\n",
              "            + ' to learn more about interactive tables.';\n",
              "          element.innerHTML = '';\n",
              "          dataTable['output_type'] = 'display_data';\n",
              "          await google.colab.output.renderOutput(dataTable, element);\n",
              "          const docLink = document.createElement('div');\n",
              "          docLink.innerHTML = docLinkHtml;\n",
              "          element.appendChild(docLink);\n",
              "        }\n",
              "      </script>\n",
              "    </div>\n",
              "  </div>\n",
              "  "
            ]
          },
          "metadata": {},
          "execution_count": 9
        }
      ]
    },
    {
      "cell_type": "code",
      "source": [
        "# Mas e se eu quiser ver um pedaço aleatório?\n",
        "df_covid.sample(5)"
      ],
      "metadata": {
        "colab": {
          "base_uri": "https://localhost:8080/",
          "height": 206
        },
        "id": "9snT7w3KpyLo",
        "outputId": "c30b0a53-c661-4871-b0fc-7938d30179e7"
      },
      "execution_count": 10,
      "outputs": [
        {
          "output_type": "execute_result",
          "data": {
            "text/plain": [
              "         SNo ObservationDate                Province/State  Country/Region  \\\n",
              "67561  67562      07/19/2020                 Moscow Oblast          Russia   \n",
              "69617  69618      07/22/2020                         Gansu  Mainland China   \n",
              "87479  87480      08/15/2020                       Huanuco            Peru   \n",
              "64565  64566      07/15/2020                     Los Lagos           Chile   \n",
              "97155  97156      08/28/2020  Kabardino-Balkarian Republic          Russia   \n",
              "\n",
              "               Last Update  Confirmed  Deaths  Recovered  \n",
              "67561  2020-07-20 05:34:40    61743.0  1058.0    43367.0  \n",
              "69617  2020-07-23 05:15:04      167.0     2.0      165.0  \n",
              "87479  2020-08-16 04:27:42     8904.0   285.0        0.0  \n",
              "64565  2020-07-16 04:44:59     2456.0    24.0     1960.0  \n",
              "97155  2020-08-29 04:28:19     6439.0    77.0     6043.0  "
            ],
            "text/html": [
              "\n",
              "  <div id=\"df-09f0311a-effb-4042-adc6-08472193403f\">\n",
              "    <div class=\"colab-df-container\">\n",
              "      <div>\n",
              "<style scoped>\n",
              "    .dataframe tbody tr th:only-of-type {\n",
              "        vertical-align: middle;\n",
              "    }\n",
              "\n",
              "    .dataframe tbody tr th {\n",
              "        vertical-align: top;\n",
              "    }\n",
              "\n",
              "    .dataframe thead th {\n",
              "        text-align: right;\n",
              "    }\n",
              "</style>\n",
              "<table border=\"1\" class=\"dataframe\">\n",
              "  <thead>\n",
              "    <tr style=\"text-align: right;\">\n",
              "      <th></th>\n",
              "      <th>SNo</th>\n",
              "      <th>ObservationDate</th>\n",
              "      <th>Province/State</th>\n",
              "      <th>Country/Region</th>\n",
              "      <th>Last Update</th>\n",
              "      <th>Confirmed</th>\n",
              "      <th>Deaths</th>\n",
              "      <th>Recovered</th>\n",
              "    </tr>\n",
              "  </thead>\n",
              "  <tbody>\n",
              "    <tr>\n",
              "      <th>67561</th>\n",
              "      <td>67562</td>\n",
              "      <td>07/19/2020</td>\n",
              "      <td>Moscow Oblast</td>\n",
              "      <td>Russia</td>\n",
              "      <td>2020-07-20 05:34:40</td>\n",
              "      <td>61743.0</td>\n",
              "      <td>1058.0</td>\n",
              "      <td>43367.0</td>\n",
              "    </tr>\n",
              "    <tr>\n",
              "      <th>69617</th>\n",
              "      <td>69618</td>\n",
              "      <td>07/22/2020</td>\n",
              "      <td>Gansu</td>\n",
              "      <td>Mainland China</td>\n",
              "      <td>2020-07-23 05:15:04</td>\n",
              "      <td>167.0</td>\n",
              "      <td>2.0</td>\n",
              "      <td>165.0</td>\n",
              "    </tr>\n",
              "    <tr>\n",
              "      <th>87479</th>\n",
              "      <td>87480</td>\n",
              "      <td>08/15/2020</td>\n",
              "      <td>Huanuco</td>\n",
              "      <td>Peru</td>\n",
              "      <td>2020-08-16 04:27:42</td>\n",
              "      <td>8904.0</td>\n",
              "      <td>285.0</td>\n",
              "      <td>0.0</td>\n",
              "    </tr>\n",
              "    <tr>\n",
              "      <th>64565</th>\n",
              "      <td>64566</td>\n",
              "      <td>07/15/2020</td>\n",
              "      <td>Los Lagos</td>\n",
              "      <td>Chile</td>\n",
              "      <td>2020-07-16 04:44:59</td>\n",
              "      <td>2456.0</td>\n",
              "      <td>24.0</td>\n",
              "      <td>1960.0</td>\n",
              "    </tr>\n",
              "    <tr>\n",
              "      <th>97155</th>\n",
              "      <td>97156</td>\n",
              "      <td>08/28/2020</td>\n",
              "      <td>Kabardino-Balkarian Republic</td>\n",
              "      <td>Russia</td>\n",
              "      <td>2020-08-29 04:28:19</td>\n",
              "      <td>6439.0</td>\n",
              "      <td>77.0</td>\n",
              "      <td>6043.0</td>\n",
              "    </tr>\n",
              "  </tbody>\n",
              "</table>\n",
              "</div>\n",
              "      <button class=\"colab-df-convert\" onclick=\"convertToInteractive('df-09f0311a-effb-4042-adc6-08472193403f')\"\n",
              "              title=\"Convert this dataframe to an interactive table.\"\n",
              "              style=\"display:none;\">\n",
              "        \n",
              "  <svg xmlns=\"http://www.w3.org/2000/svg\" height=\"24px\"viewBox=\"0 0 24 24\"\n",
              "       width=\"24px\">\n",
              "    <path d=\"M0 0h24v24H0V0z\" fill=\"none\"/>\n",
              "    <path d=\"M18.56 5.44l.94 2.06.94-2.06 2.06-.94-2.06-.94-.94-2.06-.94 2.06-2.06.94zm-11 1L8.5 8.5l.94-2.06 2.06-.94-2.06-.94L8.5 2.5l-.94 2.06-2.06.94zm10 10l.94 2.06.94-2.06 2.06-.94-2.06-.94-.94-2.06-.94 2.06-2.06.94z\"/><path d=\"M17.41 7.96l-1.37-1.37c-.4-.4-.92-.59-1.43-.59-.52 0-1.04.2-1.43.59L10.3 9.45l-7.72 7.72c-.78.78-.78 2.05 0 2.83L4 21.41c.39.39.9.59 1.41.59.51 0 1.02-.2 1.41-.59l7.78-7.78 2.81-2.81c.8-.78.8-2.07 0-2.86zM5.41 20L4 18.59l7.72-7.72 1.47 1.35L5.41 20z\"/>\n",
              "  </svg>\n",
              "      </button>\n",
              "      \n",
              "  <style>\n",
              "    .colab-df-container {\n",
              "      display:flex;\n",
              "      flex-wrap:wrap;\n",
              "      gap: 12px;\n",
              "    }\n",
              "\n",
              "    .colab-df-convert {\n",
              "      background-color: #E8F0FE;\n",
              "      border: none;\n",
              "      border-radius: 50%;\n",
              "      cursor: pointer;\n",
              "      display: none;\n",
              "      fill: #1967D2;\n",
              "      height: 32px;\n",
              "      padding: 0 0 0 0;\n",
              "      width: 32px;\n",
              "    }\n",
              "\n",
              "    .colab-df-convert:hover {\n",
              "      background-color: #E2EBFA;\n",
              "      box-shadow: 0px 1px 2px rgba(60, 64, 67, 0.3), 0px 1px 3px 1px rgba(60, 64, 67, 0.15);\n",
              "      fill: #174EA6;\n",
              "    }\n",
              "\n",
              "    [theme=dark] .colab-df-convert {\n",
              "      background-color: #3B4455;\n",
              "      fill: #D2E3FC;\n",
              "    }\n",
              "\n",
              "    [theme=dark] .colab-df-convert:hover {\n",
              "      background-color: #434B5C;\n",
              "      box-shadow: 0px 1px 3px 1px rgba(0, 0, 0, 0.15);\n",
              "      filter: drop-shadow(0px 1px 2px rgba(0, 0, 0, 0.3));\n",
              "      fill: #FFFFFF;\n",
              "    }\n",
              "  </style>\n",
              "\n",
              "      <script>\n",
              "        const buttonEl =\n",
              "          document.querySelector('#df-09f0311a-effb-4042-adc6-08472193403f button.colab-df-convert');\n",
              "        buttonEl.style.display =\n",
              "          google.colab.kernel.accessAllowed ? 'block' : 'none';\n",
              "\n",
              "        async function convertToInteractive(key) {\n",
              "          const element = document.querySelector('#df-09f0311a-effb-4042-adc6-08472193403f');\n",
              "          const dataTable =\n",
              "            await google.colab.kernel.invokeFunction('convertToInteractive',\n",
              "                                                     [key], {});\n",
              "          if (!dataTable) return;\n",
              "\n",
              "          const docLinkHtml = 'Like what you see? Visit the ' +\n",
              "            '<a target=\"_blank\" href=https://colab.research.google.com/notebooks/data_table.ipynb>data table notebook</a>'\n",
              "            + ' to learn more about interactive tables.';\n",
              "          element.innerHTML = '';\n",
              "          dataTable['output_type'] = 'display_data';\n",
              "          await google.colab.output.renderOutput(dataTable, element);\n",
              "          const docLink = document.createElement('div');\n",
              "          docLink.innerHTML = docLinkHtml;\n",
              "          element.appendChild(docLink);\n",
              "        }\n",
              "      </script>\n",
              "    </div>\n",
              "  </div>\n",
              "  "
            ]
          },
          "metadata": {},
          "execution_count": 10
        }
      ]
    },
    {
      "cell_type": "markdown",
      "source": [
        "# Resumão\n",
        "\n",
        "Para inspecionar um DataFrame, procure usar __sempre__ os seguintes comandos na seguinte ordem:\n",
        "* `.info()`\n",
        "* `.head()` - 5 é o padrão\n",
        "* `.tail()` - 5 é o padrão\n",
        "* `.sample(5)` - deve-se especificar a quantidade"
      ],
      "metadata": {
        "id": "25lbk_cBq-_W"
      }
    },
    {
      "cell_type": "markdown",
      "source": [
        "# Atividade para treinar os conceitos\n",
        "\n",
        "1. Carregar cada um dos Datasets disponíveis no endereço [http://www.edsonmelo.com.br/datasets](http://www.edsonmelo.com.br/datasets) em variáveis diferentes.\n",
        "2. Aplicar a inspeção do DataFrame para cada um dos Datasets.\n"
      ],
      "metadata": {
        "id": "g1XkCXlWruaX"
      }
    },
    {
      "cell_type": "code",
      "source": [
        "import pandas as pd"
      ],
      "metadata": {
        "id": "C8-Fhk5mu-_I"
      },
      "execution_count": 12,
      "outputs": []
    },
    {
      "cell_type": "code",
      "source": [
        "df_petra = pd.read_csv(\"http://www.edsonmelo.com.br/datasets/PETR4.csv\")\n",
        "df_byline = pd.read_excel(\"http://www.edsonmelo.com.br/datasets/byline2.xlsx\")\n",
        "df_coronaLimpo = pd.read_csv(\"http://www.edsonmelo.com.br/datasets/corona_limpo.csv\")\n",
        "df_countriesOfWorld = pd.read_csv(\"http://www.edsonmelo.com.br/datasets/countries%20of%20the%20world.csv\")\n",
        "df_dadosAlunos = pd.read_csv(\"http://www.edsonmelo.com.br/datasets/dados_alunos.csv\")\n",
        "df_dadosLimpos = pd.read_csv(\"http://www.edsonmelo.com.br/datasets/dados_limpos.csv\")\n",
        "df_imoveisData = pd.read_csv(\"http://www.edsonmelo.com.br/datasets/imoveis_data.csv\")\n",
        "df_indiceAlunos = pd.read_excel(\"http://www.edsonmelo.com.br/datasets/indice_alunos.xlsx\")\n",
        "df_mtcars = pd.read_csv(\"http://www.edsonmelo.com.br/datasets/mtcars.csv\")\n",
        "df_notas = pd.read_csv(\"http://www.edsonmelo.com.br/datasets/notas.csv\")\n",
        "df_notasAlunos = pd.read_csv(\"http://www.edsonmelo.com.br/datasets/notas_alunos.csv\")\n",
        "df_pesquisaAgrupada = pd.read_csv(\"http://www.edsonmelo.com.br/datasets/pesquisa_agrupada.csv\")\n",
        "df_pesquisaAFS = pd.read_csv(\"http://www.edsonmelo.com.br/datasets/pesquisa_agrupada_filtro_status.csv\")\n",
        "df_pesquisaCompleta = pd.read_csv(\"http://www.edsonmelo.com.br/datasets/pesquisa_completa.csv\")"
      ],
      "metadata": {
        "id": "d9pBhuhlqCZz"
      },
      "execution_count": 16,
      "outputs": []
    },
    {
      "cell_type": "code",
      "source": [
        "df_petra.info()"
      ],
      "metadata": {
        "colab": {
          "base_uri": "https://localhost:8080/"
        },
        "id": "FgwLVIrOv1KW",
        "outputId": "2f29fd09-61b5-4fc0-dd49-684e63eb6583"
      },
      "execution_count": 17,
      "outputs": [
        {
          "output_type": "stream",
          "name": "stdout",
          "text": [
            "<class 'pandas.core.frame.DataFrame'>\n",
            "RangeIndex: 1599 entries, 0 to 1598\n",
            "Data columns (total 7 columns):\n",
            " #   Column     Non-Null Count  Dtype  \n",
            "---  ------     --------------  -----  \n",
            " 0   Date       1599 non-null   object \n",
            " 1   Open       1599 non-null   float64\n",
            " 2   High       1599 non-null   float64\n",
            " 3   Low        1599 non-null   float64\n",
            " 4   Close      1599 non-null   float64\n",
            " 5   Adj Close  1599 non-null   float64\n",
            " 6   Volume     1599 non-null   int64  \n",
            "dtypes: float64(5), int64(1), object(1)\n",
            "memory usage: 87.6+ KB\n"
          ]
        }
      ]
    },
    {
      "cell_type": "code",
      "source": [
        "df_byline.info()"
      ],
      "metadata": {
        "colab": {
          "base_uri": "https://localhost:8080/"
        },
        "id": "T3GpWd1NwBhF",
        "outputId": "5f9493f8-8481-4df0-9d66-11d77473a7a0"
      },
      "execution_count": 18,
      "outputs": [
        {
          "output_type": "stream",
          "name": "stdout",
          "text": [
            "<class 'pandas.core.frame.DataFrame'>\n",
            "RangeIndex: 20097 entries, 0 to 20096\n",
            "Data columns (total 7 columns):\n",
            " #   Column               Non-Null Count  Dtype  \n",
            "---  ------               --------------  -----  \n",
            " 0   au_total_in_article  20097 non-null  int64  \n",
            " 1   au_author_byline     20097 non-null  float64\n",
            " 2   au_author_position   20097 non-null  int64  \n",
            " 3   theory               20097 non-null  float64\n",
            " 4   methodology          20097 non-null  float64\n",
            " 5   logistic             20097 non-null  float64\n",
            " 6   au_h_index           20095 non-null  float64\n",
            "dtypes: float64(5), int64(2)\n",
            "memory usage: 1.1 MB\n"
          ]
        }
      ]
    },
    {
      "cell_type": "code",
      "source": [
        "df_coronaLimpo.info()"
      ],
      "metadata": {
        "colab": {
          "base_uri": "https://localhost:8080/"
        },
        "id": "OqDLLgdUwCs0",
        "outputId": "374ff98a-6c50-40ec-a219-f439f0884981"
      },
      "execution_count": 19,
      "outputs": [
        {
          "output_type": "stream",
          "name": "stdout",
          "text": [
            "<class 'pandas.core.frame.DataFrame'>\n",
            "RangeIndex: 223 entries, 0 to 222\n",
            "Data columns (total 28 columns):\n",
            " #   Column                              Non-Null Count  Dtype  \n",
            "---  ------                              --------------  -----  \n",
            " 0   ObservationDate                     223 non-null    object \n",
            " 1   Country/Region                      223 non-null    object \n",
            " 2   Last Update                         223 non-null    object \n",
            " 3   Confirmed                           223 non-null    float64\n",
            " 4   Deaths                              223 non-null    float64\n",
            " 5   Recovered                           223 non-null    float64\n",
            " 6   Confirmed + Deaths                  223 non-null    float64\n",
            " 7   Death by Cases                      212 non-null    float64\n",
            " 8   Country                             187 non-null    object \n",
            " 9   Region                              187 non-null    object \n",
            " 10  Population                          187 non-null    float64\n",
            " 11  Area (sq. mi.)                      187 non-null    float64\n",
            " 12  Pop. Density (per sq. mi.)          187 non-null    float64\n",
            " 13  Coastline (coast/area ratio)        187 non-null    float64\n",
            " 14  Net migration                       186 non-null    float64\n",
            " 15  Infant mortality (per 1000 births)  186 non-null    float64\n",
            " 16  GDP ($ per capita)                  186 non-null    float64\n",
            " 17  Literacy (%)                        179 non-null    float64\n",
            " 18  Phones (per 1000)                   184 non-null    float64\n",
            " 19  Arable (%)                          185 non-null    float64\n",
            " 20  Crops (%)                           185 non-null    float64\n",
            " 21  Other (%)                           185 non-null    float64\n",
            " 22  Climate                             167 non-null    float64\n",
            " 23  Birthrate                           185 non-null    float64\n",
            " 24  Deathrate                           185 non-null    float64\n",
            " 25  Agriculture                         180 non-null    float64\n",
            " 26  Industry                            179 non-null    float64\n",
            " 27  Service                             180 non-null    float64\n",
            "dtypes: float64(23), object(5)\n",
            "memory usage: 48.9+ KB\n"
          ]
        }
      ]
    },
    {
      "cell_type": "code",
      "source": [
        "df_countriesOfWorld.info()"
      ],
      "metadata": {
        "colab": {
          "base_uri": "https://localhost:8080/"
        },
        "id": "ASkLqIuSwEVs",
        "outputId": "b088ad8c-8ab7-45ef-aa41-69c884afb1fb"
      },
      "execution_count": 20,
      "outputs": [
        {
          "output_type": "stream",
          "name": "stdout",
          "text": [
            "<class 'pandas.core.frame.DataFrame'>\n",
            "RangeIndex: 227 entries, 0 to 226\n",
            "Data columns (total 20 columns):\n",
            " #   Column                              Non-Null Count  Dtype \n",
            "---  ------                              --------------  ----- \n",
            " 0   Country                             227 non-null    object\n",
            " 1   Region                              227 non-null    object\n",
            " 2   Population                          227 non-null    int64 \n",
            " 3   Area (sq. mi.)                      227 non-null    int64 \n",
            " 4   Pop. Density (per sq. mi.)          227 non-null    object\n",
            " 5   Coastline (coast/area ratio)        227 non-null    object\n",
            " 6   Net migration                       224 non-null    object\n",
            " 7   Infant mortality (per 1000 births)  224 non-null    object\n",
            " 8   GDP ($ per capita)                  226 non-null    object\n",
            " 9   Literacy (%)                        209 non-null    object\n",
            " 10  Phones (per 1000)                   223 non-null    object\n",
            " 11  Arable (%)                          225 non-null    object\n",
            " 12  Crops (%)                           225 non-null    object\n",
            " 13  Other (%)                           225 non-null    object\n",
            " 14  Climate                             205 non-null    object\n",
            " 15  Birthrate                           224 non-null    object\n",
            " 16  Deathrate                           223 non-null    object\n",
            " 17  Agriculture                         212 non-null    object\n",
            " 18  Industry                            211 non-null    object\n",
            " 19  Service                             212 non-null    object\n",
            "dtypes: int64(2), object(18)\n",
            "memory usage: 35.6+ KB\n"
          ]
        }
      ]
    },
    {
      "cell_type": "code",
      "source": [
        "df_dadosAlunos.info()"
      ],
      "metadata": {
        "colab": {
          "base_uri": "https://localhost:8080/"
        },
        "id": "PAN-r23swFmO",
        "outputId": "49fe1fdb-4536-4ffb-c95f-e261d4f2714f"
      },
      "execution_count": 21,
      "outputs": [
        {
          "output_type": "stream",
          "name": "stdout",
          "text": [
            "<class 'pandas.core.frame.DataFrame'>\n",
            "RangeIndex: 24456 entries, 0 to 24455\n",
            "Data columns (total 6 columns):\n",
            " #   Column         Non-Null Count  Dtype \n",
            "---  ------         --------------  ----- \n",
            " 0   id             24456 non-null  int64 \n",
            " 1   identificador  24456 non-null  object\n",
            " 2   cursosem       24456 non-null  object\n",
            " 3   modalidade     24444 non-null  object\n",
            " 4   bolsista       24456 non-null  object\n",
            " 5   chipvivo       24456 non-null  int64 \n",
            "dtypes: int64(2), object(4)\n",
            "memory usage: 1.1+ MB\n"
          ]
        }
      ]
    },
    {
      "cell_type": "code",
      "source": [
        "df_dadosLimpos.info()"
      ],
      "metadata": {
        "colab": {
          "base_uri": "https://localhost:8080/"
        },
        "id": "q1IwYx_LwH1w",
        "outputId": "53a2b9c6-b408-44ae-96c2-e2d26b1b6daf"
      },
      "execution_count": 22,
      "outputs": [
        {
          "output_type": "stream",
          "name": "stdout",
          "text": [
            "<class 'pandas.core.frame.DataFrame'>\n",
            "RangeIndex: 24456 entries, 0 to 24455\n",
            "Data columns (total 9 columns):\n",
            " #   Column      Non-Null Count  Dtype \n",
            "---  ------      --------------  ----- \n",
            " 0   matricula   24456 non-null  object\n",
            " 1   bolsista    24456 non-null  object\n",
            " 2   ingresso    24456 non-null  int64 \n",
            " 3   campus      24456 non-null  object\n",
            " 4   curso       24456 non-null  object\n",
            " 5   semestre    24456 non-null  int64 \n",
            " 6   modalidade  24456 non-null  object\n",
            " 7   estrutura   24456 non-null  object\n",
            " 8   chipvivo    24456 non-null  int64 \n",
            "dtypes: int64(3), object(6)\n",
            "memory usage: 1.7+ MB\n"
          ]
        }
      ]
    },
    {
      "cell_type": "code",
      "source": [
        "df_imoveisData.info()"
      ],
      "metadata": {
        "colab": {
          "base_uri": "https://localhost:8080/"
        },
        "id": "bW9b8hkVwI_4",
        "outputId": "d40f77b0-9966-463b-f1d9-f3e97c7d006b"
      },
      "execution_count": 23,
      "outputs": [
        {
          "output_type": "stream",
          "name": "stdout",
          "text": [
            "<class 'pandas.core.frame.DataFrame'>\n",
            "RangeIndex: 13580 entries, 0 to 13579\n",
            "Data columns (total 21 columns):\n",
            " #   Column         Non-Null Count  Dtype  \n",
            "---  ------         --------------  -----  \n",
            " 0   Suburb         13580 non-null  object \n",
            " 1   Address        13580 non-null  object \n",
            " 2   Rooms          13580 non-null  int64  \n",
            " 3   Type           13580 non-null  object \n",
            " 4   Price          13580 non-null  float64\n",
            " 5   Method         13580 non-null  object \n",
            " 6   SellerG        13580 non-null  object \n",
            " 7   Date           13580 non-null  object \n",
            " 8   Distance       13580 non-null  float64\n",
            " 9   Postcode       13580 non-null  float64\n",
            " 10  Bedroom2       13580 non-null  float64\n",
            " 11  Bathroom       13580 non-null  float64\n",
            " 12  Car            13518 non-null  float64\n",
            " 13  Landsize       13580 non-null  float64\n",
            " 14  BuildingArea   7130 non-null   float64\n",
            " 15  YearBuilt      8205 non-null   float64\n",
            " 16  CouncilArea    12211 non-null  object \n",
            " 17  Lattitude      13580 non-null  float64\n",
            " 18  Longtitude     13580 non-null  float64\n",
            " 19  Regionname     13580 non-null  object \n",
            " 20  Propertycount  13580 non-null  float64\n",
            "dtypes: float64(12), int64(1), object(8)\n",
            "memory usage: 2.2+ MB\n"
          ]
        }
      ]
    },
    {
      "cell_type": "code",
      "source": [
        "df_indiceAlunos.info()"
      ],
      "metadata": {
        "colab": {
          "base_uri": "https://localhost:8080/"
        },
        "id": "WcV5T5oHwK8Y",
        "outputId": "350495e2-ece9-4a1d-b0a8-8efe231253d7"
      },
      "execution_count": 24,
      "outputs": [
        {
          "output_type": "stream",
          "name": "stdout",
          "text": [
            "<class 'pandas.core.frame.DataFrame'>\n",
            "RangeIndex: 50 entries, 0 to 49\n",
            "Data columns (total 6 columns):\n",
            " #   Column   Non-Null Count  Dtype  \n",
            "---  ------   --------------  -----  \n",
            " 0   Nome     50 non-null     object \n",
            " 1   Indice1  50 non-null     float64\n",
            " 2   Indice2  50 non-null     float64\n",
            " 3   Indice3  50 non-null     float64\n",
            " 4   Indice4  50 non-null     float64\n",
            " 5   Indice5  50 non-null     float64\n",
            "dtypes: float64(5), object(1)\n",
            "memory usage: 2.5+ KB\n"
          ]
        }
      ]
    },
    {
      "cell_type": "code",
      "source": [
        "df_mtcars.info()"
      ],
      "metadata": {
        "colab": {
          "base_uri": "https://localhost:8080/"
        },
        "id": "DLGllxGYwLuJ",
        "outputId": "33868a6f-a244-40c0-fb83-1cf668bded64"
      },
      "execution_count": 25,
      "outputs": [
        {
          "output_type": "stream",
          "name": "stdout",
          "text": [
            "<class 'pandas.core.frame.DataFrame'>\n",
            "RangeIndex: 32 entries, 0 to 31\n",
            "Data columns (total 12 columns):\n",
            " #   Column  Non-Null Count  Dtype  \n",
            "---  ------  --------------  -----  \n",
            " 0   model   32 non-null     object \n",
            " 1   mpg     32 non-null     float64\n",
            " 2   cyl     32 non-null     int64  \n",
            " 3   disp    32 non-null     float64\n",
            " 4   hp      32 non-null     int64  \n",
            " 5   drat    32 non-null     float64\n",
            " 6   wt      32 non-null     float64\n",
            " 7   qsec    32 non-null     float64\n",
            " 8   vs      32 non-null     int64  \n",
            " 9   am      32 non-null     int64  \n",
            " 10  gear    32 non-null     int64  \n",
            " 11  carb    32 non-null     int64  \n",
            "dtypes: float64(5), int64(6), object(1)\n",
            "memory usage: 3.1+ KB\n"
          ]
        }
      ]
    },
    {
      "cell_type": "code",
      "source": [
        "df_notas.info()"
      ],
      "metadata": {
        "colab": {
          "base_uri": "https://localhost:8080/"
        },
        "id": "G-2iXnRDwMrJ",
        "outputId": "2bf2fef1-cc2e-4dd5-b9fa-bfad4086b851"
      },
      "execution_count": 26,
      "outputs": [
        {
          "output_type": "stream",
          "name": "stdout",
          "text": [
            "<class 'pandas.core.frame.DataFrame'>\n",
            "RangeIndex: 49 entries, 0 to 48\n",
            "Data columns (total 6 columns):\n",
            " #   Column        Non-Null Count  Dtype  \n",
            "---  ------        --------------  -----  \n",
            " 0   Abel Marques  49 non-null     object \n",
            " 1   3.78          49 non-null     float64\n",
            " 2   9.00          49 non-null     float64\n",
            " 3   2.00          49 non-null     float64\n",
            " 4   3.00          49 non-null     float64\n",
            " 5   9.00.1        49 non-null     float64\n",
            "dtypes: float64(5), object(1)\n",
            "memory usage: 2.4+ KB\n"
          ]
        }
      ]
    },
    {
      "cell_type": "code",
      "source": [
        "df_notasAlunos.info()"
      ],
      "metadata": {
        "colab": {
          "base_uri": "https://localhost:8080/"
        },
        "id": "I9L6mhA2wNxp",
        "outputId": "8f47ce63-2196-411e-e8cf-22ed8b04179a"
      },
      "execution_count": 27,
      "outputs": [
        {
          "output_type": "stream",
          "name": "stdout",
          "text": [
            "<class 'pandas.core.frame.DataFrame'>\n",
            "RangeIndex: 50 entries, 0 to 49\n",
            "Data columns (total 6 columns):\n",
            " #   Column  Non-Null Count  Dtype  \n",
            "---  ------  --------------  -----  \n",
            " 0   Nome    50 non-null     object \n",
            " 1   Nota1   50 non-null     float64\n",
            " 2   Nota2   50 non-null     float64\n",
            " 3   Nota3   50 non-null     float64\n",
            " 4   Nota4   50 non-null     float64\n",
            " 5   Nota5   50 non-null     float64\n",
            "dtypes: float64(5), object(1)\n",
            "memory usage: 2.5+ KB\n"
          ]
        }
      ]
    },
    {
      "cell_type": "code",
      "source": [
        "df_pesquisaAgrupada.info()"
      ],
      "metadata": {
        "colab": {
          "base_uri": "https://localhost:8080/"
        },
        "id": "Tf66xNjDwO7B",
        "outputId": "dfb8790b-610b-4088-eb15-ab224a692cf9"
      },
      "execution_count": 28,
      "outputs": [
        {
          "output_type": "stream",
          "name": "stdout",
          "text": [
            "<class 'pandas.core.frame.DataFrame'>\n",
            "RangeIndex: 1672 entries, 0 to 1671\n",
            "Data columns (total 12 columns):\n",
            " #   Column            Non-Null Count  Dtype  \n",
            "---  ------            --------------  -----  \n",
            " 0   status_saude      1672 non-null   int64  \n",
            " 1   sexo              1672 non-null   int64  \n",
            " 2   idade             1672 non-null   int64  \n",
            " 3   imc               1672 non-null   float64\n",
            " 4   fumante           1672 non-null   int64  \n",
            " 5   ingere_alcool     1672 non-null   int64  \n",
            " 6   ingestao_fvl      1672 non-null   int64  \n",
            " 7   atividade_fisica  1672 non-null   int64  \n",
            " 8   horas_sono        1672 non-null   int64  \n",
            " 9   doenca_familia    1672 non-null   int64  \n",
            " 10  doenca_pessoal    1672 non-null   int64  \n",
            " 11  dores             1672 non-null   int64  \n",
            "dtypes: float64(1), int64(11)\n",
            "memory usage: 156.9 KB\n"
          ]
        }
      ]
    },
    {
      "cell_type": "code",
      "source": [
        "df_pesquisaAFS.info()"
      ],
      "metadata": {
        "colab": {
          "base_uri": "https://localhost:8080/"
        },
        "id": "6i_NdJjNwQjR",
        "outputId": "73f61cd0-6b6f-4a3a-bb06-99d330936fa5"
      },
      "execution_count": 29,
      "outputs": [
        {
          "output_type": "stream",
          "name": "stdout",
          "text": [
            "<class 'pandas.core.frame.DataFrame'>\n",
            "RangeIndex: 450 entries, 0 to 449\n",
            "Data columns (total 12 columns):\n",
            " #   Column            Non-Null Count  Dtype  \n",
            "---  ------            --------------  -----  \n",
            " 0   status_saude      450 non-null    int64  \n",
            " 1   sexo              450 non-null    int64  \n",
            " 2   idade             450 non-null    int64  \n",
            " 3   imc               450 non-null    float64\n",
            " 4   fumante           450 non-null    int64  \n",
            " 5   ingere_alcool     450 non-null    int64  \n",
            " 6   ingestao_fvl      450 non-null    int64  \n",
            " 7   atividade_fisica  450 non-null    int64  \n",
            " 8   horas_sono        450 non-null    int64  \n",
            " 9   doenca_familia    450 non-null    int64  \n",
            " 10  doenca_pessoal    450 non-null    int64  \n",
            " 11  dores             450 non-null    int64  \n",
            "dtypes: float64(1), int64(11)\n",
            "memory usage: 42.3 KB\n"
          ]
        }
      ]
    },
    {
      "cell_type": "code",
      "source": [
        "df_pesquisaCompleta.info()"
      ],
      "metadata": {
        "colab": {
          "base_uri": "https://localhost:8080/"
        },
        "id": "Tf3Q3fmBwSMx",
        "outputId": "28205792-a9ce-4226-fb92-d9e33921af7d"
      },
      "execution_count": 30,
      "outputs": [
        {
          "output_type": "stream",
          "name": "stdout",
          "text": [
            "<class 'pandas.core.frame.DataFrame'>\n",
            "RangeIndex: 1672 entries, 0 to 1671\n",
            "Data columns (total 41 columns):\n",
            " #   Column             Non-Null Count  Dtype  \n",
            "---  ------             --------------  -----  \n",
            " 0   status_saude       1672 non-null   int64  \n",
            " 1   sexo               1672 non-null   int64  \n",
            " 2   idade              1672 non-null   int64  \n",
            " 3   peso               1672 non-null   int64  \n",
            " 4   altura             1672 non-null   int64  \n",
            " 5   imc                1672 non-null   float64\n",
            " 6   fumante            1672 non-null   int64  \n",
            " 7   ingere_alcool      1672 non-null   int64  \n",
            " 8   ingestao_fvl       1672 non-null   int64  \n",
            " 9   atividade_fisica   1672 non-null   int64  \n",
            " 10  horas_sono         1672 non-null   int64  \n",
            " 11  doenca_familia_1   1672 non-null   int64  \n",
            " 12  doenca_familia_2   1672 non-null   int64  \n",
            " 13  doenca_familia_3   1672 non-null   int64  \n",
            " 14  doenca_familia_4   1672 non-null   int64  \n",
            " 15  doenca_familia_5   1672 non-null   int64  \n",
            " 16  doenca_familia_6   1672 non-null   int64  \n",
            " 17  doenca_familia_7   1672 non-null   int64  \n",
            " 18  doenca_familia_8   1672 non-null   int64  \n",
            " 19  doenca_pessoal_1   1672 non-null   int64  \n",
            " 20  doenca_pessoal_2   1672 non-null   int64  \n",
            " 21  doenca_pessoal_3   1672 non-null   int64  \n",
            " 22  doenca_pessoal_4   1672 non-null   int64  \n",
            " 23  doenca_pessoal_5   1672 non-null   int64  \n",
            " 24  doenca_pessoal_6   1672 non-null   int64  \n",
            " 25  doenca_pessoal_7   1672 non-null   int64  \n",
            " 26  doenca_pessoal_8   1672 non-null   int64  \n",
            " 27  doenca_pessoal_9   1672 non-null   int64  \n",
            " 28  doenca_pessoal_10  1672 non-null   int64  \n",
            " 29  doenca_pessoal_11  1672 non-null   int64  \n",
            " 30  doenca_pessoal_12  1672 non-null   int64  \n",
            " 31  doenca_pessoal_13  1672 non-null   int64  \n",
            " 32  dores_1            1672 non-null   int64  \n",
            " 33  dores_2            1672 non-null   int64  \n",
            " 34  dores_3            1672 non-null   int64  \n",
            " 35  dores_4            1672 non-null   int64  \n",
            " 36  dores_5            1672 non-null   int64  \n",
            " 37  dores_6            1672 non-null   int64  \n",
            " 38  dores_7            1672 non-null   int64  \n",
            " 39  dores_8            1672 non-null   int64  \n",
            " 40  dores_9            1672 non-null   int64  \n",
            "dtypes: float64(1), int64(40)\n",
            "memory usage: 535.7 KB\n"
          ]
        }
      ]
    }
  ]
}