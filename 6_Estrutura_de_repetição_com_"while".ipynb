{
  "nbformat": 4,
  "nbformat_minor": 0,
  "metadata": {
    "colab": {
      "name": "6-Estrutura de repetição com \"while\".ipynb",
      "provenance": [],
      "collapsed_sections": [],
      "authorship_tag": "ABX9TyOksVpLxqmUS5m7UtZ+TGyw",
      "include_colab_link": true
    },
    "kernelspec": {
      "name": "python3",
      "display_name": "Python 3"
    },
    "language_info": {
      "name": "python"
    }
  },
  "cells": [
    {
      "cell_type": "markdown",
      "metadata": {
        "id": "view-in-github",
        "colab_type": "text"
      },
      "source": [
        "<a href=\"https://colab.research.google.com/github/isacNepo/aulas_faculdade/blob/master/6_Estrutura_de_repeti%C3%A7%C3%A3o_com_%22while%22.ipynb\" target=\"_parent\"><img src=\"https://colab.research.google.com/assets/colab-badge.svg\" alt=\"Open In Colab\"/></a>"
      ]
    },
    {
      "cell_type": "markdown",
      "source": [
        "#Estrutura de repetição com WHILE"
      ],
      "metadata": {
        "id": "R0BHHz89KkcR"
      }
    },
    {
      "cell_type": "code",
      "source": [
        "n = 1\n",
        "while n <= 10:\n",
        "  print(n)\n",
        "  n += 1 #é o mesmo que n = n + 1"
      ],
      "metadata": {
        "colab": {
          "base_uri": "https://localhost:8080/"
        },
        "id": "i_hKEddSKrQB",
        "outputId": "eeb595ab-7533-4d9f-f5ed-4304f6a86a7b"
      },
      "execution_count": 2,
      "outputs": [
        {
          "output_type": "stream",
          "name": "stdout",
          "text": [
            "1\n",
            "2\n",
            "3\n",
            "4\n",
            "5\n",
            "6\n",
            "7\n",
            "8\n",
            "9\n",
            "10\n"
          ]
        }
      ]
    },
    {
      "cell_type": "code",
      "source": [
        "n = 10\n",
        "while n >= 0:\n",
        "  print(n)\n",
        "  n -= 1"
      ],
      "metadata": {
        "colab": {
          "base_uri": "https://localhost:8080/"
        },
        "id": "WIp9wUWkLO9J",
        "outputId": "0aae6860-68eb-4bda-8e0c-2f6046ec291b"
      },
      "execution_count": 5,
      "outputs": [
        {
          "output_type": "stream",
          "name": "stdout",
          "text": [
            "10\n",
            "9\n",
            "8\n",
            "7\n",
            "6\n",
            "5\n",
            "4\n",
            "3\n",
            "2\n",
            "1\n",
            "0\n"
          ]
        }
      ]
    },
    {
      "cell_type": "code",
      "source": [
        "soma = 0\n",
        "n = 1\n",
        "while n <= 6:\n",
        "  soma += n\n",
        "  n += 1\n",
        "print(soma)"
      ],
      "metadata": {
        "colab": {
          "base_uri": "https://localhost:8080/"
        },
        "id": "Fq1VodR_LZ6h",
        "outputId": "80c61a22-398d-457f-b657-854e5e5b1cf3"
      },
      "execution_count": 6,
      "outputs": [
        {
          "output_type": "stream",
          "name": "stdout",
          "text": [
            "21\n"
          ]
        }
      ]
    },
    {
      "cell_type": "code",
      "source": [
        "x = 13\n",
        "while x < 1 or x > 10:\n",
        "  x = int(input('Digite um valor de 1 a 10: '))"
      ],
      "metadata": {
        "colab": {
          "base_uri": "https://localhost:8080/"
        },
        "id": "POZL7TZkLrNY",
        "outputId": "5ca479f0-9fd3-40fb-869a-9c918ad95515"
      },
      "execution_count": 7,
      "outputs": [
        {
          "name": "stdout",
          "output_type": "stream",
          "text": [
            "Digite um valor de 1 a 10: 12\n",
            "Digite um valor de 1 a 10: 444\n",
            "Digite um valor de 1 a 10: 54\n",
            "Digite um valor de 1 a 10: 2\n"
          ]
        }
      ]
    },
    {
      "cell_type": "markdown",
      "source": [
        "#Execicios de fixação"
      ],
      "metadata": {
        "id": "QzvtVsngMiRq"
      }
    },
    {
      "cell_type": "markdown",
      "source": [
        "1. Ler 6 notas e informar a média"
      ],
      "metadata": {
        "id": "_o2HX9-oNbF6"
      }
    },
    {
      "cell_type": "code",
      "source": [
        "nota = 0\n",
        "media = 0\n",
        "soma = 0"
      ],
      "metadata": {
        "id": "3msnwhb-Mp8B"
      },
      "execution_count": 8,
      "outputs": []
    },
    {
      "cell_type": "code",
      "source": [
        "for _ in range(1, 7):\n",
        "  nota = float(input('Informe a nota: '))\n",
        "  soma += nota"
      ],
      "metadata": {
        "colab": {
          "base_uri": "https://localhost:8080/"
        },
        "id": "9h3F-AnGNlQT",
        "outputId": "6e9dc860-7c51-4ca5-9f37-27dbbaebc673"
      },
      "execution_count": 9,
      "outputs": [
        {
          "name": "stdout",
          "output_type": "stream",
          "text": [
            "Informe a nota: 10\n",
            "Informe a nota: 2\n",
            "Informe a nota: 8\n",
            "Informe a nota: 4\n",
            "Informe a nota: 9\n",
            "Informe a nota: 8\n"
          ]
        }
      ]
    },
    {
      "cell_type": "code",
      "source": [
        "print(soma)"
      ],
      "metadata": {
        "colab": {
          "base_uri": "https://localhost:8080/"
        },
        "id": "Ft0Lcj5GN2vJ",
        "outputId": "f73dd24e-bb0e-4c2d-d03e-090ea20e76ef"
      },
      "execution_count": 10,
      "outputs": [
        {
          "output_type": "stream",
          "name": "stdout",
          "text": [
            "41.0\n"
          ]
        }
      ]
    },
    {
      "cell_type": "code",
      "source": [
        "media = soma / 6\n",
        "print('A média é de: ', media)"
      ],
      "metadata": {
        "colab": {
          "base_uri": "https://localhost:8080/"
        },
        "id": "ULRA7znhN47R",
        "outputId": "a40246b9-b4fd-4497-a7a1-e49e765b90f4"
      },
      "execution_count": 11,
      "outputs": [
        {
          "output_type": "stream",
          "name": "stdout",
          "text": [
            "A média é de:  6.833333333333333\n"
          ]
        }
      ]
    },
    {
      "cell_type": "markdown",
      "source": [
        "2. tabuada"
      ],
      "metadata": {
        "id": "27bpF0NRPXBT"
      }
    },
    {
      "cell_type": "code",
      "source": [
        "taboada = int(input('Qual taboada voce quer? '))\n",
        "for i in range(1, 11):\n",
        "  print('{} X {} = {}'.format(taboada, i, taboada * i))"
      ],
      "metadata": {
        "colab": {
          "base_uri": "https://localhost:8080/"
        },
        "id": "nDGi-fDUPdWz",
        "outputId": "5b8927c7-0d2f-44f5-a17b-6744f918dea6"
      },
      "execution_count": 12,
      "outputs": [
        {
          "output_type": "stream",
          "name": "stdout",
          "text": [
            "Qual taboada voce quer? 5\n",
            "5 X 1 = 5\n",
            "5 X 2 = 10\n",
            "5 X 3 = 15\n",
            "5 X 4 = 20\n",
            "5 X 5 = 25\n",
            "5 X 6 = 30\n",
            "5 X 7 = 35\n",
            "5 X 8 = 40\n",
            "5 X 9 = 45\n",
            "5 X 10 = 50\n"
          ]
        }
      ]
    }
  ]
}