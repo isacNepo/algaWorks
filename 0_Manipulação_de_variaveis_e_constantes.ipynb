{
  "nbformat": 4,
  "nbformat_minor": 0,
  "metadata": {
    "colab": {
      "name": "0 - Manipulação de variaveis e constantes.ipynb",
      "provenance": [],
      "authorship_tag": "ABX9TyNUXr49Dv+grGw2Cz/BDLU1",
      "include_colab_link": true
    },
    "kernelspec": {
      "name": "python3",
      "display_name": "Python 3"
    },
    "language_info": {
      "name": "python"
    }
  },
  "cells": [
    {
      "cell_type": "markdown",
      "metadata": {
        "id": "view-in-github",
        "colab_type": "text"
      },
      "source": [
        "<a href=\"https://colab.research.google.com/github/isacNepo/algaWorks/blob/master/0_Manipula%C3%A7%C3%A3o_de_variaveis_e_constantes.ipynb\" target=\"_parent\"><img src=\"https://colab.research.google.com/assets/colab-badge.svg\" alt=\"Open In Colab\"/></a>"
      ]
    },
    {
      "cell_type": "code",
      "execution_count": null,
      "metadata": {
        "id": "jLrACyooFQxU"
      },
      "outputs": [],
      "source": [
        "## Variaveis e constantes\n"
      ]
    }
  ]
}