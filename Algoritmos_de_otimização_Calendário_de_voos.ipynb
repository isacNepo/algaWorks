{
  "nbformat": 4,
  "nbformat_minor": 0,
  "metadata": {
    "colab": {
      "name": "Algoritmos de otimização - Calendário de voos.ipynb",
      "provenance": [],
      "collapsed_sections": [],
      "authorship_tag": "ABX9TyNXWXzK4pTFK+q0xcP57BuO",
      "include_colab_link": true
    },
    "kernelspec": {
      "name": "python3",
      "display_name": "Python 3"
    },
    "language_info": {
      "name": "python"
    }
  },
  "cells": [
    {
      "cell_type": "markdown",
      "metadata": {
        "id": "view-in-github",
        "colab_type": "text"
      },
      "source": [
        "<a href=\"https://colab.research.google.com/github/isacNepo/aulas_faculdade/blob/master/Algoritmos_de_otimiza%C3%A7%C3%A3o_Calend%C3%A1rio_de_voos.ipynb\" target=\"_parent\"><img src=\"https://colab.research.google.com/assets/colab-badge.svg\" alt=\"Open In Colab\"/></a>"
      ]
    },
    {
      "cell_type": "markdown",
      "source": [
        "# Algoritmos de otimização - Calendário de voos"
      ],
      "metadata": {
        "id": "WDUphkMSe6VX"
      }
    },
    {
      "cell_type": "markdown",
      "source": [
        "## Representação do problema"
      ],
      "metadata": {
        "id": "EPQSJQyKewCo"
      }
    },
    {
      "cell_type": "code",
      "source": [
        "#para montar o Drive do Google nos \"contents\"\n",
        "from google.colab import drive\n",
        "drive.mount('/content/drive')"
      ],
      "metadata": {
        "colab": {
          "base_uri": "https://localhost:8080/"
        },
        "id": "ODLRvDczfCuh",
        "outputId": "3d4ff501-ad05-4e03-e04d-e343e9ff7a36"
      },
      "execution_count": 1,
      "outputs": [
        {
          "output_type": "stream",
          "name": "stdout",
          "text": [
            "Mounted at /content/drive\n"
          ]
        }
      ]
    },
    {
      "cell_type": "markdown",
      "source": [
        "**A reprentação do voos será da senguinte forma:**\n",
        "\n",
        "Vamos definir uma estrutura para representar os voos em um MAPA, assim:\n",
        "\n",
        "voos(k,v), onde \n",
        "\n",
        "k = origem, destino\n",
        "\n",
        "v = hora de saída, hora de chegada, preço\n",
        "\n",
        "EXEMPLO: \n",
        "\n",
        "```\n",
        "voos = {{'BRU', 'FCO'} : ['15:35', '18:40', '382']}\n",
        "\n",
        "print(voos['BRU', 'FCO]) #IMPRIME TODAS AS INFOS DO VOO \n",
        "print(voos[('BRU', 'FCO')][0], #IMPRIME O HORÁRIO DE SAÍDA\n",
        "voos[('BRU', 'FCO')][1], #IMPRIME O HORÁRIO DE CHEGADA\n",
        "voos[('BRU', 'FCO')][2]) #IMPRIME O PREÇO\n",
        "```"
      ],
      "metadata": {
        "id": "SX1W2zXKgTZa"
      }
    },
    {
      "cell_type": "code",
      "source": [
        "#cria o mapa para os voos:\n",
        "voos = {}\n",
        "\n",
        "for linha in open('/content/drive/MyDrive/Colab Notebooks/aula-voo/voos.txt'):\n",
        "  #print(linha)   #só para testar se o arquivo foi aberto\n",
        "  #print(linha.split(','))   #split separa cada linha em uma posição de um vetor\n",
        "  \n",
        "  #criamos 5 variaveis para receber as informações necessarias de cada voo\n",
        "  origem, destino, saida, chegada, preco = linha.split(',')\n",
        "\n",
        "  #gera uma chave (k) para um MAP (no caso, do voo):\n",
        "  voos.setdefault((origem, destino), [])\n",
        "\n",
        "  #acrescenta as informações de voo (v) no (k):\n",
        "  voos[(origem, destino)].append((saida, chegada, int(preco)))"
      ],
      "metadata": {
        "id": "SQLe7Lw_iMCh"
      },
      "execution_count": 2,
      "outputs": []
    },
    {
      "cell_type": "code",
      "source": [
        "voos"
      ],
      "metadata": {
        "colab": {
          "base_uri": "https://localhost:8080/"
        },
        "id": "EjfnBavqkeNy",
        "outputId": "c58c0683-f979-43c7-a559-1c07cd97cdeb"
      },
      "execution_count": 3,
      "outputs": [
        {
          "output_type": "execute_result",
          "data": {
            "text/plain": [
              "{('BRU', 'FCO'): [('6:12', '10:22', 230),\n",
              "  ('7:53', '11:37', 433),\n",
              "  ('9:08', '12:12', 364),\n",
              "  ('10:30', '14:57', 290),\n",
              "  ('12:19', '15:25', 342),\n",
              "  ('13:54', '18:02', 294),\n",
              "  ('15:44', '18:55', 382),\n",
              "  ('16:52', '20:48', 448),\n",
              "  ('18:26', '21:29', 464),\n",
              "  ('20:07', '23:27', 473)],\n",
              " ('CDG', 'FCO'): [('6:25', '9:30', 335),\n",
              "  ('7:34', '9:40', 324),\n",
              "  ('9:15', '12:29', 225),\n",
              "  ('11:28', '14:40', 248),\n",
              "  ('12:05', '15:30', 330),\n",
              "  ('14:01', '17:24', 338),\n",
              "  ('15:34', '18:11', 326),\n",
              "  ('17:07', '20:04', 291),\n",
              "  ('18:23', '21:35', 134),\n",
              "  ('19:53', '22:21', 173)],\n",
              " ('DUB', 'FCO'): [('6:17', '8:26', 89),\n",
              "  ('8:04', '10:11', 95),\n",
              "  ('9:45', '11:50', 172),\n",
              "  ('11:16', '13:29', 83),\n",
              "  ('12:34', '15:02', 109),\n",
              "  ('13:40', '15:37', 138),\n",
              "  ('15:27', '17:18', 151),\n",
              "  ('17:11', '18:30', 108),\n",
              "  ('18:34', '19:36', 136),\n",
              "  ('20:17', '22:22', 102)],\n",
              " ('FCO', 'BRU'): [('6:09', '9:49', 414),\n",
              "  ('7:57', '11:15', 347),\n",
              "  ('9:49', '13:51', 229),\n",
              "  ('10:51', '14:16', 256),\n",
              "  ('12:20', '16:34', 500),\n",
              "  ('14:20', '17:32', 332),\n",
              "  ('15:49', '20:10', 497),\n",
              "  ('17:14', '20:59', 277),\n",
              "  ('18:44', '22:42', 351),\n",
              "  ('19:57', '23:15', 512)],\n",
              " ('FCO', 'CDG'): [('6:33', '9:14', 172),\n",
              "  ('8:23', '11:07', 143),\n",
              "  ('9:25', '12:46', 295),\n",
              "  ('11:08', '14:38', 262),\n",
              "  ('12:37', '15:05', 170),\n",
              "  ('14:08', '16:09', 232),\n",
              "  ('15:23', '18:49', 150),\n",
              "  ('16:50', '19:26', 304),\n",
              "  ('18:07', '21:30', 355),\n",
              "  ('20:27', '23:42', 169)],\n",
              " ('FCO', 'DUB'): [('6:39', '8:09', 86),\n",
              "  ('8:23', '10:28', 149),\n",
              "  ('9:58', '11:18', 130),\n",
              "  ('10:33', '12:03', 74),\n",
              "  ('12:08', '14:05', 142),\n",
              "  ('13:39', '15:30', 74),\n",
              "  ('15:25', '16:58', 62),\n",
              "  ('17:03', '18:03', 103),\n",
              "  ('18:24', '20:49', 124),\n",
              "  ('19:58', '21:23', 142)],\n",
              " ('FCO', 'LHR'): [('6:58', '9:01', 238),\n",
              "  ('8:19', '11:16', 122),\n",
              "  ('9:58', '12:56', 249),\n",
              "  ('10:32', '13:16', 139),\n",
              "  ('12:01', '13:41', 267),\n",
              "  ('13:37', '15:33', 142),\n",
              "  ('15:50', '18:45', 243),\n",
              "  ('16:33', '18:15', 253),\n",
              "  ('18:17', '21:04', 259),\n",
              "  ('19:46', '21:45', 214)],\n",
              " ('FCO', 'LIS'): [('6:19', '8:13', 239),\n",
              "  ('8:04', '10:59', 136),\n",
              "  ('9:31', '11:43', 210),\n",
              "  ('11:07', '13:24', 171),\n",
              "  ('12:31', '14:02', 234),\n",
              "  ('14:05', '15:47', 226),\n",
              "  ('15:07', '17:21', 129),\n",
              "  ('16:35', '18:56', 144),\n",
              "  ('18:25', '20:34', 205),\n",
              "  ('20:05', '21:44', 172)],\n",
              " ('FCO', 'MAD'): [('6:03', '8:43', 219),\n",
              "  ('7:50', '10:08', 164),\n",
              "  ('9:11', '10:42', 172),\n",
              "  ('10:33', '13:11', 132),\n",
              "  ('12:08', '14:47', 231),\n",
              "  ('14:19', '17:09', 190),\n",
              "  ('15:04', '17:23', 189),\n",
              "  ('17:06', '20:00', 95),\n",
              "  ('18:33', '20:22', 143),\n",
              "  ('19:32', '21:25', 160)],\n",
              " ('LHR', 'FCO'): [('6:08', '8:06', 224),\n",
              "  ('8:27', '10:45', 139),\n",
              "  ('9:15', '12:14', 247),\n",
              "  ('10:53', '13:36', 189),\n",
              "  ('12:08', '14:59', 149),\n",
              "  ('13:40', '15:38', 137),\n",
              "  ('15:23', '17:25', 232),\n",
              "  ('17:08', '19:08', 262),\n",
              "  ('18:35', '20:28', 204),\n",
              "  ('20:30', '23:11', 114)],\n",
              " ('LIS', 'FCO'): [('6:11', '8:31', 249),\n",
              "  ('7:39', '10:24', 219),\n",
              "  ('9:15', '12:03', 99),\n",
              "  ('11:08', '13:07', 175),\n",
              "  ('12:18', '14:56', 172),\n",
              "  ('13:37', '15:08', 250),\n",
              "  ('15:03', '16:42', 135),\n",
              "  ('16:51', '19:09', 147),\n",
              "  ('18:12', '20:17', 242),\n",
              "  ('20:05', '22:06', 261)],\n",
              " ('MAD', 'FCO'): [('6:05', '8:32', 174),\n",
              "  ('8:25', '10:34', 157),\n",
              "  ('9:42', '11:32', 169),\n",
              "  ('11:01', '12:39', 260),\n",
              "  ('12:44', '14:17', 134),\n",
              "  ('14:22', '16:32', 126),\n",
              "  ('15:58', '18:40', 173),\n",
              "  ('16:43', '19:00', 246),\n",
              "  ('18:48', '21:45', 246),\n",
              "  ('19:50', '22:24', 269)]}"
            ]
          },
          "metadata": {},
          "execution_count": 3
        }
      ]
    },
    {
      "cell_type": "code",
      "source": [
        "#voos especificos de Lisboa ate Roma (exemplo):\n",
        "voos['LIS', 'FCO']"
      ],
      "metadata": {
        "colab": {
          "base_uri": "https://localhost:8080/"
        },
        "id": "6eDy4oOKk6vh",
        "outputId": "c0e7d545-76e3-4944-bd85-95631cee8a09"
      },
      "execution_count": 4,
      "outputs": [
        {
          "output_type": "execute_result",
          "data": {
            "text/plain": [
              "[('6:11', '8:31', 249),\n",
              " ('7:39', '10:24', 219),\n",
              " ('9:15', '12:03', 99),\n",
              " ('11:08', '13:07', 175),\n",
              " ('12:18', '14:56', 172),\n",
              " ('13:37', '15:08', 250),\n",
              " ('15:03', '16:42', 135),\n",
              " ('16:51', '19:09', 147),\n",
              " ('18:12', '20:17', 242),\n",
              " ('20:05', '22:06', 261)]"
            ]
          },
          "metadata": {},
          "execution_count": 4
        }
      ]
    },
    {
      "cell_type": "code",
      "source": [
        "#representação dos viajantes (pessoas):\n",
        "\n",
        "pessoas = [('Viajante 1', 'LIS'),  #Lisboa\n",
        "           ('Viajante 2', 'MAD'),  #Madrid\n",
        "           ('Viajante 3', 'CDG'),  #Paris\n",
        "           ('Viajante 4', 'DUB'),  #Dublin\n",
        "           ('Viajante 5', 'BRU'),  #Bruxelas\n",
        "           ('Viajante 6', 'LHR'),] #Londres "
      ],
      "metadata": {
        "id": "TVZHoBC5luVq"
      },
      "execution_count": 5,
      "outputs": []
    },
    {
      "cell_type": "code",
      "source": [
        "pessoas[0]"
      ],
      "metadata": {
        "colab": {
          "base_uri": "https://localhost:8080/"
        },
        "id": "9D14GSllm2Oy",
        "outputId": "fa79c08d-8138-4594-ca4e-6958ada0264e"
      },
      "execution_count": 6,
      "outputs": [
        {
          "output_type": "execute_result",
          "data": {
            "text/plain": [
              "('Viajante 1', 'LIS')"
            ]
          },
          "metadata": {},
          "execution_count": 6
        }
      ]
    },
    {
      "cell_type": "code",
      "source": [
        "#representação do aeroprt do destino:\n",
        "destino = 'FCO' #Roma"
      ],
      "metadata": {
        "id": "pi4gwbrnm-Qq"
      },
      "execution_count": 7,
      "outputs": []
    },
    {
      "cell_type": "code",
      "source": [
        "# Representação da solução: Será realizada com um VETOR de 12 POSIÇÕES\n",
        "#   -> 6 voos de IDA + 6 voos de volta\n",
        "# (ida e volta para cada pessoa)\n",
        "# pessoa1: ida, volta\n",
        "# pessoa2: ida, volta\n",
        "#\n",
        "# Lembrando que a ordem das pessoas é LISBOA, MADRID, PARIS, DUBLIN, BRUXELAS, LONRES\n",
        "# Vetor resultante (exemplo) será algo assim:\n",
        "# [0] -> DE LISBOA PARA ROMA, VOO 1 (SEGUNDO voo da lista de voos)\n",
        "# [1] -> DE ROMA PARA LISBOA, VOO 2 (TERCEIRO voo da lista de voos)\n",
        "# [2] -> DE MADRID PARA ROMA, VOO 3 (QUARTO voo da lista de voos)\n",
        "# [3] -> DE ROMA PARA MADRID, VOO 2 (TERCEIRO voo da lista de voos)\n",
        "# ...\n",
        "\n",
        "# algo assim...:\n",
        "\n",
        "agenda = [1,2, 3,2, 7,3, 6,3, 2,4, 5,3]\n",
        "len(agenda)"
      ],
      "metadata": {
        "colab": {
          "base_uri": "https://localhost:8080/"
        },
        "id": "WK04rTL2nNDL",
        "outputId": "d2ec81c7-ebaf-4a0a-c46a-26b80a513104"
      },
      "execution_count": 8,
      "outputs": [
        {
          "output_type": "execute_result",
          "data": {
            "text/plain": [
              "12"
            ]
          },
          "metadata": {},
          "execution_count": 8
        }
      ]
    },
    {
      "cell_type": "code",
      "source": [
        "len(agenda) // 2"
      ],
      "metadata": {
        "colab": {
          "base_uri": "https://localhost:8080/"
        },
        "id": "XUSSYa4_pPes",
        "outputId": "6f99c126-e587-4162-9a29-f7045d019893"
      },
      "execution_count": 9,
      "outputs": [
        {
          "output_type": "execute_result",
          "data": {
            "text/plain": [
              "6"
            ]
          },
          "metadata": {},
          "execution_count": 9
        }
      ]
    },
    {
      "cell_type": "code",
      "source": [
        "#Importante lemprar para usarmos no algoritmo de otimização, a representação da origem\n",
        "pessoas[1][1] #origem"
      ],
      "metadata": {
        "colab": {
          "base_uri": "https://localhost:8080/",
          "height": 35
        },
        "id": "u0uOfv0TpXYr",
        "outputId": "0a26f51d-2687-4a9a-d640-16e3a56151a8"
      },
      "execution_count": 10,
      "outputs": [
        {
          "output_type": "execute_result",
          "data": {
            "text/plain": [
              "'MAD'"
            ],
            "application/vnd.google.colaboratory.intrinsic+json": {
              "type": "string"
            }
          },
          "metadata": {},
          "execution_count": 10
        }
      ]
    },
    {
      "cell_type": "markdown",
      "source": [
        "## Função para impressão da agenda"
      ],
      "metadata": {
        "id": "JF6PJZhWp91E"
      }
    },
    {
      "cell_type": "code",
      "source": [
        "from prettytable import PrettyTable #de https://pypi.org/project/prettytable/\n",
        "\n",
        "def imprimir_voos(agenda):\n",
        "  id_voo = -1\n",
        "  preco_total = 0\n",
        "  tabela = PrettyTable(['Pessoa', 'Origem', 'Destino', 'Hora de Saída', 'Hora de Chegada', 'Valor'])\n",
        "  for i in range(len(agenda) // 2):\n",
        "    nome = pessoas[i][0]   #nome da pessoa de de ida (usamos o nome da cidade)\n",
        "    origem = pessoas[i][1] #sigla do aeroporto de origem \n",
        "    id_voo += 1 # auxiliar para percorrer a lista da agenda\n",
        "    ida = voos[(origem, destino)][agenda[id_voo]] #indices da agenda nos voos\n",
        "    preco_total += ida[2]\n",
        "    id_voo += 1\n",
        "    volta = voos[(destino, origem)][agenda[id_voo]]\n",
        "    preco_total += volta[2]\n",
        "    valor_pessoal = ida[2] + volta[2]\n",
        "\n",
        "\n",
        "    #acrescenta a linha na tabela...:\n",
        "    tabela.add_row([nome, origem, destino, ida[0], ida[1], ida[2]])\n",
        "    tabela.add_row([nome, destino, origem, volta[0], volta[1], volta[2]])\n",
        "    tabela.add_row([' ', ' ', ' ', ' ', 'Total deste passageiro:', valor_pessoal])\n",
        "    tabela.add_row(['-', '-', '-', '-', '-', '-'])\n",
        "\n",
        "  print(tabela)\n",
        "  print(f'Valor total gasto: {preco_total}')"
      ],
      "metadata": {
        "id": "vSSujuT6qEBa"
      },
      "execution_count": 54,
      "outputs": []
    },
    {
      "cell_type": "code",
      "source": [
        "agenda = [1,2, 3,2, 7,3, 6,3, 2,4, 5,3]\n",
        "imprimir_voos(agenda)"
      ],
      "metadata": {
        "colab": {
          "base_uri": "https://localhost:8080/"
        },
        "id": "AztvNCZstmOV",
        "outputId": "7cfe3c3f-6fb1-47a0-bce1-55061165cf59"
      },
      "execution_count": 55,
      "outputs": [
        {
          "output_type": "stream",
          "name": "stdout",
          "text": [
            "+------------+--------+---------+---------------+-------------------------+-------+\n",
            "|   Pessoa   | Origem | Destino | Hora de Saída |     Hora de Chegada     | Valor |\n",
            "+------------+--------+---------+---------------+-------------------------+-------+\n",
            "| Viajante 1 |  LIS   |   FCO   |      7:39     |          10:24          |  219  |\n",
            "| Viajante 1 |  FCO   |   LIS   |      9:31     |          11:43          |  210  |\n",
            "|            |        |         |               | Total deste passageiro: |  429  |\n",
            "|     -      |   -    |    -    |       -       |            -            |   -   |\n",
            "| Viajante 2 |  MAD   |   FCO   |     11:01     |          12:39          |  260  |\n",
            "| Viajante 2 |  FCO   |   MAD   |      9:11     |          10:42          |  172  |\n",
            "|            |        |         |               | Total deste passageiro: |  432  |\n",
            "|     -      |   -    |    -    |       -       |            -            |   -   |\n",
            "| Viajante 3 |  CDG   |   FCO   |     17:07     |          20:04          |  291  |\n",
            "| Viajante 3 |  FCO   |   CDG   |     11:08     |          14:38          |  262  |\n",
            "|            |        |         |               | Total deste passageiro: |  553  |\n",
            "|     -      |   -    |    -    |       -       |            -            |   -   |\n",
            "| Viajante 4 |  DUB   |   FCO   |     15:27     |          17:18          |  151  |\n",
            "| Viajante 4 |  FCO   |   DUB   |     10:33     |          12:03          |   74  |\n",
            "|            |        |         |               | Total deste passageiro: |  225  |\n",
            "|     -      |   -    |    -    |       -       |            -            |   -   |\n",
            "| Viajante 5 |  BRU   |   FCO   |      9:08     |          12:12          |  364  |\n",
            "| Viajante 5 |  FCO   |   BRU   |     12:20     |          16:34          |  500  |\n",
            "|            |        |         |               | Total deste passageiro: |  864  |\n",
            "|     -      |   -    |    -    |       -       |            -            |   -   |\n",
            "| Viajante 6 |  LHR   |   FCO   |     13:40     |          15:38          |  137  |\n",
            "| Viajante 6 |  FCO   |   LHR   |     10:32     |          13:16          |  139  |\n",
            "|            |        |         |               | Total deste passageiro: |  276  |\n",
            "|     -      |   -    |    -    |       -       |            -            |   -   |\n",
            "+------------+--------+---------+---------------+-------------------------+-------+\n",
            "Valor total gasto: 2779\n"
          ]
        }
      ]
    },
    {
      "cell_type": "markdown",
      "source": [
        "## Fitness function (Função de custo)\n"
      ],
      "metadata": {
        "id": "TwY6FsGNcBOz"
      }
    },
    {
      "cell_type": "code",
      "source": [
        "def fitness_function(agenda):\n",
        "  id_voo = -1\n",
        "  preco_total = 0\n",
        "  for i in range(len(agenda) // 2):\n",
        "    origem = pessoas[i][1] #coluna 1 (segunda) da lista de pessoas\n",
        "    id_voo += 1\n",
        "    ida = voos[(origem, destino)][agenda[id_voo]]\n",
        "    preco_total += ida[2]\n",
        "    id_voo += 1\n",
        "    volta = voos[(destino, origem)][agenda[id_voo]]\n",
        "    preco_total += volta[2]\n",
        "  \n",
        "  return preco_total"
      ],
      "metadata": {
        "id": "CSYCxkETguoL"
      },
      "execution_count": 56,
      "outputs": []
    },
    {
      "cell_type": "code",
      "source": [
        "agenda = [1,2, 3,1, 4,1, 2,6, 8,3, 2,9]\n",
        "fitness_function(agenda)"
      ],
      "metadata": {
        "colab": {
          "base_uri": "https://localhost:8080/"
        },
        "id": "lMXLv8_WgwAL",
        "outputId": "6bc1bfab-5fc9-44cf-d859-741f6b60285d"
      },
      "execution_count": 57,
      "outputs": [
        {
          "output_type": "execute_result",
          "data": {
            "text/plain": [
              "2741"
            ]
          },
          "metadata": {},
          "execution_count": 57
        }
      ]
    },
    {
      "cell_type": "code",
      "source": [
        "!pip install mlrose #vamos utilizar essa bibliote pronta para as soluções inteligentes\n",
        "#vide: https://mlrose.readthedocs.io/en/stable/"
      ],
      "metadata": {
        "colab": {
          "base_uri": "https://localhost:8080/"
        },
        "id": "sF7btbybhTa0",
        "outputId": "5538b2a5-9ec0-44cd-e175-ee1b3c23d484"
      },
      "execution_count": 58,
      "outputs": [
        {
          "output_type": "stream",
          "name": "stdout",
          "text": [
            "Requirement already satisfied: mlrose in /usr/local/lib/python3.7/dist-packages (1.3.0)\n",
            "Requirement already satisfied: scipy in /usr/local/lib/python3.7/dist-packages (from mlrose) (1.4.1)\n",
            "Requirement already satisfied: numpy in /usr/local/lib/python3.7/dist-packages (from mlrose) (1.21.6)\n",
            "Requirement already satisfied: sklearn in /usr/local/lib/python3.7/dist-packages (from mlrose) (0.0)\n",
            "Requirement already satisfied: scikit-learn in /usr/local/lib/python3.7/dist-packages (from sklearn->mlrose) (1.0.2)\n",
            "Requirement already satisfied: threadpoolctl>=2.0.0 in /usr/local/lib/python3.7/dist-packages (from scikit-learn->sklearn->mlrose) (3.1.0)\n",
            "Requirement already satisfied: joblib>=0.11 in /usr/local/lib/python3.7/dist-packages (from scikit-learn->sklearn->mlrose) (1.1.0)\n"
          ]
        }
      ]
    },
    {
      "cell_type": "code",
      "source": [
        "import six\n",
        "import sys\n",
        "sys.modules['sklearn.externals.six'] = six\n",
        "import mlrose"
      ],
      "metadata": {
        "id": "sF8_7aEohVsT"
      },
      "execution_count": 59,
      "outputs": []
    },
    {
      "cell_type": "code",
      "source": [
        "#para usarmos essa biblioteca, temos que informar qual a função de fitness, para isso podemos fazer assim:\n",
        "\n",
        "\n",
        "fitness = mlrose.CustomFitness(fitness_function)"
      ],
      "metadata": {
        "id": "nuZ8vq8RhXyb"
      },
      "execution_count": 60,
      "outputs": []
    },
    {
      "cell_type": "code",
      "source": [
        "# Trabalharemos com números discretos (inteiros)\n",
        "# parâmetros:\n",
        "# - lenght: tamanho da solução\n",
        "# - função de fitness\n",
        "# - maximize = que tipo de solução -> True as maiores; False as menores\n",
        "# - max_val: a quantidade de voos que temos em cada posição do vetor (o valor máximo de cada posição no vetor)\n",
        "\n",
        "problema = mlrose.DiscreteOpt(length=12, \n",
        "                              fitness_fn=fitness, \n",
        "                              maximize=False, \n",
        "                              max_val=10)"
      ],
      "metadata": {
        "id": "HtDiqP5Jhb0L"
      },
      "execution_count": 61,
      "outputs": []
    },
    {
      "cell_type": "markdown",
      "source": [
        "## Hill Climb"
      ],
      "metadata": {
        "id": "YNUb12zvjUM6"
      }
    },
    {
      "cell_type": "code",
      "source": [
        "# o parâmetro random_state representa como é gerado o estado inicial\n",
        "melhor_solucao, melhor_custo = mlrose.hill_climb(problema, random_state=1)"
      ],
      "metadata": {
        "id": "BAnwLPC7jRFW"
      },
      "execution_count": 62,
      "outputs": []
    },
    {
      "cell_type": "code",
      "source": [
        "print(melhor_solucao)\n",
        "print(melhor_custo)"
      ],
      "metadata": {
        "colab": {
          "base_uri": "https://localhost:8080/"
        },
        "id": "I-nSgih-jXkD",
        "outputId": "2b91c9e4-2f0c-414e-b006-a5e6201d4531"
      },
      "execution_count": 63,
      "outputs": [
        {
          "output_type": "stream",
          "name": "stdout",
          "text": [
            "[2 6 5 7 8 1 3 6 0 2 9 1]\n",
            "1566.0\n"
          ]
        }
      ]
    },
    {
      "cell_type": "code",
      "source": [
        "imprimir_voos(melhor_solucao)"
      ],
      "metadata": {
        "colab": {
          "base_uri": "https://localhost:8080/"
        },
        "id": "5-bKdftSjbS-",
        "outputId": "a28c3146-7f02-4a44-fdd1-fc8d5a96e851"
      },
      "execution_count": 64,
      "outputs": [
        {
          "output_type": "stream",
          "name": "stdout",
          "text": [
            "+------------+--------+---------+---------------+-------------------------+-------+\n",
            "|   Pessoa   | Origem | Destino | Hora de Saída |     Hora de Chegada     | Valor |\n",
            "+------------+--------+---------+---------------+-------------------------+-------+\n",
            "| Viajante 1 |  LIS   |   FCO   |      9:15     |          12:03          |   99  |\n",
            "| Viajante 1 |  FCO   |   LIS   |     15:07     |          17:21          |  129  |\n",
            "|            |        |         |               | Total deste passageiro: |  228  |\n",
            "|     -      |   -    |    -    |       -       |            -            |   -   |\n",
            "| Viajante 2 |  MAD   |   FCO   |     14:22     |          16:32          |  126  |\n",
            "| Viajante 2 |  FCO   |   MAD   |     17:06     |          20:00          |   95  |\n",
            "|            |        |         |               | Total deste passageiro: |  221  |\n",
            "|     -      |   -    |    -    |       -       |            -            |   -   |\n",
            "| Viajante 3 |  CDG   |   FCO   |     18:23     |          21:35          |  134  |\n",
            "| Viajante 3 |  FCO   |   CDG   |      8:23     |          11:07          |  143  |\n",
            "|            |        |         |               | Total deste passageiro: |  277  |\n",
            "|     -      |   -    |    -    |       -       |            -            |   -   |\n",
            "| Viajante 4 |  DUB   |   FCO   |     11:16     |          13:29          |   83  |\n",
            "| Viajante 4 |  FCO   |   DUB   |     15:25     |          16:58          |   62  |\n",
            "|            |        |         |               | Total deste passageiro: |  145  |\n",
            "|     -      |   -    |    -    |       -       |            -            |   -   |\n",
            "| Viajante 5 |  BRU   |   FCO   |      6:12     |          10:22          |  230  |\n",
            "| Viajante 5 |  FCO   |   BRU   |      9:49     |          13:51          |  229  |\n",
            "|            |        |         |               | Total deste passageiro: |  459  |\n",
            "|     -      |   -    |    -    |       -       |            -            |   -   |\n",
            "| Viajante 6 |  LHR   |   FCO   |     20:30     |          23:11          |  114  |\n",
            "| Viajante 6 |  FCO   |   LHR   |      8:19     |          11:16          |  122  |\n",
            "|            |        |         |               | Total deste passageiro: |  236  |\n",
            "|     -      |   -    |    -    |       -       |            -            |   -   |\n",
            "+------------+--------+---------+---------------+-------------------------+-------+\n",
            "Valor total gasto: 1566\n"
          ]
        }
      ]
    },
    {
      "cell_type": "markdown",
      "source": [
        "## Simulated Annealing"
      ],
      "metadata": {
        "id": "A85j2tRHpO58"
      }
    },
    {
      "cell_type": "code",
      "source": [
        "melhor_solucao, melhor_custo = mlrose.simulated_annealing(problema, \n",
        "                                                          schedule=mlrose.decay.GeomDecay(init_temp=1000000),\n",
        "                                                          random_state=1)"
      ],
      "metadata": {
        "id": "m1u2L8A_pT-0"
      },
      "execution_count": 71,
      "outputs": []
    },
    {
      "cell_type": "code",
      "source": [
        "print(melhor_solucao, melhor_custo)"
      ],
      "metadata": {
        "colab": {
          "base_uri": "https://localhost:8080/"
        },
        "id": "vRXSdaTxpY0s",
        "outputId": "fa781efd-1330-4c5c-9b48-5a344e910798"
      },
      "execution_count": 72,
      "outputs": [
        {
          "output_type": "stream",
          "name": "stdout",
          "text": [
            "[2 9 5 3 8 1 1 5 0 2 9 5] 1690.0\n"
          ]
        }
      ]
    },
    {
      "cell_type": "code",
      "source": [
        "imprimir_voos(melhor_solucao)"
      ],
      "metadata": {
        "colab": {
          "base_uri": "https://localhost:8080/"
        },
        "id": "Fu27fLvepnQr",
        "outputId": "a30f89a7-52fc-4e3e-8910-7ca0e9fb5b4e"
      },
      "execution_count": 73,
      "outputs": [
        {
          "output_type": "stream",
          "name": "stdout",
          "text": [
            "+------------+--------+---------+---------------+-------------------------+-------+\n",
            "|   Pessoa   | Origem | Destino | Hora de Saída |     Hora de Chegada     | Valor |\n",
            "+------------+--------+---------+---------------+-------------------------+-------+\n",
            "| Viajante 1 |  LIS   |   FCO   |      9:15     |          12:03          |   99  |\n",
            "| Viajante 1 |  FCO   |   LIS   |     20:05     |          21:44          |  172  |\n",
            "|            |        |         |               | Total deste passageiro: |  271  |\n",
            "|     -      |   -    |    -    |       -       |            -            |   -   |\n",
            "| Viajante 2 |  MAD   |   FCO   |     14:22     |          16:32          |  126  |\n",
            "| Viajante 2 |  FCO   |   MAD   |     10:33     |          13:11          |  132  |\n",
            "|            |        |         |               | Total deste passageiro: |  258  |\n",
            "|     -      |   -    |    -    |       -       |            -            |   -   |\n",
            "| Viajante 3 |  CDG   |   FCO   |     18:23     |          21:35          |  134  |\n",
            "| Viajante 3 |  FCO   |   CDG   |      8:23     |          11:07          |  143  |\n",
            "|            |        |         |               | Total deste passageiro: |  277  |\n",
            "|     -      |   -    |    -    |       -       |            -            |   -   |\n",
            "| Viajante 4 |  DUB   |   FCO   |      8:04     |          10:11          |   95  |\n",
            "| Viajante 4 |  FCO   |   DUB   |     13:39     |          15:30          |   74  |\n",
            "|            |        |         |               | Total deste passageiro: |  169  |\n",
            "|     -      |   -    |    -    |       -       |            -            |   -   |\n",
            "| Viajante 5 |  BRU   |   FCO   |      6:12     |          10:22          |  230  |\n",
            "| Viajante 5 |  FCO   |   BRU   |      9:49     |          13:51          |  229  |\n",
            "|            |        |         |               | Total deste passageiro: |  459  |\n",
            "|     -      |   -    |    -    |       -       |            -            |   -   |\n",
            "| Viajante 6 |  LHR   |   FCO   |     20:30     |          23:11          |  114  |\n",
            "| Viajante 6 |  FCO   |   LHR   |     13:37     |          15:33          |  142  |\n",
            "|            |        |         |               | Total deste passageiro: |  256  |\n",
            "|     -      |   -    |    -    |       -       |            -            |   -   |\n",
            "+------------+--------+---------+---------------+-------------------------+-------+\n",
            "Valor total gasto: 1690\n"
          ]
        }
      ]
    },
    {
      "cell_type": "markdown",
      "source": [
        "## Algoritmo Genético (otimização)"
      ],
      "metadata": {
        "id": "HPpoUTu9tHud"
      }
    },
    {
      "cell_type": "code",
      "source": [
        "melhor_solucao, melhor_custo = mlrose.genetic_alg(problema,\n",
        "                                                  pop_size=500,\n",
        "                                                  mutation_prob=0.2,\n",
        "                                                  random_state=1)"
      ],
      "metadata": {
        "id": "n5QUVAFStORs"
      },
      "execution_count": 74,
      "outputs": []
    },
    {
      "cell_type": "code",
      "source": [
        "melhor_custo, melhor_solucao"
      ],
      "metadata": {
        "colab": {
          "base_uri": "https://localhost:8080/"
        },
        "id": "YlvrpPj7tsYU",
        "outputId": "8035dbff-201d-4472-d128-04ce728e80a5"
      },
      "execution_count": 75,
      "outputs": [
        {
          "output_type": "execute_result",
          "data": {
            "text/plain": [
              "(1956.0, array([7, 3, 1, 2, 9, 0, 3, 8, 0, 3, 4, 1]))"
            ]
          },
          "metadata": {},
          "execution_count": 75
        }
      ]
    },
    {
      "cell_type": "code",
      "source": [
        "imprimir_voos(melhor_solucao)"
      ],
      "metadata": {
        "colab": {
          "base_uri": "https://localhost:8080/"
        },
        "id": "ZA7Powdpt0uk",
        "outputId": "523ddb77-7066-4d6b-cbe4-6c301b8abe1b"
      },
      "execution_count": 76,
      "outputs": [
        {
          "output_type": "stream",
          "name": "stdout",
          "text": [
            "+------------+--------+---------+---------------+-------------------------+-------+\n",
            "|   Pessoa   | Origem | Destino | Hora de Saída |     Hora de Chegada     | Valor |\n",
            "+------------+--------+---------+---------------+-------------------------+-------+\n",
            "| Viajante 1 |  LIS   |   FCO   |     16:51     |          19:09          |  147  |\n",
            "| Viajante 1 |  FCO   |   LIS   |     11:07     |          13:24          |  171  |\n",
            "|            |        |         |               | Total deste passageiro: |  318  |\n",
            "|     -      |   -    |    -    |       -       |            -            |   -   |\n",
            "| Viajante 2 |  MAD   |   FCO   |      8:25     |          10:34          |  157  |\n",
            "| Viajante 2 |  FCO   |   MAD   |      9:11     |          10:42          |  172  |\n",
            "|            |        |         |               | Total deste passageiro: |  329  |\n",
            "|     -      |   -    |    -    |       -       |            -            |   -   |\n",
            "| Viajante 3 |  CDG   |   FCO   |     19:53     |          22:21          |  173  |\n",
            "| Viajante 3 |  FCO   |   CDG   |      6:33     |           9:14          |  172  |\n",
            "|            |        |         |               | Total deste passageiro: |  345  |\n",
            "|     -      |   -    |    -    |       -       |            -            |   -   |\n",
            "| Viajante 4 |  DUB   |   FCO   |     11:16     |          13:29          |   83  |\n",
            "| Viajante 4 |  FCO   |   DUB   |     18:24     |          20:49          |  124  |\n",
            "|            |        |         |               | Total deste passageiro: |  207  |\n",
            "|     -      |   -    |    -    |       -       |            -            |   -   |\n",
            "| Viajante 5 |  BRU   |   FCO   |      6:12     |          10:22          |  230  |\n",
            "| Viajante 5 |  FCO   |   BRU   |     10:51     |          14:16          |  256  |\n",
            "|            |        |         |               | Total deste passageiro: |  486  |\n",
            "|     -      |   -    |    -    |       -       |            -            |   -   |\n",
            "| Viajante 6 |  LHR   |   FCO   |     12:08     |          14:59          |  149  |\n",
            "| Viajante 6 |  FCO   |   LHR   |      8:19     |          11:16          |  122  |\n",
            "|            |        |         |               | Total deste passageiro: |  271  |\n",
            "|     -      |   -    |    -    |       -       |            -            |   -   |\n",
            "+------------+--------+---------+---------------+-------------------------+-------+\n",
            "Valor total gasto: 1956\n"
          ]
        }
      ]
    }
  ]
}