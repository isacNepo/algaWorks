{
  "nbformat": 4,
  "nbformat_minor": 0,
  "metadata": {
    "colab": {
      "name": "Cópia de aula_02.ipynb",
      "provenance": [],
      "collapsed_sections": [],
      "include_colab_link": true
    },
    "kernelspec": {
      "name": "python3",
      "display_name": "Python 3"
    },
    "language_info": {
      "name": "python"
    }
  },
  "cells": [
    {
      "cell_type": "markdown",
      "metadata": {
        "id": "view-in-github",
        "colab_type": "text"
      },
      "source": [
        "<a href=\"https://colab.research.google.com/github/isacNepo/aulas_faculdade/blob/master/aula_02.ipynb\" target=\"_parent\"><img src=\"https://colab.research.google.com/assets/colab-badge.svg\" alt=\"Open In Colab\"/></a>"
      ]
    },
    {
      "cell_type": "markdown",
      "source": [
        "# Aula 02 - Introdução ao Python\n",
        "\n",
        "O nome deste tipo de edição é chamado de **Markdown** (https://www.markdownguide.org/)\n",
        "\n",
        "A documentação do Python poder ser encontrada em: https://www.python.org/doc/"
      ],
      "metadata": {
        "id": "VGTrVmSmJGDw"
      }
    },
    {
      "cell_type": "markdown",
      "source": [
        "**Objetivo da aula**: Apresentar os conceitos iniciais da linguagem Python abordando os operadores aritméticos, relacionais e lógicos, além de comandos de saída e entra (leitura do teclado)."
      ],
      "metadata": {
        "id": "IonQDwetKwY9"
      }
    },
    {
      "cell_type": "markdown",
      "source": [
        "__Variável__: é um objeto localizado na memória da máquina, capaz de armazenar dados para representar um valor ou uma função (expressão) através de um __nome__.\n",
        "\n",
        "Em Python, temos três tipo:\n",
        "*   Numérico\n",
        "*   Texto ou *string*\n",
        "*   Lógico ou *booleano*\n",
        "\n",
        "**Observações Importantes**\n",
        "* Em Python não há a necessidade especificar que tipo uma variável deve ser, pois a própria linguagem reconhece o tipo de acordo com o valor atribuído.\n",
        "* Python é Case Sensitive, ou seja, diferencia letras maiúsculas de minúsculas.\n",
        "* Para definirmos o nome de variáveis, temos que iniciar utilizando um caractere que esteja no intervalo de `a` à `z` ou `A` à `Z` e de `0` a `9`. A única exceção a esta regra é o caractere underscore \"`_`\".\n",
        "* Podemos utilizar números, desde que seja o segundo caractere da sequência.\n",
        "* Também é desejável e prudente que os nomes tenham relação com o seu significado."
      ],
      "metadata": {
        "id": "mWIBoQHlKjmu"
      }
    },
    {
      "cell_type": "markdown",
      "source": [
        "## Comentários em Python\n",
        "\n",
        "Comentário é uma parte textual específica dentro de um código que visa descrever ou informar qual o significado/comportamento dele.\n",
        "\n",
        "Comentários em Python são realizados através da utilização do símbolo Hashtag `#`. Exemplo:\n",
        "\n",
        "`# hoje está frio`\n",
        "\n",
        "Um ou mais comentários são ignorados no momento da execução do código.\n",
        "\n",
        "Outra forma é realizar os comentários em blocos com mais de uma linha, utilizando três aspas. Exemplo: `\"\"\" texto \"\"\"`\n"
      ],
      "metadata": {
        "id": "mMoLqz0BM_qv"
      }
    },
    {
      "cell_type": "code",
      "source": [
        "# Comando para mostra dados na tela: print(valor)\n",
        "print('Olá Mundo!!!')\n",
        "print(\"Olá Mundo!!!\")"
      ],
      "metadata": {
        "colab": {
          "base_uri": "https://localhost:8080/"
        },
        "id": "Ht4Bqot8JNBi",
        "outputId": "e07987a8-6e57-4d1f-d884-7e31de59afb9"
      },
      "execution_count": null,
      "outputs": [
        {
          "output_type": "stream",
          "name": "stdout",
          "text": [
            "Olá Mundo!!!\n",
            "Olá Mundo!!!\n"
          ]
        }
      ]
    },
    {
      "cell_type": "code",
      "source": [
        "\"\"\"\n",
        "Esse comentário está em bloco.\n",
        "\n",
        "Variáveis numéricas:\n",
        "int: número inteiro\n",
        "float: ponto flutuante (real)\n",
        "\"\"\"\n",
        "\n",
        "print('Os comentários acima não são mostrados')"
      ],
      "metadata": {
        "colab": {
          "base_uri": "https://localhost:8080/"
        },
        "id": "H6WsXr_3OZZc",
        "outputId": "8a39f7c0-3368-4154-8d47-340e44d57d05"
      },
      "execution_count": null,
      "outputs": [
        {
          "output_type": "stream",
          "name": "stdout",
          "text": [
            "Os comentários acima não são mostrados\n"
          ]
        }
      ]
    },
    {
      "cell_type": "code",
      "source": [
        "# Declaração de variáveis\n",
        "x = 10   # inteiro (int)\n",
        "y = 10.6 # float (real)"
      ],
      "metadata": {
        "id": "NLnaEJCnO8T7"
      },
      "execution_count": null,
      "outputs": []
    },
    {
      "cell_type": "code",
      "source": [
        "print(x)\n",
        "print(y)"
      ],
      "metadata": {
        "colab": {
          "base_uri": "https://localhost:8080/"
        },
        "id": "3hHGN8mYQSmA",
        "outputId": "b1b4d1bd-d836-40b0-8a92-2b09893c29f3"
      },
      "execution_count": null,
      "outputs": [
        {
          "output_type": "stream",
          "name": "stdout",
          "text": [
            "10\n",
            "10.6\n"
          ]
        }
      ]
    },
    {
      "cell_type": "code",
      "source": [
        "# E se eu quiser mostrar os dois ao mesmo tempo?\n",
        "print(x, y) # separa cada parâmetro pela vírgula"
      ],
      "metadata": {
        "colab": {
          "base_uri": "https://localhost:8080/"
        },
        "id": "tO-EomyaRStR",
        "outputId": "92a77704-e935-4c99-fe26-d0ec59c6a20e"
      },
      "execution_count": null,
      "outputs": [
        {
          "output_type": "stream",
          "name": "stdout",
          "text": [
            "10 10.6\n"
          ]
        }
      ]
    },
    {
      "cell_type": "code",
      "source": [
        "# usando escapes\n",
        "\n",
        "# \\n - Nova linha. Move o cursor para o início da próxima linha.\n",
        "# \\t - Tabulação Horizontal. Move o cursor para a próxima parada de tabulação (tab).\n",
        "# \\r - Retorno de carro. Move o cursor para o início da linha atual; não avança para a próxima linha.\n",
        "# \\b - Backspace. Retrocede o cursor um caractere.\n",
        "# \\ - Barra invertida (Backslash).\n",
        "# \\\" - Caractere de aspas duplas.\n",
        "# \\' - Caractere de aspas simples. \n",
        "\n",
        "print('Edilson\\nperguntou\\tcomo incluir sinais no print()')"
      ],
      "metadata": {
        "colab": {
          "base_uri": "https://localhost:8080/"
        },
        "id": "GxGYtZ87RfLY",
        "outputId": "be22d8f9-fb19-45f2-a060-559148547174"
      },
      "execution_count": null,
      "outputs": [
        {
          "output_type": "stream",
          "name": "stdout",
          "text": [
            "Edilson\n",
            "perguntou\tcomo incluir sinais no print()\n"
          ]
        }
      ]
    },
    {
      "cell_type": "code",
      "source": [
        "# Concatenação ou junção de textos\n",
        "# Usamos o símbolo \"+\" (adição)\n",
        "\n",
        "print('Edson' + 'Melo')\n",
        "print('Edson' + ' ' + 'Melo')\n",
        "print('Edson ' + 'Melo')\n",
        "print('Edson' + ' Melo')"
      ],
      "metadata": {
        "colab": {
          "base_uri": "https://localhost:8080/"
        },
        "id": "kDFB0qScR9qO",
        "outputId": "573bc2af-e324-4924-d8ff-9af92bdcb1b9"
      },
      "execution_count": null,
      "outputs": [
        {
          "output_type": "stream",
          "name": "stdout",
          "text": [
            "EdsonMelo\n",
            "Edson Melo\n",
            "Edson Melo\n",
            "Edson Melo\n"
          ]
        }
      ]
    },
    {
      "cell_type": "code",
      "source": [
        "# Descobrir o tipo de uma variável\n",
        "# Vamos usar uma função para saber qual é o tipo da variável: type(variavel)\n",
        "variavel = 10\n",
        "print(type(variavel))\n",
        "\n",
        "variavel = 42.97\n",
        "print(type(variavel))\n",
        "\n",
        "variavel = 'Edson '\n",
        "print(type(variavel))"
      ],
      "metadata": {
        "colab": {
          "base_uri": "https://localhost:8080/"
        },
        "id": "Z56eD0P2Seha",
        "outputId": "185ad6b2-7795-4a97-d7a5-384462f587b7"
      },
      "execution_count": null,
      "outputs": [
        {
          "output_type": "stream",
          "name": "stdout",
          "text": [
            "<class 'int'>\n",
            "<class 'float'>\n",
            "<class 'str'>\n"
          ]
        }
      ]
    },
    {
      "cell_type": "code",
      "source": [
        "variavel = 10\n",
        "print(variavel, type(variavel))\n",
        "\n",
        "variavel = 42.97\n",
        "print(variavel, type(variavel))\n",
        "\n",
        "variavel = 'Edson '\n",
        "print(variavel, type(variavel))"
      ],
      "metadata": {
        "colab": {
          "base_uri": "https://localhost:8080/"
        },
        "id": "zkSW7TblVI1K",
        "outputId": "573ccd13-717f-49a6-acc1-cb388d3e9864"
      },
      "execution_count": null,
      "outputs": [
        {
          "output_type": "stream",
          "name": "stdout",
          "text": [
            "10 <class 'int'>\n",
            "42.97 <class 'float'>\n",
            "Edson  <class 'str'>\n"
          ]
        }
      ]
    },
    {
      "cell_type": "code",
      "source": [
        "# Exercício\n",
        "# Dado os valores a seguir, mostrar o resultado da seguinte forma:\n",
        "# Saída: O valor de \"a\" é 4 e o seu tipo é <class 'int'>\n",
        "a = 4\n",
        "\n",
        "print('O valor de \"a\" é ', a, 'e o seu tipo é ', type(a))"
      ],
      "metadata": {
        "id": "dObfK5ubWgow",
        "colab": {
          "base_uri": "https://localhost:8080/"
        },
        "outputId": "d02532fd-2dc3-488c-9512-3d2d44c11ea8"
      },
      "execution_count": 1,
      "outputs": [
        {
          "output_type": "stream",
          "name": "stdout",
          "text": [
            "O valor de \"a\" é  4 e o seu tipo é  <class 'int'>\n"
          ]
        }
      ]
    },
    {
      "cell_type": "code",
      "source": [
        "#converte"
      ],
      "metadata": {
        "id": "SZkpbrnaaZOQ"
      },
      "execution_count": null,
      "outputs": []
    },
    {
      "cell_type": "code",
      "source": [
        "# Converter um número em um texto: str()\n",
        "aa = 10\n",
        "bb = 'Uninove'\n",
        "\n",
        "print(bb + str(aa))"
      ],
      "metadata": {
        "colab": {
          "base_uri": "https://localhost:8080/"
        },
        "id": "EuH_kODcabrI",
        "outputId": "c2bc12bf-138a-4524-e5d9-a3350e583790"
      },
      "execution_count": 2,
      "outputs": [
        {
          "output_type": "stream",
          "name": "stdout",
          "text": [
            "Uninove10\n"
          ]
        }
      ]
    },
    {
      "cell_type": "code",
      "source": [
        "# Quando a saída ocorrer sozinha dentro de uma célula, não precisa do print\n",
        "aa, bb"
      ],
      "metadata": {
        "colab": {
          "base_uri": "https://localhost:8080/"
        },
        "id": "ypA8SlaRaje6",
        "outputId": "9843fe06-410b-4af0-e305-9e300fa690a2"
      },
      "execution_count": 3,
      "outputs": [
        {
          "output_type": "execute_result",
          "data": {
            "text/plain": [
              "(10, 'Uninove')"
            ]
          },
          "metadata": {},
          "execution_count": 3
        }
      ]
    },
    {
      "cell_type": "code",
      "source": [
        "# Outros tipos de formatação\n",
        "idade = 35\n",
        "\n",
        "print(\"O valor da variável 'idade' é %.02f\" %idade)"
      ],
      "metadata": {
        "colab": {
          "base_uri": "https://localhost:8080/"
        },
        "id": "nEYdJP2Ialpj",
        "outputId": "da77dc57-cd46-4638-c5d7-5d971631139c"
      },
      "execution_count": 4,
      "outputs": [
        {
          "output_type": "stream",
          "name": "stdout",
          "text": [
            "O valor da variável 'idade' é 35.00\n"
          ]
        }
      ]
    },
    {
      "cell_type": "code",
      "source": [
        "# Outra forma\n",
        "nome = 'Tio Patinhas'\n",
        "idade = 120\n",
        "\n",
        "print('O {} tem {} anos.'.format(nome, idade))\n",
        "print('O {} tem {} anos.'.format(idade, nome))"
      ],
      "metadata": {
        "colab": {
          "base_uri": "https://localhost:8080/"
        },
        "id": "ksmoL1MAbHiO",
        "outputId": "29b22520-bbd2-4472-b13e-586f73e818bf"
      },
      "execution_count": 6,
      "outputs": [
        {
          "output_type": "stream",
          "name": "stdout",
          "text": [
            "O Tio Patinhas tem 120 anos.\n",
            "O 120 tem Tio Patinhas anos.\n"
          ]
        }
      ]
    },
    {
      "cell_type": "code",
      "source": [
        "# Outra forma\n",
        "nome_x = 'Tio Patinhas'\n",
        "idade_x = 120\n",
        "\n",
        "print('O {} tem {} anos.'.format(nome_x, idade_x))\n",
        "#print('O {} tem {} anos.'.format(idade, nome))"
      ],
      "metadata": {
        "colab": {
          "base_uri": "https://localhost:8080/"
        },
        "id": "QaQFjEuCcDHl",
        "outputId": "d7fc5cd1-b8a9-43fe-d75a-83c5699db0b9"
      },
      "execution_count": 7,
      "outputs": [
        {
          "output_type": "stream",
          "name": "stdout",
          "text": [
            "O Tio Patinhas tem 120 anos.\n"
          ]
        }
      ]
    },
    {
      "cell_type": "code",
      "source": [
        "# Mais uma forma\n",
        "f\"O {nome} tem {idade} anos\""
      ],
      "metadata": {
        "colab": {
          "base_uri": "https://localhost:8080/",
          "height": 35
        },
        "id": "cXBXcAnJdxJr",
        "outputId": "9258d975-ca5a-49b3-f310-d7c7faf803b2"
      },
      "execution_count": 8,
      "outputs": [
        {
          "output_type": "execute_result",
          "data": {
            "text/plain": [
              "'O Tio Patinhas tem 120 anos'"
            ],
            "application/vnd.google.colaboratory.intrinsic+json": {
              "type": "string"
            }
          },
          "metadata": {},
          "execution_count": 8
        }
      ]
    },
    {
      "cell_type": "code",
      "source": [
        ""
      ],
      "metadata": {
        "id": "o_zLdwiBdzhr"
      },
      "execution_count": null,
      "outputs": []
    }
  ]
}