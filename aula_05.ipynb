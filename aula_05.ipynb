{
  "nbformat": 4,
  "nbformat_minor": 0,
  "metadata": {
    "colab": {
      "provenance": [],
      "collapsed_sections": [],
      "include_colab_link": true
    },
    "kernelspec": {
      "name": "python3",
      "display_name": "Python 3"
    },
    "language_info": {
      "name": "python"
    }
  },
  "cells": [
    {
      "cell_type": "markdown",
      "metadata": {
        "id": "view-in-github",
        "colab_type": "text"
      },
      "source": [
        "<a href=\"https://colab.research.google.com/github/isacNepo/aulas_faculdade/blob/master/aula_05.ipynb\" target=\"_parent\"><img src=\"https://colab.research.google.com/assets/colab-badge.svg\" alt=\"Open In Colab\"/></a>"
      ]
    },
    {
      "cell_type": "markdown",
      "source": [
        "# Tuplas (_Tuple_)\n",
        "\n",
        "Tuplas são uma estrutura de dados semelhantes as listas, porém não podem ser modificadas após a sua criação, ou seja, não podemos modificar seu conteúdo. Seja adicionando, removendo ou substituindo informações. Isso garante que os dados inseridos em uma tupla não sofreraão modificação.\n",
        "\n",
        "Basicamente as operações são iguais, embora os comandos para alteração não estejam disponíveis. Em Python uma lista é representada por um par de parênteses ``( )``.\n",
        "\n",
        "Para saber mais sobre _tuplas_ acesse: [https://docs.python.org/3/tutorial/datastructures.html#tuples-and-sequences](https://docs.python.org/3/tutorial/datastructures.html#tuples-and-sequences)."
      ],
      "metadata": {
        "id": "x_-z7uUuKUzU"
      }
    },
    {
      "cell_type": "code",
      "execution_count": null,
      "metadata": {
        "id": "gUCwHuolGMyO"
      },
      "outputs": [],
      "source": [
        "tupla = (1, 2, 3, 4, 5, 'Edson')\n",
        "print(tupla, type(tupla))"
      ]
    },
    {
      "cell_type": "code",
      "source": [
        "# comparando com as lista\n",
        "lista = [1, 2, 3, 4, 5]\n",
        "lista.append(6)\n",
        "print(lista)"
      ],
      "metadata": {
        "id": "fcbUhytRLrlj"
      },
      "execution_count": null,
      "outputs": []
    },
    {
      "cell_type": "code",
      "source": [
        "# percorrendo uma tupla\n",
        "for i in tupla:\n",
        "  print(i)"
      ],
      "metadata": {
        "id": "NVQGYf5VLuvg"
      },
      "execution_count": null,
      "outputs": []
    },
    {
      "cell_type": "markdown",
      "source": [
        "___\n",
        "# Dicionários (_dict_)\n",
        "\n",
        "* O dicionário é uma estrutura de dados similar as listas ou ao JSON (Javascript Object Notation), mas não ordenado. Sua estrutura é composta por <code>chave:valor</code> ou <code>key:value</code>\n",
        "* Apesar de não ser ordenado, é indexado pela sua chave\n",
        "* Enquanto nas listas o delimitador são pares de colchetes `[]`, no dict são as chaves `{}`.\n",
        "\n",
        "```python\n",
        "dict = {\n",
        "  'chave1': 'valor1',\n",
        "  'chave2': 'valor2'\n",
        "}\n",
        "```"
      ],
      "metadata": {
        "id": "UDSqn5PdMXmc"
      }
    },
    {
      "cell_type": "code",
      "source": [
        "# dicionário de um aluno\n",
        "dic = {\n",
        "    'ra': 123, # int\n",
        "    'nome': 'Edson Souza', # string\n",
        "    'curso': 'Sistemas de Informação', # string\n",
        "    'altura': 1.76 # float\n",
        "}\n",
        "\n",
        "print(dic)"
      ],
      "metadata": {
        "colab": {
          "base_uri": "https://localhost:8080/"
        },
        "id": "psMOffgOMSwf",
        "outputId": "b3170f5c-06b5-4910-a7c5-0c94578ca48e"
      },
      "execution_count": null,
      "outputs": [
        {
          "output_type": "stream",
          "name": "stdout",
          "text": [
            "{'ra': 123, 'nome': 'Edson Souza', 'curso': 'Sistemas de Informação', 'altura': 1.76}\n"
          ]
        }
      ]
    },
    {
      "cell_type": "code",
      "source": [
        "# saída sem o print\n",
        "dic"
      ],
      "metadata": {
        "colab": {
          "base_uri": "https://localhost:8080/"
        },
        "id": "avPxh799Nxhu",
        "outputId": "e62c4bcb-699e-40dc-dd12-fc85f4a8bca2"
      },
      "execution_count": null,
      "outputs": [
        {
          "output_type": "execute_result",
          "data": {
            "text/plain": [
              "{'ra': 123,\n",
              " 'nome': 'Edson Souza',\n",
              " 'curso': 'Sistemas de Informação',\n",
              " 'altura': 1.76}"
            ]
          },
          "metadata": {},
          "execution_count": 8
        }
      ]
    },
    {
      "cell_type": "markdown",
      "source": [
        "### Acessando elementos do dicionário - [ ]"
      ],
      "metadata": {
        "id": "yY3AM8-lOAIR"
      }
    },
    {
      "cell_type": "code",
      "source": [
        "# acesso pela chave\n",
        "print(dic['ra'])\n",
        "print(dic['nome'])\n",
        "print(dic['curso'])\n",
        "print(dic['altura'])"
      ],
      "metadata": {
        "colab": {
          "base_uri": "https://localhost:8080/"
        },
        "id": "SdBMVmz3N7fX",
        "outputId": "a2b66881-2777-4b08-ece0-1dce96528ad1"
      },
      "execution_count": null,
      "outputs": [
        {
          "output_type": "stream",
          "name": "stdout",
          "text": [
            "123\n",
            "Edson Souza\n",
            "Sistemas de Informação\n",
            "1.76\n"
          ]
        }
      ]
    },
    {
      "cell_type": "code",
      "source": [
        "# acessando pelo método .get()\n",
        "print(dic.get('ra'))\n",
        "print(dic.get('nome'))"
      ],
      "metadata": {
        "colab": {
          "base_uri": "https://localhost:8080/"
        },
        "id": "P_4-X4CYOPxB",
        "outputId": "69633374-6fdc-41bf-e22e-ee0c6627a74c"
      },
      "execution_count": null,
      "outputs": [
        {
          "output_type": "stream",
          "name": "stdout",
          "text": [
            "123\n",
            "Edson Souza\n"
          ]
        }
      ]
    },
    {
      "cell_type": "markdown",
      "source": [
        "### Percorrendo um dicionário\n",
        "\n",
        "Para percorrer as chaves do dicionário para verificar os valores delas usamos um laço de repetição como `for` ou `while`.\n",
        "\n",
        "Existe também um método dos dicionários chamado `.items()` que permite acessar todos os itens de um dicionário.\n",
        "\n",
        "```python\n",
        "for key, value in dicionario.items(): # retorna um par chave:valor\n",
        "    print(key, value)\n",
        "```"
      ],
      "metadata": {
        "id": "fXKWq0bfO4jQ"
      }
    },
    {
      "cell_type": "code",
      "source": [
        "for chave, valor in dic.items():\n",
        "  print(chave, valor)"
      ],
      "metadata": {
        "colab": {
          "base_uri": "https://localhost:8080/"
        },
        "id": "uHoR7uuSOwrP",
        "outputId": "1743e01a-e517-4a8b-986f-851095f9df84"
      },
      "execution_count": null,
      "outputs": [
        {
          "output_type": "stream",
          "name": "stdout",
          "text": [
            "ra 123\n",
            "nome Edson Souza\n",
            "curso Sistemas de Informação\n",
            "altura 1.76\n"
          ]
        }
      ]
    },
    {
      "cell_type": "code",
      "source": [
        "# outra forma de percorrer\n",
        "chaves = dic.keys()\n",
        "print(chaves)"
      ],
      "metadata": {
        "colab": {
          "base_uri": "https://localhost:8080/"
        },
        "id": "DtTyl9nzPIbC",
        "outputId": "7e0a56f5-5bb1-4fec-8f00-c0de20905240"
      },
      "execution_count": null,
      "outputs": [
        {
          "output_type": "stream",
          "name": "stdout",
          "text": [
            "dict_keys(['ra', 'nome', 'curso', 'altura'])\n"
          ]
        }
      ]
    },
    {
      "cell_type": "code",
      "source": [
        "for key in chaves:\n",
        "  print(key)\n",
        "\n",
        "for key in dic.keys():\n",
        "  print(key)  "
      ],
      "metadata": {
        "colab": {
          "base_uri": "https://localhost:8080/"
        },
        "id": "-_kXckJ4QQxU",
        "outputId": "61fb22d2-0614-47eb-fc81-918a159c840d"
      },
      "execution_count": null,
      "outputs": [
        {
          "output_type": "stream",
          "name": "stdout",
          "text": [
            "ra\n",
            "nome\n",
            "curso\n",
            "altura\n",
            "ra\n",
            "nome\n",
            "curso\n",
            "altura\n"
          ]
        }
      ]
    },
    {
      "cell_type": "code",
      "source": [
        "for i in dic:\n",
        "  print(i)"
      ],
      "metadata": {
        "colab": {
          "base_uri": "https://localhost:8080/"
        },
        "id": "7zaBD5yuQYOb",
        "outputId": "de066728-40fe-4577-a5d6-de48dd9a6660"
      },
      "execution_count": null,
      "outputs": [
        {
          "output_type": "stream",
          "name": "stdout",
          "text": [
            "ra\n",
            "nome\n",
            "curso\n",
            "altura\n"
          ]
        }
      ]
    },
    {
      "cell_type": "code",
      "source": [
        "# outra forma de listar os valores do dicionário\n",
        "chaves = dic.keys()\n",
        "for key in chaves:\n",
        "  print(key, dic.get(key))\n",
        "\n",
        "print()\n",
        "\n",
        "for key in chaves:\n",
        "  print(key, dic[key])"
      ],
      "metadata": {
        "colab": {
          "base_uri": "https://localhost:8080/"
        },
        "id": "echVeuPDQfDO",
        "outputId": "c81fe4a5-6404-4bc0-c3da-381bc9df785f"
      },
      "execution_count": null,
      "outputs": [
        {
          "output_type": "stream",
          "name": "stdout",
          "text": [
            "ra 123\n",
            "nome Edson Souza\n",
            "curso Sistemas de Informação\n",
            "altura 1.76\n",
            "\n",
            "ra 123\n",
            "nome Edson Souza\n",
            "curso Sistemas de Informação\n",
            "altura 1.76\n"
          ]
        }
      ]
    },
    {
      "cell_type": "markdown",
      "source": [
        "### Manipulação de dicionários"
      ],
      "metadata": {
        "id": "kxBUHgg6ResJ"
      }
    },
    {
      "cell_type": "code",
      "source": [
        "# Adicionado chaves e valores de duas formas\n",
        "\n",
        "aluno = {\n",
        "    'ra': 123, # int\n",
        "    'nome': 'Edson Souza', # string\n",
        "    'curso': 'Sistemas de Informação', # string\n",
        "    'altura': 1.76 # float\n",
        "}\n",
        "\n",
        "# Forma 1\n",
        "aluno['AV1'] = 8\n",
        "print(aluno)"
      ],
      "metadata": {
        "colab": {
          "base_uri": "https://localhost:8080/"
        },
        "id": "1LeekRopRB5w",
        "outputId": "6fcc2042-3f1f-4983-8a75-f4d1d2d3d19a"
      },
      "execution_count": null,
      "outputs": [
        {
          "output_type": "stream",
          "name": "stdout",
          "text": [
            "{'ra': 123, 'nome': 'Edson Souza', 'curso': 'Sistemas de Informação', 'altura': 1.76, 'AV1': 8}\n"
          ]
        }
      ]
    },
    {
      "cell_type": "code",
      "source": [
        "# incluindo dados de forma dinâmica\n",
        "teste = {}\n",
        "chave = input()\n",
        "valor = input()\n",
        "\n",
        "teste[chave] = valor\n",
        "print(teste)"
      ],
      "metadata": {
        "colab": {
          "base_uri": "https://localhost:8080/"
        },
        "id": "lxBE4s_JR682",
        "outputId": "f7f04b21-469f-47d4-8e25-b991508b2f6c"
      },
      "execution_count": null,
      "outputs": [
        {
          "output_type": "stream",
          "name": "stdout",
          "text": [
            "nome\n",
            "Edson Melo de Souza\n",
            "{'nome': 'Edson Melo de Souza'}\n"
          ]
        }
      ]
    },
    {
      "cell_type": "code",
      "source": [
        "# Forma 2 - update()\n",
        "# Neste método, se a chave não existir, ela será criada, se não, será atualizada\n",
        "\n",
        "aluno.update({'AV2': 9.5})\n",
        "print(aluno)"
      ],
      "metadata": {
        "colab": {
          "base_uri": "https://localhost:8080/"
        },
        "id": "sX5a4-kfTUBV",
        "outputId": "a77eba6f-f976-48cf-87b9-1a0eb48040a9"
      },
      "execution_count": null,
      "outputs": [
        {
          "output_type": "stream",
          "name": "stdout",
          "text": [
            "{'ra': 123, 'nome': 'Edson Souza', 'curso': 'Sistemas de Informação', 'altura': 1.76, 'AV1': 8, 'AV2': 9.5}\n"
          ]
        }
      ]
    },
    {
      "cell_type": "code",
      "source": [
        "# Atualizando um valor existente\n",
        "aluno.update({'AV2': 10.0})\n",
        "print(aluno)"
      ],
      "metadata": {
        "colab": {
          "base_uri": "https://localhost:8080/"
        },
        "id": "jN2OGLKFUOuS",
        "outputId": "616e8025-50fd-413c-992b-f087f6429cbe"
      },
      "execution_count": null,
      "outputs": [
        {
          "output_type": "stream",
          "name": "stdout",
          "text": [
            "{'ra': 123, 'nome': 'Edson Souza', 'curso': 'Sistemas de Informação', 'altura': 1.76, 'AV1': 8, 'AV2': 10.0}\n"
          ]
        }
      ]
    },
    {
      "cell_type": "code",
      "source": [
        "# Removendo valores\n",
        "del aluno['AV1']\n",
        "print(aluno)"
      ],
      "metadata": {
        "colab": {
          "base_uri": "https://localhost:8080/"
        },
        "id": "-5z2kEGQUXq-",
        "outputId": "66c89fc7-6889-4315-dbe9-b6873931a5b0"
      },
      "execution_count": null,
      "outputs": [
        {
          "output_type": "stream",
          "name": "stdout",
          "text": [
            "{'ra': 123, 'nome': 'Edson Souza', 'curso': 'Sistemas de Informação', 'altura': 1.76, 'AV2': 10.0}\n"
          ]
        }
      ]
    },
    {
      "cell_type": "code",
      "source": [
        "# Verificando pertinência\n",
        "print('AV1' in aluno)\n",
        "print('nota' in aluno)\n",
        "print('AV5' not in aluno)"
      ],
      "metadata": {
        "colab": {
          "base_uri": "https://localhost:8080/"
        },
        "id": "jNQXnbYIUtgL",
        "outputId": "4cba1928-370e-4ce8-8425-4b1d7ffaacb8"
      },
      "execution_count": null,
      "outputs": [
        {
          "output_type": "stream",
          "name": "stdout",
          "text": [
            "False\n",
            "False\n",
            "True\n"
          ]
        }
      ]
    },
    {
      "cell_type": "markdown",
      "source": [
        "### Turbinando\n",
        "\n",
        "E se eu quiser criar um dicionário mais complexo, no caso com \"vários\" alunos?"
      ],
      "metadata": {
        "id": "L75Av_dlVFCo"
      }
    },
    {
      "cell_type": "code",
      "source": [
        "alunos = [\n",
        "    {'ra': 123, 'nome': 'ABC', 'curso': 'SI'},\n",
        "    {'ra': 456, 'nome': 'DEF', 'curso': 'CC'},\n",
        "    {'ra': 789, 'nome': 'HIJ', 'curso': 'ADS'}\n",
        "  ]\n",
        "\n",
        "alunos"
      ],
      "metadata": {
        "colab": {
          "base_uri": "https://localhost:8080/"
        },
        "id": "GbeWPUdzU-wf",
        "outputId": "33787401-a232-478a-9622-0b4dc7e24c09"
      },
      "execution_count": null,
      "outputs": [
        {
          "output_type": "execute_result",
          "data": {
            "text/plain": [
              "[{'ra': 123, 'nome': 'ABC', 'curso': 'SI'},\n",
              " {'ra': 456, 'nome': 'DEF', 'curso': 'CC'},\n",
              " {'ra': 789, 'nome': 'HIJ', 'curso': 'ADS'}]"
            ]
          },
          "metadata": {},
          "execution_count": 40
        }
      ]
    },
    {
      "cell_type": "code",
      "source": [
        "# Percorrendo os dados\n",
        "for aluno in alunos:  \n",
        "  print(aluno.get('ra'))"
      ],
      "metadata": {
        "id": "RjTc96IrV5dP"
      },
      "execution_count": null,
      "outputs": []
    },
    {
      "cell_type": "code",
      "source": [
        "# melhorando a listagem\n",
        "for dicionario in alunos:\n",
        "  for aluno in dicionario:\n",
        "    print(aluno, dicionario.get(aluno))\n",
        "  print()"
      ],
      "metadata": {
        "id": "sDOt1a9rWnUQ"
      },
      "execution_count": null,
      "outputs": []
    },
    {
      "cell_type": "markdown",
      "source": [
        "# Atividade\n",
        "\n",
        "Utilizando os coneitos vistos até a última aula, utilize os dados apresentados abaixo e mostre:\n",
        "*   Maior nota\n",
        "*   Menor nota\n",
        "*   Média das notas\n",
        "    \n",
        "__Atenção__: Deverão ser utilizadas _listas_, _dicionários_, _estruturas de repetição_ e _decisão_."
      ],
      "metadata": {
        "id": "lwZ8LzMjZuhC"
      }
    },
    {
      "cell_type": "code",
      "source": [
        "alunos = []\n",
        "alunos.append({'nome': 'Aluno 01', 'curso': 'Ciências da Computação', 'AV1':8 })\n",
        "alunos.append({'nome': 'Aluno 02', 'curso': 'Sistemas de Informação', 'AV1':7 })\n",
        "alunos.append({'nome': 'Aluno 03', 'curso': 'Sistemas de Informação', 'AV1':6 })\n",
        "alunos.append({'nome': 'Aluno 04', 'curso': 'Sistemas de Informação', 'AV1':6 })\n",
        "alunos.append({'nome': 'Aluno 05', 'curso': 'Sistemas de Informação', 'AV1':6 })\n",
        "alunos.append({'nome': 'Aluno 06', 'curso': 'Análise e Desenvolvimento de Sistemas', 'AV1':7 })\n",
        "alunos.append({'nome': 'Aluno 07', 'curso': 'Análise e Desenvolvimento de Sistemas', 'AV1':9 })\n",
        "alunos.append({'nome': 'Aluno 08', 'curso': 'Ciências da Computação', 'AV1':10 })\n",
        "alunos.append({'nome': 'Aluno 09', 'curso': 'Ciências da Computação', 'AV1':10 })\n",
        "alunos.append({'nome': 'Aluno 10', 'curso': 'Ciências da Computação', 'AV1':4 })\n",
        "alunos.append({'nome': 'Aluno 11', 'curso': 'Análise e Desenvolvimento de Sistemas', 'AV1':5 })\n",
        "alunos.append({'nome': 'Aluno 11', 'curso': 'Análise e Desenvolvimento de Sistemas', 'AV1':5 })\n",
        "alunos.append({'nome': 'Aluno 12', 'curso': 'Análise e Desenvolvimento de Sistemas', 'AV1':9 })\n",
        "alunos.append({'nome': 'Aluno 13', 'curso': 'Análise e Desenvolvimento de Sistemas', 'AV1':9 })\n",
        "alunos.append({'nome': 'Aluno 14', 'curso': 'Ciências da Computação', 'AV1': 7})\n",
        "alunos.append({'nome': 'Aluno 15', 'curso': 'Análise e Desenvolvimento de Sistemas', 'AV1':7})\n",
        "alunos.append({'nome': 'Aluno 16', 'curso': 'Ciências da Computação', 'AV1': 6})\n",
        "alunos.append({'nome': 'Aluno 17', 'curso': 'Análise e Desenvolvimento de Sistemas', 'AV1':8 })\n",
        "alunos.append({'nome': 'Aluno 18', 'curso': 'Ciências da Computação', 'AV1':4 })\n",
        "alunos.append({'nome': 'Aluno 19', 'curso': 'Sistemas de Informação', 'AV1':2 })\n",
        "alunos.append({'nome': 'Aluno 20', 'curso': 'Análise e Desenvolvimento de Sistemas', 'AV1':9 })"
      ],
      "metadata": {
        "id": "S_hA-JKIZ1Kz"
      },
      "execution_count": null,
      "outputs": []
    },
    {
      "cell_type": "code",
      "source": [
        "notas = []\n",
        "for aluno in alunos:\n",
        "  notas.append(aluno.get('AV1'))\n",
        "\n",
        "print('Maior nota:', max(notas))\n",
        "print('Menor nota:', min(notas))\n",
        "print('Média: %.2f' % (sum(notas)/len(notas)))"
      ],
      "metadata": {
        "colab": {
          "base_uri": "https://localhost:8080/"
        },
        "id": "uSCk8B6raEBa",
        "outputId": "4ae35a1e-a827-4b30-ebfb-91e75c858eff"
      },
      "execution_count": null,
      "outputs": [
        {
          "output_type": "stream",
          "name": "stdout",
          "text": [
            "Maior nota: 10\n",
            "Menor nota: 2\n",
            "Média: 6.86\n"
          ]
        }
      ]
    },
    {
      "cell_type": "markdown",
      "source": [
        "# Dicionários agregados"
      ],
      "metadata": {
        "id": "hFQSmVgmhFrd"
      }
    },
    {
      "cell_type": "code",
      "source": [
        "estudante = [\n",
        "    {\n",
        "      'ra': 123,\n",
        "      'disciplinas': ['Algoritmos', 'ciência de Dados', 'Java']\n",
        "    }\n",
        "]\n",
        "\n",
        "for disciplina in estudante:\n",
        "  print(disciplina.get('disciplinas'))"
      ],
      "metadata": {
        "colab": {
          "base_uri": "https://localhost:8080/"
        },
        "id": "V5QAmb8Df7J8",
        "outputId": "e00bcc06-d277-4ea8-e6d3-fbb3a7af8528"
      },
      "execution_count": null,
      "outputs": [
        {
          "output_type": "stream",
          "name": "stdout",
          "text": [
            "['Algoritmos', 'ciência de Dados', 'Java']\n"
          ]
        }
      ]
    },
    {
      "cell_type": "markdown",
      "source": [
        "___\n",
        "# Funções\n",
        "\n",
        "## São blocos de código que permitem agregar uma série de instruções para facilitar o reuso de código. Isso evita escrever uma sequência repetidas vezes, minimizando o esforço e os erros.\n",
        "\n",
        "```python\n",
        "def nome(parametros):\n",
        "  ...instruções...\n",
        "```"
      ],
      "metadata": {
        "id": "dt9O-uU8iFoj"
      }
    },
    {
      "cell_type": "code",
      "source": [
        "# Função sem parâmetros\n",
        "def funcao_1():\n",
        "  print('Esta é uma função')\n",
        "\n",
        "funcao_1()  "
      ],
      "metadata": {
        "colab": {
          "base_uri": "https://localhost:8080/"
        },
        "id": "t6I--zjfhsy9",
        "outputId": "c1740602-0880-445c-f903-98350feb8dd0"
      },
      "execution_count": null,
      "outputs": [
        {
          "output_type": "stream",
          "name": "stdout",
          "text": [
            "Esta é uma função\n"
          ]
        }
      ]
    },
    {
      "cell_type": "code",
      "source": [
        "# Função sem parâmetros com retorno\n",
        "# Esse tipo de função permite que seja armazenado o valor do seu retorno em uma variável\n",
        "def funcao_2():\n",
        "  return 'Retorno de uma função'\n",
        "\n",
        "retorno = funcao_2()"
      ],
      "metadata": {
        "id": "ZB2TwKH5i0Hz"
      },
      "execution_count": null,
      "outputs": []
    },
    {
      "cell_type": "code",
      "source": [
        "print(retorno)"
      ],
      "metadata": {
        "colab": {
          "base_uri": "https://localhost:8080/"
        },
        "id": "f4N4qAgfjUGY",
        "outputId": "a042e74f-4faa-44cf-8fc7-8db693343aa9"
      },
      "execution_count": null,
      "outputs": [
        {
          "output_type": "stream",
          "name": "stdout",
          "text": [
            "Retorno de uma função\n"
          ]
        }
      ]
    },
    {
      "cell_type": "code",
      "source": [
        "# Função com parâmetros\n",
        "def soma(a, b):\n",
        "  return (a + b)\n",
        "\n",
        "print(soma(10, 20))"
      ],
      "metadata": {
        "colab": {
          "base_uri": "https://localhost:8080/"
        },
        "id": "iKVUtOA3jmIK",
        "outputId": "c409416c-90c9-4f3c-c649-fb4768e1421f"
      },
      "execution_count": null,
      "outputs": [
        {
          "output_type": "stream",
          "name": "stdout",
          "text": [
            "30\n"
          ]
        }
      ]
    },
    {
      "cell_type": "code",
      "source": [
        "resultado = soma(100, 300)\n",
        "print(resultado)"
      ],
      "metadata": {
        "colab": {
          "base_uri": "https://localhost:8080/"
        },
        "id": "l-Y2oV6XkEsq",
        "outputId": "4fec37ce-f425-4ecb-cbed-bd6bfe99e57d"
      },
      "execution_count": null,
      "outputs": [
        {
          "output_type": "stream",
          "name": "stdout",
          "text": [
            "400\n"
          ]
        }
      ]
    },
    {
      "cell_type": "code",
      "source": [
        "# Melhorando as coisas...\n",
        "# Funções com listas\n",
        "def soma(valores):\n",
        "  return sum(valores)\n",
        "\n",
        "soma([1,2,3,4,5])"
      ],
      "metadata": {
        "colab": {
          "base_uri": "https://localhost:8080/"
        },
        "id": "AGdAda-mkSSP",
        "outputId": "ec078167-5bca-45fa-8f92-054505d1eb88"
      },
      "execution_count": null,
      "outputs": [
        {
          "output_type": "execute_result",
          "data": {
            "text/plain": [
              "15"
            ]
          },
          "metadata": {},
          "execution_count": 81
        }
      ]
    },
    {
      "cell_type": "code",
      "source": [
        "# Truque com o (*)\n",
        "\n",
        "def soma(*valores):\n",
        "  soma = 0\n",
        "\n",
        "  for n in valores:\n",
        "    soma += n\n",
        "\n",
        "  return soma\n",
        "\n",
        "soma(1,2,3)"
      ],
      "metadata": {
        "colab": {
          "base_uri": "https://localhost:8080/"
        },
        "id": "yvr_4Gr1ksFr",
        "outputId": "d64d8c7e-2716-425b-fa6d-a7132b28d0d8"
      },
      "execution_count": null,
      "outputs": [
        {
          "output_type": "execute_result",
          "data": {
            "text/plain": [
              "6"
            ]
          },
          "metadata": {},
          "execution_count": 82
        }
      ]
    },
    {
      "cell_type": "code",
      "source": [
        "soma(10, 4, -5, 8, 7, 12, 31)"
      ],
      "metadata": {
        "colab": {
          "base_uri": "https://localhost:8080/"
        },
        "id": "xZ38Vci-lMAa",
        "outputId": "6ba42ee4-fce2-441b-9ea4-917819c1ecb7"
      },
      "execution_count": null,
      "outputs": [
        {
          "output_type": "execute_result",
          "data": {
            "text/plain": [
              "67"
            ]
          },
          "metadata": {},
          "execution_count": 83
        }
      ]
    },
    {
      "cell_type": "markdown",
      "source": [
        "# Funções com mais de um retorno"
      ],
      "metadata": {
        "id": "UC3tDAEbloPa"
      }
    },
    {
      "cell_type": "code",
      "source": [
        "# O parâmetro é uma lista\n",
        "def calcular(valores):\n",
        "  \"\"\"\n",
        "  Parâmetro: lista de valores\n",
        "  Retorno: soma e máximo\n",
        "  \"\"\"\n",
        "  # soma e máximo\n",
        "  return sum(valores), max(valores), min(valores)"
      ],
      "metadata": {
        "id": "4QTn0FDVlPZC"
      },
      "execution_count": null,
      "outputs": []
    },
    {
      "cell_type": "code",
      "source": [
        "soma, max, min = calcular([1,2,3,4,5])"
      ],
      "metadata": {
        "id": "ltNqPnkCl3CV"
      },
      "execution_count": null,
      "outputs": []
    },
    {
      "cell_type": "code",
      "source": [
        "print(soma)\n",
        "print(max)\n",
        "print(min)"
      ],
      "metadata": {
        "colab": {
          "base_uri": "https://localhost:8080/"
        },
        "id": "w7eZi4SSmllx",
        "outputId": "2da2c9f5-3980-424e-a334-be347a3947a7"
      },
      "execution_count": null,
      "outputs": [
        {
          "output_type": "stream",
          "name": "stdout",
          "text": [
            "15\n",
            "5\n",
            "1\n"
          ]
        }
      ]
    },
    {
      "cell_type": "markdown",
      "source": [
        "# Atividade\n",
        "\n",
        "Desenvolver uma função que receba um número e diga se ele é par ou ímpar"
      ],
      "metadata": {
        "id": "xEX_K6DRnzmf"
      }
    },
    {
      "cell_type": "code",
      "source": [
        "#\n",
        "\n",
        "def par_impar(valor):\n",
        "  return (valor % 2 == 0)\n",
        "\n",
        "  # Um jeito mais chique\n",
        "  #return 'Par' if valor%2 == 0 else 'Ímpar'\n",
        "\n",
        "if par_impar(12):\n",
        "  print('Par')\n",
        "else:\n",
        "  print('Ímpar')"
      ],
      "metadata": {
        "colab": {
          "base_uri": "https://localhost:8080/"
        },
        "id": "etoLmVj9myKY",
        "outputId": "4a9e363b-f225-460e-9723-539eae10b8ab"
      },
      "execution_count": null,
      "outputs": [
        {
          "output_type": "stream",
          "name": "stdout",
          "text": [
            "Par\n"
          ]
        }
      ]
    },
    {
      "cell_type": "code",
      "source": [],
      "metadata": {
        "id": "7A2C-DozpG3W"
      },
      "execution_count": null,
      "outputs": []
    }
  ]
}