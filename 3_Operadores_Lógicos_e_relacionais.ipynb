{
  "nbformat": 4,
  "nbformat_minor": 0,
  "metadata": {
    "colab": {
      "name": "3-Operadores Lógicos e relacionais.ipynb",
      "provenance": [],
      "collapsed_sections": [],
      "authorship_tag": "ABX9TyNML8cMuK4RiRM2VIVj/0dP",
      "include_colab_link": true
    },
    "kernelspec": {
      "name": "python3",
      "display_name": "Python 3"
    },
    "language_info": {
      "name": "python"
    }
  },
  "cells": [
    {
      "cell_type": "markdown",
      "metadata": {
        "id": "view-in-github",
        "colab_type": "text"
      },
      "source": [
        "<a href=\"https://colab.research.google.com/github/isacNepo/aulas_faculdade/blob/master/3_Operadores_L%C3%B3gicos_e_relacionais.ipynb\" target=\"_parent\"><img src=\"https://colab.research.google.com/assets/colab-badge.svg\" alt=\"Open In Colab\"/></a>"
      ]
    },
    {
      "cell_type": "markdown",
      "source": [
        "#Operadores lógicos\n"
      ],
      "metadata": {
        "id": "zI-kgGrl8l5-"
      }
    },
    {
      "cell_type": "code",
      "source": [
        "a = True\n",
        "b = False"
      ],
      "metadata": {
        "id": "CaBKGZ9W9xUV"
      },
      "execution_count": 1,
      "outputs": []
    },
    {
      "cell_type": "code",
      "source": [
        "print(f'Avariavel a é {a} e a variavel b é {b}')"
      ],
      "metadata": {
        "colab": {
          "base_uri": "https://localhost:8080/"
        },
        "id": "OinXDPvi9_Me",
        "outputId": "f895bfba-bcc7-467e-af28-58fc77bd283f"
      },
      "execution_count": 2,
      "outputs": [
        {
          "output_type": "stream",
          "name": "stdout",
          "text": [
            "Avariavel a é True e a variavel b é False\n"
          ]
        }
      ]
    },
    {
      "cell_type": "code",
      "source": [
        "c = a and b\n",
        "print(c)"
      ],
      "metadata": {
        "colab": {
          "base_uri": "https://localhost:8080/"
        },
        "id": "GcKoamIZ-Tl-",
        "outputId": "f5556f77-8e21-4cff-a01f-9f2e2c186f21"
      },
      "execution_count": 3,
      "outputs": [
        {
          "output_type": "stream",
          "name": "stdout",
          "text": [
            "False\n"
          ]
        }
      ]
    },
    {
      "cell_type": "code",
      "source": [
        "c = a & b #é o mesmo que \"and\" apenas uma notação diferente\n",
        "print(c)"
      ],
      "metadata": {
        "colab": {
          "base_uri": "https://localhost:8080/"
        },
        "id": "YE7HNFn_-bC1",
        "outputId": "fd3d093c-9b25-4a16-9563-6e480fdc5f0f"
      },
      "execution_count": 4,
      "outputs": [
        {
          "output_type": "stream",
          "name": "stdout",
          "text": [
            "False\n"
          ]
        }
      ]
    },
    {
      "cell_type": "code",
      "source": [
        "d = a or b\n",
        "print(d)"
      ],
      "metadata": {
        "colab": {
          "base_uri": "https://localhost:8080/"
        },
        "id": "wye9DnoH-t1u",
        "outputId": "513efc2f-acc4-491d-d590-cda10b00e633"
      },
      "execution_count": 5,
      "outputs": [
        {
          "output_type": "stream",
          "name": "stdout",
          "text": [
            "True\n"
          ]
        }
      ]
    },
    {
      "cell_type": "code",
      "source": [
        "e = not a\n",
        "print(e)"
      ],
      "metadata": {
        "colab": {
          "base_uri": "https://localhost:8080/"
        },
        "id": "uWFVotw3-9RV",
        "outputId": "5e8748e8-8e19-4008-fa1a-8c8c12585e90"
      },
      "execution_count": 6,
      "outputs": [
        {
          "output_type": "stream",
          "name": "stdout",
          "text": [
            "False\n"
          ]
        }
      ]
    },
    {
      "cell_type": "markdown",
      "source": [
        "#Operadores relacionais"
      ],
      "metadata": {
        "id": "eq6XhpYH_FRE"
      }
    },
    {
      "cell_type": "code",
      "source": [
        "#variaveis\n",
        "x = 10\n",
        "y = 20\n",
        "z = 10"
      ],
      "metadata": {
        "id": "xmAPuZKX_KwD"
      },
      "execution_count": 7,
      "outputs": []
    },
    {
      "cell_type": "code",
      "source": [
        "print(x > y)"
      ],
      "metadata": {
        "colab": {
          "base_uri": "https://localhost:8080/"
        },
        "id": "bezDghS8_SXG",
        "outputId": "9fa70a39-aeb6-41d8-dd62-755a867c2678"
      },
      "execution_count": 8,
      "outputs": [
        {
          "output_type": "stream",
          "name": "stdout",
          "text": [
            "False\n"
          ]
        }
      ]
    },
    {
      "cell_type": "code",
      "source": [
        "print(x < y)"
      ],
      "metadata": {
        "colab": {
          "base_uri": "https://localhost:8080/"
        },
        "id": "W4boDWT1_WX-",
        "outputId": "45907a92-5069-4ba7-c997-5d681256e1b8"
      },
      "execution_count": 9,
      "outputs": [
        {
          "output_type": "stream",
          "name": "stdout",
          "text": [
            "True\n"
          ]
        }
      ]
    },
    {
      "cell_type": "code",
      "source": [
        "print(x >= z)"
      ],
      "metadata": {
        "colab": {
          "base_uri": "https://localhost:8080/"
        },
        "id": "xC8O6iLf_a2-",
        "outputId": "0a2d8052-beb9-488e-9907-6f01237c58de"
      },
      "execution_count": 10,
      "outputs": [
        {
          "output_type": "stream",
          "name": "stdout",
          "text": [
            "True\n"
          ]
        }
      ]
    },
    {
      "cell_type": "code",
      "source": [
        "print(x == y)\n",
        "print(x == z)"
      ],
      "metadata": {
        "colab": {
          "base_uri": "https://localhost:8080/"
        },
        "id": "HD_IDsmQ_iwd",
        "outputId": "908cf632-2284-4719-c389-5e0d0b516095"
      },
      "execution_count": 11,
      "outputs": [
        {
          "output_type": "stream",
          "name": "stdout",
          "text": [
            "False\n",
            "True\n"
          ]
        }
      ]
    },
    {
      "cell_type": "code",
      "source": [
        "print(x != y)\n",
        "print(x != z)"
      ],
      "metadata": {
        "colab": {
          "base_uri": "https://localhost:8080/"
        },
        "id": "4FycOGuG_pgt",
        "outputId": "80d4a872-1216-4ec8-c11c-c3727942f2f0"
      },
      "execution_count": 12,
      "outputs": [
        {
          "output_type": "stream",
          "name": "stdout",
          "text": [
            "True\n",
            "False\n"
          ]
        }
      ]
    }
  ]
}