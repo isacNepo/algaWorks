{
  "nbformat": 4,
  "nbformat_minor": 0,
  "metadata": {
    "colab": {
      "name": "4-Operadores condicionais.ipynb",
      "provenance": [],
      "collapsed_sections": [],
      "authorship_tag": "ABX9TyPz1Zh8UsMWTzoWet1lKIBH",
      "include_colab_link": true
    },
    "kernelspec": {
      "name": "python3",
      "display_name": "Python 3"
    },
    "language_info": {
      "name": "python"
    }
  },
  "cells": [
    {
      "cell_type": "markdown",
      "metadata": {
        "id": "view-in-github",
        "colab_type": "text"
      },
      "source": [
        "<a href=\"https://colab.research.google.com/github/isacNepo/aulas_faculdade/blob/master/4_Operadores_condicionais.ipynb\" target=\"_parent\"><img src=\"https://colab.research.google.com/assets/colab-badge.svg\" alt=\"Open In Colab\"/></a>"
      ]
    },
    {
      "cell_type": "markdown",
      "source": [
        "#Operadores condicionais (devio condicional)"
      ],
      "metadata": {
        "id": "B00G42i1AoQo"
      }
    },
    {
      "cell_type": "code",
      "source": [
        "x = 3\n",
        "y = 8"
      ],
      "metadata": {
        "id": "DX9xmrhdAwzW"
      },
      "execution_count": 2,
      "outputs": []
    },
    {
      "cell_type": "code",
      "source": [
        "print(x > y)"
      ],
      "metadata": {
        "colab": {
          "base_uri": "https://localhost:8080/"
        },
        "id": "LMzHyElTA0x-",
        "outputId": "e0ce2fde-7a88-44b4-d344-e04364583463"
      },
      "execution_count": 3,
      "outputs": [
        {
          "output_type": "stream",
          "name": "stdout",
          "text": [
            "False\n"
          ]
        }
      ]
    },
    {
      "cell_type": "code",
      "source": [
        "if x > y:\n",
        "  print('O x é maior que o y!')\n",
        "print('Olá mundo!')  "
      ],
      "metadata": {
        "colab": {
          "base_uri": "https://localhost:8080/"
        },
        "id": "LzppSNgKA4O1",
        "outputId": "f80ac5fa-2922-44dc-c746-c3e729081650"
      },
      "execution_count": 5,
      "outputs": [
        {
          "output_type": "stream",
          "name": "stdout",
          "text": [
            "Olá mundo!\n"
          ]
        }
      ]
    },
    {
      "cell_type": "code",
      "source": [
        "if x <= y:\n",
        "  print('O y é maior ou igual em relação ao x')\n",
        "else:\n",
        "  print('O y é menor em relação ao x')  "
      ],
      "metadata": {
        "colab": {
          "base_uri": "https://localhost:8080/"
        },
        "id": "ODPUHFhSBRvW",
        "outputId": "cad34775-32e5-43c7-d31a-0c939629fcc0"
      },
      "execution_count": 7,
      "outputs": [
        {
          "output_type": "stream",
          "name": "stdout",
          "text": [
            "O y é maior ou igual em relação ao x\n"
          ]
        }
      ]
    },
    {
      "cell_type": "code",
      "source": [
        "z = 2\n",
        "\n",
        "if z == 1:\n",
        "  print('Z vale 1!')\n",
        "elif z == 2:\n",
        "  print('Z vale 2!')\n",
        "elif z == 3:\n",
        "  print('Z vale 3!')\n",
        "else:\n",
        "  print('Z não vale nem 1, nem 2, nem 3!')      "
      ],
      "metadata": {
        "colab": {
          "base_uri": "https://localhost:8080/"
        },
        "id": "12dP3xZ1BrY-",
        "outputId": "b5ec2ac5-505c-4f95-a22d-a7a0dead535b"
      },
      "execution_count": 8,
      "outputs": [
        {
          "output_type": "stream",
          "name": "stdout",
          "text": [
            "Z vale 2!\n"
          ]
        }
      ]
    },
    {
      "cell_type": "code",
      "source": [
        "a = 1\n",
        "b = 5\n",
        "\n",
        "if (a > 1) or (b % 2 == 0):\n",
        "  print('X é maior que 1 ou y é par!')\n",
        "else:\n",
        "  print('Uma ou nenhuma das condições foram atendidas no if')  "
      ],
      "metadata": {
        "colab": {
          "base_uri": "https://localhost:8080/"
        },
        "id": "Fls8OUsECPre",
        "outputId": "5276556a-0286-4768-b24c-39ec368bfce9"
      },
      "execution_count": 9,
      "outputs": [
        {
          "output_type": "stream",
          "name": "stdout",
          "text": [
            "Uma ou nenhuma das condições foram atendidas no if\n"
          ]
        }
      ]
    },
    {
      "cell_type": "markdown",
      "source": [
        "#Exercicio de fixação"
      ],
      "metadata": {
        "id": "iYBtqF-6C_KA"
      }
    },
    {
      "cell_type": "markdown",
      "source": [
        "1.Leia a idade do usuário e classifique-o em:\n",
        "  - Criança – 0 a 12 anos\n",
        "  - Adolescente – 13 a 17 anos\n",
        "  - Adulto – acima de 18 anos\n",
        "  - Se o usuário digitar um número negativo, mostrar a mensagem que a idade é inválida"
      ],
      "metadata": {
        "id": "B-cpEGJRDe_2"
      }
    },
    {
      "cell_type": "code",
      "source": [
        "idade = int(input('Informe a idade: '))"
      ],
      "metadata": {
        "colab": {
          "base_uri": "https://localhost:8080/"
        },
        "id": "5Z8IMPlLDxKW",
        "outputId": "1d6eb560-0227-4d3e-bd7a-ecc070c8367c"
      },
      "execution_count": 11,
      "outputs": [
        {
          "name": "stdout",
          "output_type": "stream",
          "text": [
            "Informe a idade: 20\n"
          ]
        }
      ]
    },
    {
      "cell_type": "code",
      "source": [
        "if idade >= 0 and idade <= 12:\n",
        "  print('É uma criança')\n",
        "elif idade > 12 and idade <= 18:\n",
        "  print('É um adolescente!')\n",
        "elif idade > 18:\n",
        "  print('É adulto!')\n",
        "else: \n",
        "  print('A idade é invalida')      "
      ],
      "metadata": {
        "colab": {
          "base_uri": "https://localhost:8080/"
        },
        "id": "RcEfjUB-EFU_",
        "outputId": "b6f50050-6a88-44af-f53f-bf029a6a646e"
      },
      "execution_count": 12,
      "outputs": [
        {
          "output_type": "stream",
          "name": "stdout",
          "text": [
            "É adulto!\n"
          ]
        }
      ]
    },
    {
      "cell_type": "markdown",
      "source": [
        "2. Calcular a média de um aluno que cursou a disciplina de Inteligência Artificia;, a partir da leitura das notas N1, N2 e N3; passando por um cálculo da média aritmética (n1 + n2 + n3) / 3. Após a média calculada, devemos anunciar se o aluno foi aprovado, reprovado ou pegou DP\n",
        "  - Se a média estiver entre 0.0 e 4.0, o aluno está reprovado\n",
        "  - Se a média estiver entre 4.1 e 6.0, o aluno pegou DP\n",
        "  - Se a média for maior do que 6.0, o aluno está aprovado\n",
        "  - Se o aluno pegou DP, deve ser lida a nota da própria DP. "
      ],
      "metadata": {
        "id": "nsLrwZllE6kg"
      }
    },
    {
      "cell_type": "code",
      "source": [
        "n1 = float(input('Informe a Nota 1: '))\n",
        "n2 = float(input('Informe a Nota 2: '))\n",
        "n3 = float(input('Informe a Nota 3: '))"
      ],
      "metadata": {
        "colab": {
          "base_uri": "https://localhost:8080/"
        },
        "id": "txgzp5yMFP7f",
        "outputId": "1785695c-919e-4f57-dcf2-f2ac17a29a07"
      },
      "execution_count": 13,
      "outputs": [
        {
          "name": "stdout",
          "output_type": "stream",
          "text": [
            "Informe a Nota 1: 10\n",
            "Informe a Nota 2: 2\n",
            "Informe a Nota 3: 3\n"
          ]
        }
      ]
    },
    {
      "cell_type": "code",
      "source": [
        "media = (n1 + n2 + n3) / 3\n",
        "print(f'A média é {media}')"
      ],
      "metadata": {
        "colab": {
          "base_uri": "https://localhost:8080/"
        },
        "id": "nri5GmVJFg3P",
        "outputId": "185bc3ad-e7da-45a9-ab00-efc78512f5d1"
      },
      "execution_count": 14,
      "outputs": [
        {
          "output_type": "stream",
          "name": "stdout",
          "text": [
            "A média é 5.0\n"
          ]
        }
      ]
    },
    {
      "cell_type": "code",
      "source": [
        "if media >= 0 and media <= 4:\n",
        "  print('Aluno está reprovado')\n",
        "elif media >= 4.1 and media <= 6:\n",
        "  dp = float(input('Digite a nota da DP: '))\n",
        "  if dp >= 6.0:\n",
        "    print('Aluno aprovado com DP')\n",
        "  else:\n",
        "    print('Aluno reprovado na DP')\n",
        "else:\n",
        "  print('Aluno aprovado!')        "
      ],
      "metadata": {
        "colab": {
          "base_uri": "https://localhost:8080/"
        },
        "id": "l5Vi5vJAFxFP",
        "outputId": "51e109c6-c589-4385-c820-15f95d44f703"
      },
      "execution_count": 15,
      "outputs": [
        {
          "output_type": "stream",
          "name": "stdout",
          "text": [
            "Digite a nota da DP: 6\n",
            "Aluno aprovado com DP\n"
          ]
        }
      ]
    }
  ]
}