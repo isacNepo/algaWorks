{
  "nbformat": 4,
  "nbformat_minor": 0,
  "metadata": {
    "colab": {
      "name": "7-Coleções.ipynb",
      "provenance": [],
      "collapsed_sections": [],
      "authorship_tag": "ABX9TyNHvOfuqLmOVVHPFhBeXhWf",
      "include_colab_link": true
    },
    "kernelspec": {
      "name": "python3",
      "display_name": "Python 3"
    },
    "language_info": {
      "name": "python"
    }
  },
  "cells": [
    {
      "cell_type": "markdown",
      "metadata": {
        "id": "view-in-github",
        "colab_type": "text"
      },
      "source": [
        "<a href=\"https://colab.research.google.com/github/isacNepo/aulas_faculdade/blob/master/7_Cole%C3%A7%C3%B5es.ipynb\" target=\"_parent\"><img src=\"https://colab.research.google.com/assets/colab-badge.svg\" alt=\"Open In Colab\"/></a>"
      ]
    },
    {
      "cell_type": "markdown",
      "source": [
        "#Coleções"
      ],
      "metadata": {
        "id": "2zkRcvh6RcJ8"
      }
    },
    {
      "cell_type": "markdown",
      "source": [
        "## Listas:"
      ],
      "metadata": {
        "id": "0_89cRzISwar"
      }
    },
    {
      "cell_type": "code",
      "source": [
        "compras = ['Banana', 'Leite', 'Maçã', 'Chocolate']\n",
        "nomes = ['Thiago', 'Guilherme', 'Giovane', 'Larissa', 'Giovana']"
      ],
      "metadata": {
        "id": "AC198AmtS1zj"
      },
      "execution_count": null,
      "outputs": []
    },
    {
      "cell_type": "code",
      "source": [
        "print(compras)\n",
        "print(nomes)"
      ],
      "metadata": {
        "colab": {
          "base_uri": "https://localhost:8080/"
        },
        "id": "xoIdyEG2TXwT",
        "outputId": "885c80a6-c097-4dc1-fe64-c826c4b2feef"
      },
      "execution_count": null,
      "outputs": [
        {
          "output_type": "stream",
          "name": "stdout",
          "text": [
            "['Banana', 'Leite', 'Maçã', 'Chocolate']\n",
            "['Thiago', 'Guilherme', 'Giovane', 'Larissa', 'Giovana']\n"
          ]
        }
      ]
    },
    {
      "cell_type": "code",
      "source": [
        "print(compras[1:3])"
      ],
      "metadata": {
        "colab": {
          "base_uri": "https://localhost:8080/"
        },
        "id": "VJN7z81kTgOs",
        "outputId": "2cc56dc3-dde0-4f58-f6ac-f7fcf85dd398"
      },
      "execution_count": null,
      "outputs": [
        {
          "output_type": "stream",
          "name": "stdout",
          "text": [
            "['Leite', 'Maçã']\n"
          ]
        }
      ]
    },
    {
      "cell_type": "code",
      "source": [
        "compras.append('Nutella')\n",
        "print(compras)"
      ],
      "metadata": {
        "colab": {
          "base_uri": "https://localhost:8080/"
        },
        "id": "wHOobcfwTwUr",
        "outputId": "0adc9457-6142-4084-f05e-e901f18a9329"
      },
      "execution_count": null,
      "outputs": [
        {
          "output_type": "stream",
          "name": "stdout",
          "text": [
            "['Banana', 'Leite', 'Maçã', 'Chocolate', 'Nutella']\n"
          ]
        }
      ]
    },
    {
      "cell_type": "code",
      "source": [
        "compras.remove('Chocolate')\n",
        "print(compras)"
      ],
      "metadata": {
        "colab": {
          "base_uri": "https://localhost:8080/"
        },
        "id": "5JMmLINBT3_s",
        "outputId": "6272b818-c2f1-4b0e-f254-b2876d9c7a66"
      },
      "execution_count": null,
      "outputs": [
        {
          "output_type": "stream",
          "name": "stdout",
          "text": [
            "['Banana', 'Leite', 'Maçã', 'Nutella']\n"
          ]
        }
      ]
    },
    {
      "cell_type": "code",
      "source": [
        "for item in compras:\n",
        "  print(f'Preciso comprar: {item}')"
      ],
      "metadata": {
        "colab": {
          "base_uri": "https://localhost:8080/"
        },
        "id": "rGvB05NPUiGT",
        "outputId": "efafa1de-5239-4058-ba32-8caa74db3aa0"
      },
      "execution_count": null,
      "outputs": [
        {
          "output_type": "stream",
          "name": "stdout",
          "text": [
            "Preciso comprar: Banana\n",
            "Preciso comprar: Leite\n",
            "Preciso comprar: Maçã\n",
            "Preciso comprar: Nutella\n"
          ]
        }
      ]
    },
    {
      "cell_type": "markdown",
      "source": [
        "##Mapas (dicionários)"
      ],
      "metadata": {
        "id": "X58O5gbS-k04"
      }
    },
    {
      "cell_type": "code",
      "source": [
        "estoque = {'Baterias': 8, 'Telas': 10, 'Cameras': 9, 'Cabos': 3} \n",
        "#assim que se define um map em py"
      ],
      "metadata": {
        "id": "bzGKbL6X-v3Q"
      },
      "execution_count": 4,
      "outputs": []
    },
    {
      "cell_type": "code",
      "source": [
        "print(estoque)"
      ],
      "metadata": {
        "colab": {
          "base_uri": "https://localhost:8080/"
        },
        "id": "ukm8NZW2ELES",
        "outputId": "d990d342-f0c6-480c-d141-aa891f679a5d"
      },
      "execution_count": 5,
      "outputs": [
        {
          "output_type": "stream",
          "name": "stdout",
          "text": [
            "{'Baterias': 8, 'Telas': 10, 'Cameras': 9, 'Cabos': 3}\n"
          ]
        }
      ]
    },
    {
      "cell_type": "code",
      "source": [
        "estoque['Placa'] = 20 #acrescenta na lista\n",
        "estoque['Baterias'] = 7 #atualiza um item existente"
      ],
      "metadata": {
        "id": "adD_WAuoEjoa"
      },
      "execution_count": 8,
      "outputs": []
    },
    {
      "cell_type": "code",
      "source": [
        "print(estoque)"
      ],
      "metadata": {
        "colab": {
          "base_uri": "https://localhost:8080/"
        },
        "id": "fv_uYBHVEvIy",
        "outputId": "1bc7d29f-48b4-4331-c50e-830ed2a47ef3"
      },
      "execution_count": 9,
      "outputs": [
        {
          "output_type": "stream",
          "name": "stdout",
          "text": [
            "{'Baterias': 7, 'Telas': 10, 'Cameras': 9, 'Cabos': 3, 'Placa': 20}\n"
          ]
        }
      ]
    },
    {
      "cell_type": "code",
      "source": [
        "del(estoque['Cameras']) #deleta um item "
      ],
      "metadata": {
        "id": "xUDqagNAFTza"
      },
      "execution_count": 10,
      "outputs": []
    },
    {
      "cell_type": "code",
      "source": [
        "print(estoque)"
      ],
      "metadata": {
        "colab": {
          "base_uri": "https://localhost:8080/"
        },
        "id": "uTGEkfHvFiLK",
        "outputId": "7a55628e-5b61-4d92-8c9e-7e418b94018f"
      },
      "execution_count": 11,
      "outputs": [
        {
          "output_type": "stream",
          "name": "stdout",
          "text": [
            "{'Baterias': 7, 'Telas': 10, 'Cabos': 3, 'Placa': 20}\n"
          ]
        }
      ]
    },
    {
      "cell_type": "code",
      "source": [
        "print(estoque.items())"
      ],
      "metadata": {
        "colab": {
          "base_uri": "https://localhost:8080/"
        },
        "id": "318d1FieFo2r",
        "outputId": "b00e82c6-1e97-49e8-83db-6ccff42fd82f"
      },
      "execution_count": 12,
      "outputs": [
        {
          "output_type": "stream",
          "name": "stdout",
          "text": [
            "dict_items([('Baterias', 7), ('Telas', 10), ('Cabos', 3), ('Placa', 20)])\n"
          ]
        }
      ]
    },
    {
      "cell_type": "code",
      "source": [
        "estoque.keys()"
      ],
      "metadata": {
        "colab": {
          "base_uri": "https://localhost:8080/"
        },
        "id": "7QpTPN3aGhkC",
        "outputId": "c9fcd43f-a2ac-4eb5-8971-d952d224ce6f"
      },
      "execution_count": 13,
      "outputs": [
        {
          "output_type": "execute_result",
          "data": {
            "text/plain": [
              "dict_keys(['Baterias', 'Telas', 'Cabos', 'Placa'])"
            ]
          },
          "metadata": {},
          "execution_count": 13
        }
      ]
    },
    {
      "cell_type": "code",
      "source": [
        "estoque2 = {'Fones': 2, 'Protetores': 50, 'Baterias': 20}"
      ],
      "metadata": {
        "id": "V_AIhO4ZGnGS"
      },
      "execution_count": 14,
      "outputs": []
    },
    {
      "cell_type": "code",
      "source": [
        "print(estoque)\n",
        "print(estoque2)"
      ],
      "metadata": {
        "colab": {
          "base_uri": "https://localhost:8080/"
        },
        "id": "vHMGamheG3Ni",
        "outputId": "e5ca7a78-6d97-4f68-dad8-c3fd8802bf73"
      },
      "execution_count": 15,
      "outputs": [
        {
          "output_type": "stream",
          "name": "stdout",
          "text": [
            "{'Baterias': 7, 'Telas': 10, 'Cabos': 3, 'Placa': 20}\n",
            "{'Fones': 2, 'Protetores': 50, 'Baterias': 20}\n"
          ]
        }
      ]
    },
    {
      "cell_type": "code",
      "source": [
        "estoque.update(estoque2) #cria itens que não existem e atualiza os existentes\n",
        "print(estoque)"
      ],
      "metadata": {
        "colab": {
          "base_uri": "https://localhost:8080/"
        },
        "id": "esPnL2BPG_Ux",
        "outputId": "23f3a777-c07e-4cf0-e13e-845390373389"
      },
      "execution_count": 16,
      "outputs": [
        {
          "output_type": "stream",
          "name": "stdout",
          "text": [
            "{'Baterias': 20, 'Telas': 10, 'Cabos': 3, 'Placa': 20, 'Fones': 2, 'Protetores': 50}\n"
          ]
        }
      ]
    },
    {
      "cell_type": "code",
      "source": [
        "for material, num_itens in estoque.items():\n",
        "  print(f'Item em estoque {material}-> Quantidade: {num_itens}')"
      ],
      "metadata": {
        "colab": {
          "base_uri": "https://localhost:8080/"
        },
        "id": "eT1fp5-rHSZr",
        "outputId": "32366c1d-5571-4e90-cc89-a736a398bcfa"
      },
      "execution_count": 17,
      "outputs": [
        {
          "output_type": "stream",
          "name": "stdout",
          "text": [
            "Item em estoque Baterias -> Quantidade: 20\n",
            "Item em estoque Telas -> Quantidade: 10\n",
            "Item em estoque Cabos -> Quantidade: 3\n",
            "Item em estoque Placa -> Quantidade: 20\n",
            "Item em estoque Fones -> Quantidade: 2\n",
            "Item em estoque Protetores -> Quantidade: 50\n"
          ]
        }
      ]
    },
    {
      "cell_type": "markdown",
      "source": [
        "## Sets (conjuntos)"
      ],
      "metadata": {
        "id": "kS_mRBcRJnUa"
      }
    },
    {
      "cell_type": "code",
      "source": [
        "biomoleculas = ('áciodo nucleico', 'carboidrato', 'proteina', 'lipídeo', 'carboidrato', 'lipídeo')"
      ],
      "metadata": {
        "id": "VbYKBpETKshS"
      },
      "execution_count": 19,
      "outputs": []
    },
    {
      "cell_type": "code",
      "source": [
        "print(biomoleculas)"
      ],
      "metadata": {
        "colab": {
          "base_uri": "https://localhost:8080/"
        },
        "id": "WRwMqXWdLKr6",
        "outputId": "146a8dd1-3f5f-4ff8-ea79-c25620a876aa"
      },
      "execution_count": 20,
      "outputs": [
        {
          "output_type": "stream",
          "name": "stdout",
          "text": [
            "('áciodo nucleico', 'carboidrato', 'proteina', 'lipídeo', 'carboidrato', 'lipídeo')\n"
          ]
        }
      ]
    },
    {
      "cell_type": "code",
      "source": [
        "x = set(biomoleculas)\n",
        "print(x)"
      ],
      "metadata": {
        "colab": {
          "base_uri": "https://localhost:8080/"
        },
        "id": "m28YXaucLS1q",
        "outputId": "4cac6eaa-caa1-4a04-b6be-06d23ad6261e"
      },
      "execution_count": 21,
      "outputs": [
        {
          "output_type": "stream",
          "name": "stdout",
          "text": [
            "{'lipídeo', 'carboidrato', 'proteina', 'áciodo nucleico'}\n"
          ]
        }
      ]
    },
    {
      "cell_type": "code",
      "source": [
        "c1 = {1, 2, 3, 4, 5}\n",
        "c2 = {3, 4, 5, 6, 7}\n",
        "\n",
        "c3 = c1.intersection(c2)"
      ],
      "metadata": {
        "id": "921dpFLVLmvV"
      },
      "execution_count": 22,
      "outputs": []
    },
    {
      "cell_type": "code",
      "source": [
        "print(c1)\n",
        "print(c2)\n",
        "print(c3)"
      ],
      "metadata": {
        "colab": {
          "base_uri": "https://localhost:8080/"
        },
        "id": "kpcA2SFLL2vT",
        "outputId": "81febe3e-f4dd-45ab-c7df-24fbc6ab5459"
      },
      "execution_count": 23,
      "outputs": [
        {
          "output_type": "stream",
          "name": "stdout",
          "text": [
            "{1, 2, 3, 4, 5}\n",
            "{3, 4, 5, 6, 7}\n",
            "{3, 4, 5}\n"
          ]
        }
      ]
    },
    {
      "cell_type": "code",
      "source": [
        "c4 = c1.difference(c2)\n",
        "print(c4)"
      ],
      "metadata": {
        "colab": {
          "base_uri": "https://localhost:8080/"
        },
        "id": "nn-JxeZzL9RL",
        "outputId": "0e0bc852-66f1-4ff6-8163-d969ca065819"
      },
      "execution_count": 24,
      "outputs": [
        {
          "output_type": "stream",
          "name": "stdout",
          "text": [
            "{1, 2}\n"
          ]
        }
      ]
    }
  ]
}