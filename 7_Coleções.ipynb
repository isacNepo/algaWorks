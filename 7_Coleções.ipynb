{
  "nbformat": 4,
  "nbformat_minor": 0,
  "metadata": {
    "colab": {
      "name": "7-Coleções.ipynb",
      "provenance": [],
      "collapsed_sections": [],
      "authorship_tag": "ABX9TyMQDYqBpfr+9I7ff4CmJO2X",
      "include_colab_link": true
    },
    "kernelspec": {
      "name": "python3",
      "display_name": "Python 3"
    },
    "language_info": {
      "name": "python"
    }
  },
  "cells": [
    {
      "cell_type": "markdown",
      "metadata": {
        "id": "view-in-github",
        "colab_type": "text"
      },
      "source": [
        "<a href=\"https://colab.research.google.com/github/isacNepo/aulas_faculdade/blob/master/7_Cole%C3%A7%C3%B5es.ipynb\" target=\"_parent\"><img src=\"https://colab.research.google.com/assets/colab-badge.svg\" alt=\"Open In Colab\"/></a>"
      ]
    },
    {
      "cell_type": "markdown",
      "source": [
        "#Coleções"
      ],
      "metadata": {
        "id": "2zkRcvh6RcJ8"
      }
    },
    {
      "cell_type": "markdown",
      "source": [
        "## Listas:"
      ],
      "metadata": {
        "id": "0_89cRzISwar"
      }
    },
    {
      "cell_type": "code",
      "source": [
        "compras = ['Banana', 'Leite', 'Maçã', 'Chocolate']\n",
        "nomes = ['Thiago', 'Guilherme', 'Giovane', 'Larissa', 'Giovana']"
      ],
      "metadata": {
        "id": "AC198AmtS1zj"
      },
      "execution_count": 1,
      "outputs": []
    },
    {
      "cell_type": "code",
      "source": [
        "print(compras)\n",
        "print(nomes)"
      ],
      "metadata": {
        "colab": {
          "base_uri": "https://localhost:8080/"
        },
        "id": "xoIdyEG2TXwT",
        "outputId": "885c80a6-c097-4dc1-fe64-c826c4b2feef"
      },
      "execution_count": 2,
      "outputs": [
        {
          "output_type": "stream",
          "name": "stdout",
          "text": [
            "['Banana', 'Leite', 'Maçã', 'Chocolate']\n",
            "['Thiago', 'Guilherme', 'Giovane', 'Larissa', 'Giovana']\n"
          ]
        }
      ]
    },
    {
      "cell_type": "code",
      "source": [
        "print(compras[1:3])"
      ],
      "metadata": {
        "colab": {
          "base_uri": "https://localhost:8080/"
        },
        "id": "VJN7z81kTgOs",
        "outputId": "2cc56dc3-dde0-4f58-f6ac-f7fcf85dd398"
      },
      "execution_count": 4,
      "outputs": [
        {
          "output_type": "stream",
          "name": "stdout",
          "text": [
            "['Leite', 'Maçã']\n"
          ]
        }
      ]
    },
    {
      "cell_type": "code",
      "source": [
        "compras.append('Nutella')\n",
        "print(compras)"
      ],
      "metadata": {
        "colab": {
          "base_uri": "https://localhost:8080/"
        },
        "id": "wHOobcfwTwUr",
        "outputId": "0adc9457-6142-4084-f05e-e901f18a9329"
      },
      "execution_count": 5,
      "outputs": [
        {
          "output_type": "stream",
          "name": "stdout",
          "text": [
            "['Banana', 'Leite', 'Maçã', 'Chocolate', 'Nutella']\n"
          ]
        }
      ]
    },
    {
      "cell_type": "code",
      "source": [
        "compras.remove('Chocolate')\n",
        "print(compras)"
      ],
      "metadata": {
        "colab": {
          "base_uri": "https://localhost:8080/"
        },
        "id": "5JMmLINBT3_s",
        "outputId": "6272b818-c2f1-4b0e-f254-b2876d9c7a66"
      },
      "execution_count": 6,
      "outputs": [
        {
          "output_type": "stream",
          "name": "stdout",
          "text": [
            "['Banana', 'Leite', 'Maçã', 'Nutella']\n"
          ]
        }
      ]
    },
    {
      "cell_type": "code",
      "source": [
        "for item in compras:\n",
        "  print(f'Preciso comprar: {item}')"
      ],
      "metadata": {
        "colab": {
          "base_uri": "https://localhost:8080/"
        },
        "id": "rGvB05NPUiGT",
        "outputId": "efafa1de-5239-4058-ba32-8caa74db3aa0"
      },
      "execution_count": 7,
      "outputs": [
        {
          "output_type": "stream",
          "name": "stdout",
          "text": [
            "Preciso comprar: Banana\n",
            "Preciso comprar: Leite\n",
            "Preciso comprar: Maçã\n",
            "Preciso comprar: Nutella\n"
          ]
        }
      ]
    }
  ]
}