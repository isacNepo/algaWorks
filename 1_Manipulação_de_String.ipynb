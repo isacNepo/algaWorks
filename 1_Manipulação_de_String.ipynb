{
  "nbformat": 4,
  "nbformat_minor": 0,
  "metadata": {
    "colab": {
      "name": "1 - Manipulação de String.ipynb",
      "provenance": [],
      "authorship_tag": "ABX9TyMxpxJpShUBMemStyvIxwRf",
      "include_colab_link": true
    },
    "kernelspec": {
      "name": "python3",
      "display_name": "Python 3"
    },
    "language_info": {
      "name": "python"
    }
  },
  "cells": [
    {
      "cell_type": "markdown",
      "metadata": {
        "id": "view-in-github",
        "colab_type": "text"
      },
      "source": [
        "<a href=\"https://colab.research.google.com/github/isacNepo/algaWorks/blob/master/1_Manipula%C3%A7%C3%A3o_de_String.ipynb\" target=\"_parent\"><img src=\"https://colab.research.google.com/assets/colab-badge.svg\" alt=\"Open In Colab\"/></a>"
      ]
    },
    {
      "cell_type": "markdown",
      "source": [
        "# Manipulando Strings"
      ],
      "metadata": {
        "id": "DCxJXsRx7lyX"
      }
    },
    {
      "cell_type": "code",
      "source": [
        "a = 'pato'\n",
        "b = 'azul'\n",
        "c = 'black'\n",
        "\n",
        "print(a)\n",
        "print(b)\n",
        "print(c)"
      ],
      "metadata": {
        "colab": {
          "base_uri": "https://localhost:8080/"
        },
        "id": "WjRMeXcn70rG",
        "outputId": "a74d5bac-9619-4a8c-fff4-c159ea7a9858"
      },
      "execution_count": 1,
      "outputs": [
        {
          "output_type": "stream",
          "name": "stdout",
          "text": [
            "pato\n",
            "azul\n",
            "black\n"
          ]
        }
      ]
    },
    {
      "cell_type": "code",
      "source": [
        "maiuscula_a = a.upper()\n",
        "maiuscula_b = b.upper()\n",
        "maiuscula_c = c.upper()\n",
        "\n",
        "print(maiuscula_a)\n",
        "print(maiuscula_b)\n",
        "print(maiuscula_c)"
      ],
      "metadata": {
        "colab": {
          "base_uri": "https://localhost:8080/"
        },
        "id": "OPBLxAAt8dcX",
        "outputId": "610a605d-9deb-457d-f71e-5c651328bff7"
      },
      "execution_count": 3,
      "outputs": [
        {
          "output_type": "stream",
          "name": "stdout",
          "text": [
            "PATO\n",
            "AZUL\n",
            "BLACK\n"
          ]
        }
      ]
    },
    {
      "cell_type": "code",
      "source": [
        "capitalizado_a = a.capitalize() #coloca a primeira letra em maiusculo de uma string\n",
        "print(capitalizado_a)"
      ],
      "metadata": {
        "colab": {
          "base_uri": "https://localhost:8080/"
        },
        "id": "GlsEwXLo9FQv",
        "outputId": "5a0f5188-b491-406d-e588-6f6cba5026b1"
      },
      "execution_count": 5,
      "outputs": [
        {
          "output_type": "stream",
          "name": "stdout",
          "text": [
            "Pato\n"
          ]
        }
      ]
    },
    {
      "cell_type": "code",
      "source": [
        ""
      ],
      "metadata": {
        "id": "pMZi1VjJ9cNX"
      },
      "execution_count": null,
      "outputs": []
    },
    {
      "cell_type": "code",
      "source": [
        "metade_a = a[0:3]\n",
        "print(metade_a) "
      ],
      "metadata": {
        "colab": {
          "base_uri": "https://localhost:8080/"
        },
        "id": "iqTUAkJD995X",
        "outputId": "a0baac1a-e31a-4163-ad4c-b57ec03cb005"
      },
      "execution_count": 6,
      "outputs": [
        {
          "output_type": "stream",
          "name": "stdout",
          "text": [
            "pat\n"
          ]
        }
      ]
    },
    {
      "cell_type": "code",
      "source": [
        "x = a.replace('pato' , 'ave') #troca letras ou palavras \n",
        "print(x)"
      ],
      "metadata": {
        "colab": {
          "base_uri": "https://localhost:8080/"
        },
        "id": "MjXOoPwP_jv_",
        "outputId": "107d127c-bbf2-4c58-aa70-b94dbc52f7a6"
      },
      "execution_count": 7,
      "outputs": [
        {
          "output_type": "stream",
          "name": "stdout",
          "text": [
            "ave\n"
          ]
        }
      ]
    },
    {
      "cell_type": "code",
      "source": [
        "n1 = 4\n",
        "n2 = 10\n",
        "n3 = 51"
      ],
      "metadata": {
        "id": "CXowy5WNCVm_"
      },
      "execution_count": 8,
      "outputs": []
    },
    {
      "cell_type": "code",
      "source": [
        "print('Multiplicar', n1, 'por' , n2, 'resulta em' , n1*n2)"
      ],
      "metadata": {
        "colab": {
          "base_uri": "https://localhost:8080/"
        },
        "id": "FrFOZMPECcSO",
        "outputId": "10997d9d-5c92-48f3-8ebb-4c52e75c76ab"
      },
      "execution_count": 9,
      "outputs": [
        {
          "output_type": "stream",
          "name": "stdout",
          "text": [
            "Multiplicar 4 por 10 resulta em 40\n"
          ]
        }
      ]
    },
    {
      "cell_type": "code",
      "source": [
        "print(f'Multiplicar {n1} por {n2} resulta em: {n1*n2*n3}')"
      ],
      "metadata": {
        "colab": {
          "base_uri": "https://localhost:8080/"
        },
        "id": "GbsZz5QaCyFH",
        "outputId": "27b97a0d-c6e1-4c53-fa3e-0f4ab868a23f"
      },
      "execution_count": 11,
      "outputs": [
        {
          "output_type": "stream",
          "name": "stdout",
          "text": [
            "Multiplicar 4 por 10 resulta em: 2040\n"
          ]
        }
      ]
    },
    {
      "cell_type": "code",
      "source": [
        ""
      ],
      "metadata": {
        "id": "XAJf-TjXDDEg"
      },
      "execution_count": null,
      "outputs": []
    }
  ]
}