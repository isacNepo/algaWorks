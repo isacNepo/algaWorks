{
  "nbformat": 4,
  "nbformat_minor": 0,
  "metadata": {
    "colab": {
      "provenance": [],
      "authorship_tag": "ABX9TyOm7MGju02q9GfD9/E1qgBU",
      "include_colab_link": true
    },
    "kernelspec": {
      "name": "python3",
      "display_name": "Python 3"
    },
    "language_info": {
      "name": "python"
    }
  },
  "cells": [
    {
      "cell_type": "markdown",
      "metadata": {
        "id": "view-in-github",
        "colab_type": "text"
      },
      "source": [
        "<a href=\"https://colab.research.google.com/github/isacNepo/aulas_faculdade/blob/master/Aula_06.ipynb\" target=\"_parent\"><img src=\"https://colab.research.google.com/assets/colab-badge.svg\" alt=\"Open In Colab\"/></a>"
      ]
    },
    {
      "cell_type": "markdown",
      "source": [
        "# Vetores (NumPy)"
      ],
      "metadata": {
        "id": "VOTs-E9WNM2K"
      }
    },
    {
      "cell_type": "markdown",
      "source": [
        "NumPy é uma biblioteca muito poderosa, utilizada para efetuar cálculos matemáticos de forma fácil e transparente ao programador Python.\n",
        "\n",
        "* shape - informa a quantidade de colunas de um vetor.\n",
        "* dtype - indicará qual o tipo de dado dos valores armazenados no vetor.\n",
        "* size - retorna a quantidade de elementos do vetor e/ou matriz.\n",
        "* itemsize - retorna o tamanho de um elemento da matriz em bytes\n",
        "* ndim - retornará o número de dimensões da matriz"
      ],
      "metadata": {
        "id": "4QLa__l4NlMk"
      }
    },
    {
      "cell_type": "markdown",
      "source": [
        "## Criando vetores em NumPy"
      ],
      "metadata": {
        "id": "xXV8KlhMPMYA"
      }
    },
    {
      "cell_type": "code",
      "execution_count": 1,
      "metadata": {
        "id": "IXumTJANNHju"
      },
      "outputs": [],
      "source": [
        "# Importar a biblioteca NumPy.\n",
        "import numpy as np"
      ]
    },
    {
      "cell_type": "code",
      "source": [
        "# Exemplo de um vetor NumPy.\n",
        "\n",
        "vetor = np.array([8, 34, 67, 98] )"
      ],
      "metadata": {
        "id": "peDRVBJNOmCc"
      },
      "execution_count": 2,
      "outputs": []
    },
    {
      "cell_type": "code",
      "source": [
        "# Imprimindo dados do vetor\n",
        "print(vetor)\n",
        "print(\"Shape:\",vetor.shape)\n",
        "print(\"Dtype:\",vetor.dtype)\n",
        "print(\"Size:\",vetor.size)\n",
        "print(\"Itemsize:\",vetor.itemsize)\n",
        "print(\"Ndim:\", vetor.ndim)"
      ],
      "metadata": {
        "colab": {
          "base_uri": "https://localhost:8080/"
        },
        "id": "LfGflZHJOsHs",
        "outputId": "51995e22-590e-4961-aec1-f749a5d8c127"
      },
      "execution_count": 3,
      "outputs": [
        {
          "output_type": "stream",
          "name": "stdout",
          "text": [
            "[ 8 34 67 98]\n",
            "Shape: (4,)\n",
            "Dtype: int64\n",
            "Size: 4\n",
            "Itemsize: 8\n",
            "Ndim: 1\n"
          ]
        }
      ]
    },
    {
      "cell_type": "markdown",
      "source": [
        "### Outro exemplo"
      ],
      "metadata": {
        "id": "uhDSwVbnPG1X"
      }
    },
    {
      "cell_type": "code",
      "source": [
        "vetor = np.array([8.87, 34, 67.89, 98, 1.09])"
      ],
      "metadata": {
        "id": "GCplRDeaO_b2"
      },
      "execution_count": 5,
      "outputs": []
    },
    {
      "cell_type": "code",
      "source": [
        "print(vetor)\n",
        "print(\"Shape:\",vetor.shape)\n",
        "print(\"Dtype:\",vetor.dtype)\n",
        "print(\"Size:\",vetor.size)\n",
        "print(\"Itemsize:\",vetor.itemsize)\n",
        "print(\"Ndim:\", vetor.ndim)"
      ],
      "metadata": {
        "colab": {
          "base_uri": "https://localhost:8080/"
        },
        "id": "BP8IEjf4PVB4",
        "outputId": "ade7a1e6-e322-45f0-d532-f112c2ae529b"
      },
      "execution_count": 6,
      "outputs": [
        {
          "output_type": "stream",
          "name": "stdout",
          "text": [
            "[ 8.87 34.   67.89 98.    1.09]\n",
            "Shape: (5,)\n",
            "Dtype: float64\n",
            "Size: 5\n",
            "Itemsize: 8\n",
            "Ndim: 1\n"
          ]
        }
      ]
    },
    {
      "cell_type": "markdown",
      "source": [
        "## Acessando e alterando vetores"
      ],
      "metadata": {
        "id": "N-LtAnpBP7LW"
      }
    },
    {
      "cell_type": "code",
      "source": [
        "vetor = np.array([8, 34, 67, 98] )\n",
        "print(\"Vetor posicao 0:\",vetor[0]);\n",
        "print(\"Vetor posicao 2:\",vetor[2]);"
      ],
      "metadata": {
        "colab": {
          "base_uri": "https://localhost:8080/"
        },
        "id": "XHGYoiG1QIh-",
        "outputId": "9b48a1c3-9f0e-4ca6-a6f1-55f39fc8e393"
      },
      "execution_count": 7,
      "outputs": [
        {
          "output_type": "stream",
          "name": "stdout",
          "text": [
            "Vetor posicao 0: 8\n",
            "Vetor posicao 2: 67\n"
          ]
        }
      ]
    },
    {
      "cell_type": "code",
      "source": [
        "# Alterando vetores\n",
        "vetor[1] = 231\n",
        "vetor[3] = 105\n",
        "print(vetor)"
      ],
      "metadata": {
        "colab": {
          "base_uri": "https://localhost:8080/"
        },
        "id": "2UPZ3LhHQjK6",
        "outputId": "f5c4877f-fdc2-49b4-ae96-78e3b8fbba67"
      },
      "execution_count": 9,
      "outputs": [
        {
          "output_type": "stream",
          "name": "stdout",
          "text": [
            "[  8 231  67 105]\n"
          ]
        }
      ]
    },
    {
      "cell_type": "markdown",
      "source": [
        "## Criação de vetores"
      ],
      "metadata": {
        "id": "WYV_kac_SZHn"
      }
    },
    {
      "cell_type": "markdown",
      "source": [
        "Podemos também criar vetores vazios, com valores igual a zero, com valores igual a 1, com valores uniformemente distribuídos ou com valores aleatórios (dentro de intervalos que podemos pré-determinar). Para isso temos as seguintes funções:\n",
        " \n",
        "empty (quantidade_de_elementos, tipo_de_dados): criar matriz com valores vazios.\n",
        "\n",
        "zeros (quantidade_de_elementos, tipo_de_dados): criar matriz com valores igual a zero.\n",
        "\n",
        "ones(quantidade_de_elementos, tipo_de_dados): criar matriz com valores igual a 1.\n",
        "\n",
        "arange(valor_inicial, valor_de_parada ,passo ,tipo_de_dados): criar matriz com valores uniformemente distribuídos\n",
        "\n",
        "random.random(quantidade_de_elementos): gerar número randômico, ponto flutuante, entre 0 e 1.\n",
        "\n",
        "* valor inicial: valor de início do intervalo. O valor padrão é 0.\n",
        "* valor de parada: enquanto for menor que este valor os valores são incluiídos na matriz.\n",
        "* Passo: o espaçamento entre os valores. O valor padrão é 1.\n",
        "* tipo_de_dados: o tipo de saída dos dados. Se não for especificado, o tipo de dados será o mesmo que o do valor inicial\n",
        "\n",
        "Nota: o campo tipo_de_dados é opcional, ou seja, não sou obrigado a informar."
      ],
      "metadata": {
        "id": "cuk9cQf4Rk4b"
      }
    },
    {
      "cell_type": "code",
      "source": [
        "# Exemplo\n",
        "vetor01 = np.empty(10,int)\n",
        "print(vetor01)\n",
        "\n",
        "vetor02 = np.zeros(10)\n",
        "print(vetor02)\n",
        "\n",
        "vetor03 = np.ones(10)\n",
        "print(vetor03)\n",
        "\n",
        "vetor04 = np.arange(3,13,2,float);\n",
        "print(vetor04)\n",
        "\n",
        "vetor05 = 6*np.random.random(5);\n",
        "print(vetor05)"
      ],
      "metadata": {
        "colab": {
          "base_uri": "https://localhost:8080/"
        },
        "id": "2IUDgu1eSXjB",
        "outputId": "9a03730b-2ce7-4fd3-9987-fdd10f10d9d7"
      },
      "execution_count": 15,
      "outputs": [
        {
          "output_type": "stream",
          "name": "stdout",
          "text": [
            "[4607182418800017408 4607182418800017408 4607182418800017408\n",
            " 4607182418800017408 4607182418800017408 4607182418800017408\n",
            " 4607182418800017408 4607182418800017408 4607182418800017408\n",
            " 4607182418800017408]\n",
            "[0. 0. 0. 0. 0. 0. 0. 0. 0. 0.]\n",
            "[1. 1. 1. 1. 1. 1. 1. 1. 1. 1.]\n",
            "[ 3.  5.  7.  9. 11.]\n",
            "[0.25978901 5.72175613 1.04572401 2.01203271 0.51408208]\n"
          ]
        }
      ]
    }
  ]
}