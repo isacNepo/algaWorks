{
  "nbformat": 4,
  "nbformat_minor": 0,
  "metadata": {
    "colab": {
      "provenance": [],
      "collapsed_sections": [],
      "authorship_tag": "ABX9TyNuAGwd+5BgEGhYr1LhFiq/",
      "include_colab_link": true
    },
    "kernelspec": {
      "name": "python3",
      "display_name": "Python 3"
    },
    "language_info": {
      "name": "python"
    }
  },
  "cells": [
    {
      "cell_type": "markdown",
      "metadata": {
        "id": "view-in-github",
        "colab_type": "text"
      },
      "source": [
        "<a href=\"https://colab.research.google.com/github/isacNepo/aulas_faculdade/blob/master/Exerc%C3%ADcio_2(listas).ipynb\" target=\"_parent\"><img src=\"https://colab.research.google.com/assets/colab-badge.svg\" alt=\"Open In Colab\"/></a>"
      ]
    },
    {
      "cell_type": "markdown",
      "source": [
        "# Exercício 2\n",
        "\n",
        "Elaborar um programa, utilizando todos os recursos aprendidos até o momento, que receba um conjunto de 10 entradas, contendo: nome, idade e peso. A saída deverá conter:\n",
        "\n",
        "a) Maior idade\n",
        "\n",
        "b) Menor idade\n",
        "\n",
        "c) Média das idades\n",
        "*texto em itálico*\n",
        "d) Média dos pesos"
      ],
      "metadata": {
        "id": "FMQUN0f8wLBn"
      }
    },
    {
      "cell_type": "markdown",
      "source": [
        "## Leitura de 10 valores"
      ],
      "metadata": {
        "id": "UYGzk4vLxDkC"
      }
    },
    {
      "cell_type": "code",
      "execution_count": 12,
      "metadata": {
        "colab": {
          "base_uri": "https://localhost:8080/"
        },
        "id": "u1sSt3ODwHqI",
        "outputId": "45b9f96a-c0f8-4449-bc6f-1b645df35b86"
      },
      "outputs": [
        {
          "output_type": "stream",
          "name": "stdout",
          "text": [
            "Digite o nome: Isac\n",
            "Digite a idade: 20\n",
            "Digite o peso: 55.5\n",
            "\n",
            "Digite o nome: Priscila\n",
            "Digite a idade: 40\n",
            "Digite o peso: 65.0\n",
            "\n",
            "Digite o nome: Cido\n",
            "Digite a idade: 41\n",
            "Digite o peso: 90.0\n",
            "\n",
            "Digite o nome: Isabelly\n",
            "Digite a idade: 12\n",
            "Digite o peso: 40.0\n",
            "\n",
            "Digite o nome: João\n",
            "Digite a idade: 25\n",
            "Digite o peso: 40.0\n",
            "\n",
            "Digite o nome: Maria\n",
            "Digite a idade: 60\n",
            "Digite o peso: 71.5\n",
            "\n",
            "Digite o nome: Marcos\n",
            "Digite a idade: 52\n",
            "Digite o peso: 85.0\n",
            "\n",
            "Digite o nome: Ana\n",
            "Digite a idade: 30\n",
            "Digite o peso: 61.5\n",
            "\n",
            "Digite o nome: Andre\n",
            "Digite a idade: 15\n",
            "Digite o peso: 76.0\n",
            "\n",
            "Digite o nome: Raquel\n",
            "Digite a idade: 7\n",
            "Digite o peso: 30.0\n",
            "\n"
          ]
        }
      ],
      "source": [
        "listaNome = []\n",
        "listaIdade = []\n",
        "listaPeso= []\n",
        "lista = []\n",
        "\n",
        "while len(lista) < 30:\n",
        "    nome = input('Digite o nome: ')\n",
        "    idade = int(input('Digite a idade: '))\n",
        "    peso = float(input('Digite o peso: '))\n",
        "    lista.append(nome) \n",
        "    lista.append(idade) \n",
        "    lista.append(peso) \n",
        "    listaIdade.append(idade)\n",
        "    listaPeso.append(peso)\n",
        "    print()"
      ]
    },
    {
      "cell_type": "markdown",
      "source": [
        "## Maior idade"
      ],
      "metadata": {
        "id": "XdUmwAamxC4P"
      }
    },
    {
      "cell_type": "code",
      "source": [
        "print('Maior idade na lista: {} anos'.format(max(listaIdade)))"
      ],
      "metadata": {
        "colab": {
          "base_uri": "https://localhost:8080/"
        },
        "id": "5tlAlKTI1Npj",
        "outputId": "57f5f66b-3aea-4548-eedd-dc5fa13bc59d"
      },
      "execution_count": 29,
      "outputs": [
        {
          "output_type": "stream",
          "name": "stdout",
          "text": [
            "Maior idade na lista: 60 anos\n"
          ]
        }
      ]
    },
    {
      "cell_type": "markdown",
      "source": [
        "## Menor idade"
      ],
      "metadata": {
        "id": "6ZqpozD-xMjX"
      }
    },
    {
      "cell_type": "code",
      "source": [
        "print('Menor idade na lista: {} anos'.format(min(listaIdade)))"
      ],
      "metadata": {
        "colab": {
          "base_uri": "https://localhost:8080/"
        },
        "id": "erEQbF3M7_LH",
        "outputId": "3647072a-5ba8-4cb3-bd4c-b64a663801b6"
      },
      "execution_count": 30,
      "outputs": [
        {
          "output_type": "stream",
          "name": "stdout",
          "text": [
            "Menor idade na lista: 7 anos\n"
          ]
        }
      ]
    },
    {
      "cell_type": "markdown",
      "source": [
        "## Média das idades"
      ],
      "metadata": {
        "id": "5VMM-LG8xPHX"
      }
    },
    {
      "cell_type": "code",
      "source": [
        "print('Média das idades na lista: {} anos'.format(sum(listaIdade) / len(listaIdade)))"
      ],
      "metadata": {
        "colab": {
          "base_uri": "https://localhost:8080/"
        },
        "id": "59pPN1cL8op7",
        "outputId": "22df8f74-fb83-4d92-d74f-e0b08d113b0f"
      },
      "execution_count": 26,
      "outputs": [
        {
          "output_type": "stream",
          "name": "stdout",
          "text": [
            "Média das idades na lista: 30.2 anos\n"
          ]
        }
      ]
    },
    {
      "cell_type": "markdown",
      "source": [
        "## Média dos pesos"
      ],
      "metadata": {
        "id": "ccjGJ7KSxrcL"
      }
    },
    {
      "cell_type": "code",
      "source": [
        "print('Média dos pesos na lista: {} Kg'.format(sum(listaPeso) / len(listaPeso)))"
      ],
      "metadata": {
        "colab": {
          "base_uri": "https://localhost:8080/"
        },
        "id": "-jtjh7kl85pN",
        "outputId": "b840df9d-8a44-429e-c52b-ff70c2c4cbf5"
      },
      "execution_count": 27,
      "outputs": [
        {
          "output_type": "stream",
          "name": "stdout",
          "text": [
            "Média dos pesos na lista: 61.45 Kg\n"
          ]
        }
      ]
    }
  ]
}