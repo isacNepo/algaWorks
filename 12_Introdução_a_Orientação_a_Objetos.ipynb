{
  "nbformat": 4,
  "nbformat_minor": 0,
  "metadata": {
    "colab": {
      "name": "12-Introdução a Orientação a Objetos.ipynb",
      "provenance": [],
      "collapsed_sections": [],
      "authorship_tag": "ABX9TyPwLYB1b3WsSb7WdLRKuJio",
      "include_colab_link": true
    },
    "kernelspec": {
      "name": "python3",
      "display_name": "Python 3"
    },
    "language_info": {
      "name": "python"
    }
  },
  "cells": [
    {
      "cell_type": "markdown",
      "metadata": {
        "id": "view-in-github",
        "colab_type": "text"
      },
      "source": [
        "<a href=\"https://colab.research.google.com/github/isacNepo/aulas_faculdade/blob/master/12_Introdu%C3%A7%C3%A3o_a_Orienta%C3%A7%C3%A3o_a_Objetos.ipynb\" target=\"_parent\"><img src=\"https://colab.research.google.com/assets/colab-badge.svg\" alt=\"Open In Colab\"/></a>"
      ]
    },
    {
      "cell_type": "markdown",
      "source": [
        "# Introdução a Orientação a Objetos"
      ],
      "metadata": {
        "id": "lLVEZZIOWThx"
      }
    },
    {
      "cell_type": "code",
      "source": [
        "class Triangulo:\n",
        "  def __init__(self, lado1, lado2, lado3, base, altura):\n",
        "    self.lado1 = lado1\n",
        "    self.lado2 = lado2\n",
        "    self.lado3 = lado3\n",
        "    self.base = base\n",
        "    self.altura = altura\n",
        "\n",
        "  def area(self):\n",
        "    return (self.base * self.altura) / 2\n",
        "\n",
        "  def tipo_triangulo(self):\n",
        "    if self.lado1 > self.lado2 + self.lado3:\n",
        "      return 'Isso não é um triangulo!'\n",
        "    elif self. lado1 == self.lado2 or self.lado1 == self.lado3 or self.lado2 == self.lado3:\n",
        "      return 'Triangulo isóceles'\n",
        "    else:\n",
        "      return 'Triagulo de outro tipo'         "
      ],
      "metadata": {
        "id": "AFbSJWkiPmKo"
      },
      "execution_count": 1,
      "outputs": []
    },
    {
      "cell_type": "code",
      "source": [
        "t1 = Triangulo(2, 1, 3, 4, 2)\n",
        "\n",
        "print(t1.lado1, t1.lado2, t1.lado3, t1.base, t1.altura)"
      ],
      "metadata": {
        "colab": {
          "base_uri": "https://localhost:8080/"
        },
        "id": "2E5iWMy3ROqv",
        "outputId": "0237fe0d-cc04-4af8-f1de-e85de39d5524"
      },
      "execution_count": 3,
      "outputs": [
        {
          "output_type": "stream",
          "name": "stdout",
          "text": [
            "2 1 3 4 2\n"
          ]
        }
      ]
    },
    {
      "cell_type": "code",
      "source": [
        "print(t1.area())"
      ],
      "metadata": {
        "colab": {
          "base_uri": "https://localhost:8080/"
        },
        "id": "5vSJMbO5RnRO",
        "outputId": "fc1c19a3-ce3a-4ddc-90a6-f14bb154d66b"
      },
      "execution_count": 5,
      "outputs": [
        {
          "output_type": "stream",
          "name": "stdout",
          "text": [
            "4.0\n"
          ]
        }
      ]
    },
    {
      "cell_type": "code",
      "source": [
        "print(t1.tipo_triangulo())"
      ],
      "metadata": {
        "colab": {
          "base_uri": "https://localhost:8080/"
        },
        "id": "ytdA-jr2RuhW",
        "outputId": "5bb6c1e4-2ce2-40de-8c03-8461b4c68dfe"
      },
      "execution_count": 6,
      "outputs": [
        {
          "output_type": "stream",
          "name": "stdout",
          "text": [
            "Triagulo de outro tipo\n"
          ]
        }
      ]
    },
    {
      "cell_type": "code",
      "source": [
        "t2 = Triangulo(8, 8, 8, 16, 9)\n",
        "print(t2.lado1, t2.lado2, t2.lado3, t2.base, t2.altura)"
      ],
      "metadata": {
        "colab": {
          "base_uri": "https://localhost:8080/"
        },
        "id": "1iiJXFCjR3E3",
        "outputId": "0ce162d7-2424-43e4-89c6-8f78c7d354d5"
      },
      "execution_count": 7,
      "outputs": [
        {
          "output_type": "stream",
          "name": "stdout",
          "text": [
            "8 8 8 16 9\n"
          ]
        }
      ]
    },
    {
      "cell_type": "code",
      "source": [
        "print(t2.area())"
      ],
      "metadata": {
        "colab": {
          "base_uri": "https://localhost:8080/"
        },
        "id": "JrBA_I75SJh_",
        "outputId": "402373cc-0b48-4c04-bc82-648dad32d0a6"
      },
      "execution_count": 8,
      "outputs": [
        {
          "output_type": "stream",
          "name": "stdout",
          "text": [
            "72.0\n"
          ]
        }
      ]
    },
    {
      "cell_type": "code",
      "source": [
        "print(t2.tipo_triangulo())"
      ],
      "metadata": {
        "colab": {
          "base_uri": "https://localhost:8080/"
        },
        "id": "ySIDApfvSM74",
        "outputId": "d5dbe684-c7ff-4fe1-ae7e-2fb2db9b964e"
      },
      "execution_count": 9,
      "outputs": [
        {
          "output_type": "stream",
          "name": "stdout",
          "text": [
            "Triangulo isóceles\n"
          ]
        }
      ]
    },
    {
      "cell_type": "markdown",
      "source": [
        "# Exercício de Fixação"
      ],
      "metadata": {
        "id": "ObmgqRgjST3F"
      }
    },
    {
      "cell_type": "code",
      "source": [
        "class Aluno:\n",
        "  def __init__(aluno, nome, nota1, nota2):\n",
        "    aluno.nome = nome\n",
        "    aluno.nota1 = nota1\n",
        "    aluno.nota2 = nota2\n",
        "    aluno.media = 0.0\n",
        "\n",
        "  def calcula_media(aluno):\n",
        "    aluno.media = (aluno.nota1 + aluno.nota2) / 2\n",
        "    return aluno.media\n",
        "\n",
        "  def mostrar_dados(aluno):\n",
        "    print(f'Nome de aluno: {aluno.nome}')   \n",
        "    print(f'Nota 1 do aluno: {aluno.nota1}')\n",
        "    print(f'Nota 2 do aluno: {aluno.nota2}')\n",
        "    print(f'Média do aluno: {aluno.media}')\n",
        "\n",
        "  def resultado(aluno):\n",
        "    if(aluno.media >= 6.0):\n",
        "      print('Aprovado!')\n",
        "    else:\n",
        "      print('Reprovado')      "
      ],
      "metadata": {
        "id": "WiScPFUjTUcG"
      },
      "execution_count": 10,
      "outputs": []
    }
  ]
}