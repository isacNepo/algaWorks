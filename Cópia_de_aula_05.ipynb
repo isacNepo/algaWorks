{
  "nbformat": 4,
  "nbformat_minor": 0,
  "metadata": {
    "colab": {
      "provenance": [],
      "collapsed_sections": [],
      "include_colab_link": true
    },
    "kernelspec": {
      "name": "python3",
      "display_name": "Python 3"
    },
    "language_info": {
      "name": "python"
    }
  },
  "cells": [
    {
      "cell_type": "markdown",
      "metadata": {
        "id": "view-in-github",
        "colab_type": "text"
      },
      "source": [
        "<a href=\"https://colab.research.google.com/github/isacNepo/aulas_faculdade/blob/master/C%C3%B3pia_de_aula_05.ipynb\" target=\"_parent\"><img src=\"https://colab.research.google.com/assets/colab-badge.svg\" alt=\"Open In Colab\"/></a>"
      ]
    },
    {
      "cell_type": "markdown",
      "source": [
        "# Tuplas (_Tuple_)\n",
        "\n",
        "Tuplas são uma estrutura de dados semelhantes as listas, porém não podem ser modificadas após a sua criação, ou seja, não podemos modificar seu conteúdo. Seja adicionando, removendo ou substituindo informações. Isso garante que os dados inseridos em uma tupla não sofreraão modificação.\n",
        "\n",
        "Basicamente as operações são iguais, embora os comandos para alteração não estejam disponíveis. Em Python uma lista é representada por um par de parênteses ``( )``.\n",
        "\n",
        "Para saber mais sobre _tuplas_ acesse: [https://docs.python.org/3/tutorial/datastructures.html#tuples-and-sequences](https://docs.python.org/3/tutorial/datastructures.html#tuples-and-sequences)."
      ],
      "metadata": {
        "id": "x_-z7uUuKUzU"
      }
    },
    {
      "cell_type": "code",
      "execution_count": 1,
      "metadata": {
        "id": "gUCwHuolGMyO",
        "colab": {
          "base_uri": "https://localhost:8080/"
        },
        "outputId": "cae446c8-7898-458f-d288-074792cba3e6"
      },
      "outputs": [
        {
          "output_type": "stream",
          "name": "stdout",
          "text": [
            "(1, 2, 3, 4, 5, 'Edson') <class 'tuple'>\n"
          ]
        }
      ],
      "source": [
        "tupla = (1, 2, 3, 4, 5, 'Edson')\n",
        "print(tupla, type(tupla))"
      ]
    },
    {
      "cell_type": "code",
      "source": [
        "# comparando com as lista\n",
        "lista = [1, 2, 3, 4, 5]\n",
        "lista.append(6)\n",
        "print(lista)"
      ],
      "metadata": {
        "id": "fcbUhytRLrlj",
        "colab": {
          "base_uri": "https://localhost:8080/"
        },
        "outputId": "a98e6492-156f-4339-bec1-86dfe1ee2223"
      },
      "execution_count": 2,
      "outputs": [
        {
          "output_type": "stream",
          "name": "stdout",
          "text": [
            "[1, 2, 3, 4, 5, 6]\n"
          ]
        }
      ]
    },
    {
      "cell_type": "code",
      "source": [
        "# percorrendo uma tupla\n",
        "for i in tupla:\n",
        "  print(i)"
      ],
      "metadata": {
        "id": "NVQGYf5VLuvg",
        "colab": {
          "base_uri": "https://localhost:8080/"
        },
        "outputId": "4cc32db4-71e7-47bd-e49b-4c5bba585c83"
      },
      "execution_count": 3,
      "outputs": [
        {
          "output_type": "stream",
          "name": "stdout",
          "text": [
            "1\n",
            "2\n",
            "3\n",
            "4\n",
            "5\n",
            "Edson\n"
          ]
        }
      ]
    },
    {
      "cell_type": "markdown",
      "source": [
        "___\n",
        "# Dicionários (_dict_)\n",
        "\n",
        "* O dicionário é uma estrutura de dados similar as listas ou ao JSON (Javascript Object Notation), mas não ordenado. Sua estrutura é composta por <code>chave:valor</code> ou <code>key:value</code>\n",
        "* Apesar de não ser ordenado, é indexado pela sua chave\n",
        "* Enquanto nas listas o delimitador são pares de colchetes `[]`, no dict são as chaves `{}`.\n",
        "\n",
        "```python\n",
        "dict = {\n",
        "  'chave1': 'valor1',\n",
        "  'chave2': 'valor2'\n",
        "}\n",
        "```"
      ],
      "metadata": {
        "id": "UDSqn5PdMXmc"
      }
    },
    {
      "cell_type": "code",
      "source": [
        "# dicionário de um aluno\n",
        "dic = {\n",
        "    'ra': 123, # int\n",
        "    'nome': 'Edson Souza', # string\n",
        "    'curso': 'Sistemas de Informação', # string\n",
        "    'altura': 1.76 # float\n",
        "}\n",
        "\n",
        "print(dic)"
      ],
      "metadata": {
        "colab": {
          "base_uri": "https://localhost:8080/"
        },
        "id": "psMOffgOMSwf",
        "outputId": "0ea43153-db53-4a20-d041-245951af083b"
      },
      "execution_count": 4,
      "outputs": [
        {
          "output_type": "stream",
          "name": "stdout",
          "text": [
            "{'ra': 123, 'nome': 'Edson Souza', 'curso': 'Sistemas de Informação', 'altura': 1.76}\n"
          ]
        }
      ]
    },
    {
      "cell_type": "code",
      "source": [
        "# saída sem o print\n",
        "dic"
      ],
      "metadata": {
        "colab": {
          "base_uri": "https://localhost:8080/"
        },
        "id": "avPxh799Nxhu",
        "outputId": "5f31daf8-c35d-4c9f-fba7-24bb0cdd6859"
      },
      "execution_count": 5,
      "outputs": [
        {
          "output_type": "execute_result",
          "data": {
            "text/plain": [
              "{'ra': 123,\n",
              " 'nome': 'Edson Souza',\n",
              " 'curso': 'Sistemas de Informação',\n",
              " 'altura': 1.76}"
            ]
          },
          "metadata": {},
          "execution_count": 5
        }
      ]
    },
    {
      "cell_type": "markdown",
      "source": [
        "### Acessando elementos do dicionário - [ ]"
      ],
      "metadata": {
        "id": "yY3AM8-lOAIR"
      }
    },
    {
      "cell_type": "code",
      "source": [
        "# acesso pela chave\n",
        "print(dic['ra'])\n",
        "print(dic['nome'])\n",
        "print(dic['curso'])\n",
        "print(dic['altura'])"
      ],
      "metadata": {
        "colab": {
          "base_uri": "https://localhost:8080/"
        },
        "id": "SdBMVmz3N7fX",
        "outputId": "d90e262e-e8ef-4016-cddf-bb59beb6603d"
      },
      "execution_count": 6,
      "outputs": [
        {
          "output_type": "stream",
          "name": "stdout",
          "text": [
            "123\n",
            "Edson Souza\n",
            "Sistemas de Informação\n",
            "1.76\n"
          ]
        }
      ]
    },
    {
      "cell_type": "code",
      "source": [
        "# acessando pelo método .get()\n",
        "print(dic.get('ra'))\n",
        "print(dic.get('nome'))"
      ],
      "metadata": {
        "colab": {
          "base_uri": "https://localhost:8080/"
        },
        "id": "P_4-X4CYOPxB",
        "outputId": "c7d9a38b-a2fe-4f13-9b08-8ec0b5578d16"
      },
      "execution_count": 7,
      "outputs": [
        {
          "output_type": "stream",
          "name": "stdout",
          "text": [
            "123\n",
            "Edson Souza\n"
          ]
        }
      ]
    },
    {
      "cell_type": "markdown",
      "source": [
        "### Percorrendo um dicionário\n",
        "\n",
        "Para percorrer as chaves do dicionário para verificar os valores delas usamos um laço de repetição como `for` ou `while`.\n",
        "\n",
        "Existe também um método dos dicionários chamado `.items()` que permite acessar todos os itens de um dicionário.\n",
        "\n",
        "```python\n",
        "for key, value in dicionario.items(): # retorna um par chave:valor\n",
        "    print(key, value)\n",
        "```"
      ],
      "metadata": {
        "id": "fXKWq0bfO4jQ"
      }
    },
    {
      "cell_type": "code",
      "source": [
        "for chave, valor in dic.items():\n",
        "  print(chave, valor)"
      ],
      "metadata": {
        "colab": {
          "base_uri": "https://localhost:8080/"
        },
        "id": "uHoR7uuSOwrP",
        "outputId": "3ed66dfd-4297-4a12-c678-2107322df273"
      },
      "execution_count": 8,
      "outputs": [
        {
          "output_type": "stream",
          "name": "stdout",
          "text": [
            "ra 123\n",
            "nome Edson Souza\n",
            "curso Sistemas de Informação\n",
            "altura 1.76\n"
          ]
        }
      ]
    },
    {
      "cell_type": "code",
      "source": [
        "# outra forma de percorrer\n",
        "chaves = dic.keys()\n",
        "print(chaves)"
      ],
      "metadata": {
        "colab": {
          "base_uri": "https://localhost:8080/"
        },
        "id": "DtTyl9nzPIbC",
        "outputId": "49fe4edb-17c9-4938-95e4-d283f117e91f"
      },
      "execution_count": 9,
      "outputs": [
        {
          "output_type": "stream",
          "name": "stdout",
          "text": [
            "dict_keys(['ra', 'nome', 'curso', 'altura'])\n"
          ]
        }
      ]
    },
    {
      "cell_type": "code",
      "source": [
        "for key in chaves:\n",
        "  print(key)\n",
        "\n",
        "for key in dic.keys():\n",
        "  print(key)  "
      ],
      "metadata": {
        "colab": {
          "base_uri": "https://localhost:8080/"
        },
        "id": "-_kXckJ4QQxU",
        "outputId": "df9a5958-56a0-4b1f-db9b-b1deecb320ea"
      },
      "execution_count": 10,
      "outputs": [
        {
          "output_type": "stream",
          "name": "stdout",
          "text": [
            "ra\n",
            "nome\n",
            "curso\n",
            "altura\n",
            "ra\n",
            "nome\n",
            "curso\n",
            "altura\n"
          ]
        }
      ]
    },
    {
      "cell_type": "code",
      "source": [
        "for i in dic:\n",
        "  print(i)"
      ],
      "metadata": {
        "colab": {
          "base_uri": "https://localhost:8080/"
        },
        "id": "7zaBD5yuQYOb",
        "outputId": "b28cd9a9-dd38-4e43-d3ff-b1e19d957e69"
      },
      "execution_count": 11,
      "outputs": [
        {
          "output_type": "stream",
          "name": "stdout",
          "text": [
            "ra\n",
            "nome\n",
            "curso\n",
            "altura\n"
          ]
        }
      ]
    },
    {
      "cell_type": "code",
      "source": [
        "# outra forma de listar os valores do dicionário\n",
        "chaves = dic.keys()\n",
        "for key in chaves:\n",
        "  print(key, dic.get(key))\n",
        "\n",
        "print()\n",
        "\n",
        "for key in chaves:\n",
        "  print(key, dic[key])"
      ],
      "metadata": {
        "colab": {
          "base_uri": "https://localhost:8080/"
        },
        "id": "echVeuPDQfDO",
        "outputId": "d4f61d5e-ba17-4c7f-ea80-ca53171fe3cd"
      },
      "execution_count": 12,
      "outputs": [
        {
          "output_type": "stream",
          "name": "stdout",
          "text": [
            "ra 123\n",
            "nome Edson Souza\n",
            "curso Sistemas de Informação\n",
            "altura 1.76\n",
            "\n",
            "ra 123\n",
            "nome Edson Souza\n",
            "curso Sistemas de Informação\n",
            "altura 1.76\n"
          ]
        }
      ]
    },
    {
      "cell_type": "markdown",
      "source": [
        "### Manipulação de dicionários"
      ],
      "metadata": {
        "id": "kxBUHgg6ResJ"
      }
    },
    {
      "cell_type": "code",
      "source": [
        "# Adicionado chaves e valores de duas formas\n",
        "\n",
        "aluno = {\n",
        "    'ra': 123, # int\n",
        "    'nome': 'Edson Souza', # string\n",
        "    'curso': 'Sistemas de Informação', # string\n",
        "    'altura': 1.76 # float\n",
        "}\n",
        "\n",
        "# Forma 1\n",
        "aluno['AV1'] = 8\n",
        "print(aluno)"
      ],
      "metadata": {
        "colab": {
          "base_uri": "https://localhost:8080/"
        },
        "id": "1LeekRopRB5w",
        "outputId": "6ce1b069-0a37-457d-f244-206e6df326b5"
      },
      "execution_count": 13,
      "outputs": [
        {
          "output_type": "stream",
          "name": "stdout",
          "text": [
            "{'ra': 123, 'nome': 'Edson Souza', 'curso': 'Sistemas de Informação', 'altura': 1.76, 'AV1': 8}\n"
          ]
        }
      ]
    },
    {
      "cell_type": "code",
      "source": [
        "# incluindo dados de forma dinâmica\n",
        "teste = {}\n",
        "chave = input()\n",
        "valor = input()\n",
        "\n",
        "teste[chave] = valor\n",
        "print(teste)"
      ],
      "metadata": {
        "colab": {
          "base_uri": "https://localhost:8080/"
        },
        "id": "lxBE4s_JR682",
        "outputId": "402265f4-cd77-418f-ac58-db31df8fd6c6"
      },
      "execution_count": 14,
      "outputs": [
        {
          "output_type": "stream",
          "name": "stdout",
          "text": [
            "nome\n",
            "Edson Melo de Souza\n",
            "{'nome': 'Edson Melo de Souza'}\n"
          ]
        }
      ]
    },
    {
      "cell_type": "code",
      "source": [
        "# Forma 2 - update()\n",
        "# Neste método, se a chave não existir, ela será criada, se não, será atualizada\n",
        "\n",
        "aluno.update({'AV2': 9.5})\n",
        "print(aluno)"
      ],
      "metadata": {
        "colab": {
          "base_uri": "https://localhost:8080/"
        },
        "id": "sX5a4-kfTUBV",
        "outputId": "70390b07-2d43-4c64-8664-5e8480e84ea5"
      },
      "execution_count": 15,
      "outputs": [
        {
          "output_type": "stream",
          "name": "stdout",
          "text": [
            "{'ra': 123, 'nome': 'Edson Souza', 'curso': 'Sistemas de Informação', 'altura': 1.76, 'AV1': 8, 'AV2': 9.5}\n"
          ]
        }
      ]
    },
    {
      "cell_type": "code",
      "source": [
        "# Atualizando um valor existente\n",
        "aluno.update({'AV2': 10.0})\n",
        "print(aluno)"
      ],
      "metadata": {
        "colab": {
          "base_uri": "https://localhost:8080/"
        },
        "id": "jN2OGLKFUOuS",
        "outputId": "49070faa-edd1-484c-ac2f-2499163565e1"
      },
      "execution_count": 16,
      "outputs": [
        {
          "output_type": "stream",
          "name": "stdout",
          "text": [
            "{'ra': 123, 'nome': 'Edson Souza', 'curso': 'Sistemas de Informação', 'altura': 1.76, 'AV1': 8, 'AV2': 10.0}\n"
          ]
        }
      ]
    },
    {
      "cell_type": "code",
      "source": [
        "# Removendo valores\n",
        "del aluno['AV1']\n",
        "print(aluno)"
      ],
      "metadata": {
        "colab": {
          "base_uri": "https://localhost:8080/"
        },
        "id": "-5z2kEGQUXq-",
        "outputId": "98005c3c-85df-4a5b-90ac-d03b7ad94305"
      },
      "execution_count": 17,
      "outputs": [
        {
          "output_type": "stream",
          "name": "stdout",
          "text": [
            "{'ra': 123, 'nome': 'Edson Souza', 'curso': 'Sistemas de Informação', 'altura': 1.76, 'AV2': 10.0}\n"
          ]
        }
      ]
    },
    {
      "cell_type": "code",
      "source": [
        "# Verificando pertinência\n",
        "print('AV1' in aluno)\n",
        "print('nota' in aluno)\n",
        "print('AV5' not in aluno)"
      ],
      "metadata": {
        "colab": {
          "base_uri": "https://localhost:8080/"
        },
        "id": "jNQXnbYIUtgL",
        "outputId": "3bbf94e1-f6bd-4656-d89b-ecdaa381fbd7"
      },
      "execution_count": 18,
      "outputs": [
        {
          "output_type": "stream",
          "name": "stdout",
          "text": [
            "False\n",
            "False\n",
            "True\n"
          ]
        }
      ]
    },
    {
      "cell_type": "markdown",
      "source": [
        "### Turbinando\n",
        "\n",
        "E se eu quiser criar um dicionário mais complexo, no caso com \"vários\" alunos?"
      ],
      "metadata": {
        "id": "L75Av_dlVFCo"
      }
    },
    {
      "cell_type": "code",
      "source": [
        "alunos = [\n",
        "    {'ra': 123, 'nome': 'ABC', 'curso': 'SI'},\n",
        "    {'ra': 456, 'nome': 'DEF', 'curso': 'CC'},\n",
        "    {'ra': 789, 'nome': 'HIJ', 'curso': 'ADS'}\n",
        "  ]\n",
        "\n",
        "alunos"
      ],
      "metadata": {
        "colab": {
          "base_uri": "https://localhost:8080/"
        },
        "id": "GbeWPUdzU-wf",
        "outputId": "88f884ca-aea9-4681-c3a2-00a998ee4555"
      },
      "execution_count": 19,
      "outputs": [
        {
          "output_type": "execute_result",
          "data": {
            "text/plain": [
              "[{'ra': 123, 'nome': 'ABC', 'curso': 'SI'},\n",
              " {'ra': 456, 'nome': 'DEF', 'curso': 'CC'},\n",
              " {'ra': 789, 'nome': 'HIJ', 'curso': 'ADS'}]"
            ]
          },
          "metadata": {},
          "execution_count": 19
        }
      ]
    },
    {
      "cell_type": "code",
      "source": [
        "# Percorrendo os dados\n",
        "for aluno in alunos:  \n",
        "  print(aluno.get('ra'))"
      ],
      "metadata": {
        "id": "RjTc96IrV5dP",
        "colab": {
          "base_uri": "https://localhost:8080/"
        },
        "outputId": "a117bed1-37c2-4947-bf09-a197fad0f894"
      },
      "execution_count": 20,
      "outputs": [
        {
          "output_type": "stream",
          "name": "stdout",
          "text": [
            "123\n",
            "456\n",
            "789\n"
          ]
        }
      ]
    },
    {
      "cell_type": "code",
      "source": [
        "# melhorando a listagem\n",
        "for dicionario in alunos:\n",
        "  for aluno in dicionario:\n",
        "    print(aluno, dicionario.get(aluno))\n",
        "  print()"
      ],
      "metadata": {
        "id": "sDOt1a9rWnUQ",
        "colab": {
          "base_uri": "https://localhost:8080/"
        },
        "outputId": "0e226a14-d695-47ff-d738-3e3550b3da85"
      },
      "execution_count": 21,
      "outputs": [
        {
          "output_type": "stream",
          "name": "stdout",
          "text": [
            "ra 123\n",
            "nome ABC\n",
            "curso SI\n",
            "\n",
            "ra 456\n",
            "nome DEF\n",
            "curso CC\n",
            "\n",
            "ra 789\n",
            "nome HIJ\n",
            "curso ADS\n",
            "\n"
          ]
        }
      ]
    },
    {
      "cell_type": "markdown",
      "source": [
        "# Atividade\n",
        "\n",
        "Utilizando os coneitos vistos até a última aula, utilize os dados apresentados abaixo e mostre:\n",
        "*   Maior nota\n",
        "*   Menor nota\n",
        "*   Média das notas\n",
        "    \n",
        "__Atenção__: Deverão ser utilizadas _listas_, _dicionários_, _estruturas de repetição_ e _decisão_."
      ],
      "metadata": {
        "id": "lwZ8LzMjZuhC"
      }
    },
    {
      "cell_type": "code",
      "source": [
        "alunos = []\n",
        "alunos.append({'nome': 'Aluno 01', 'curso': 'Ciências da Computação', 'AV1':8 })\n",
        "alunos.append({'nome': 'Aluno 02', 'curso': 'Sistemas de Informação', 'AV1':7 })\n",
        "alunos.append({'nome': 'Aluno 03', 'curso': 'Sistemas de Informação', 'AV1':6 })\n",
        "alunos.append({'nome': 'Aluno 04', 'curso': 'Sistemas de Informação', 'AV1':6 })\n",
        "alunos.append({'nome': 'Aluno 05', 'curso': 'Sistemas de Informação', 'AV1':6 })\n",
        "alunos.append({'nome': 'Aluno 06', 'curso': 'Análise e Desenvolvimento de Sistemas', 'AV1':7 })\n",
        "alunos.append({'nome': 'Aluno 07', 'curso': 'Análise e Desenvolvimento de Sistemas', 'AV1':9 })\n",
        "alunos.append({'nome': 'Aluno 08', 'curso': 'Ciências da Computação', 'AV1':10 })\n",
        "alunos.append({'nome': 'Aluno 09', 'curso': 'Ciências da Computação', 'AV1':10 })\n",
        "alunos.append({'nome': 'Aluno 10', 'curso': 'Ciências da Computação', 'AV1':4 })\n",
        "alunos.append({'nome': 'Aluno 11', 'curso': 'Análise e Desenvolvimento de Sistemas', 'AV1':5 })\n",
        "alunos.append({'nome': 'Aluno 11', 'curso': 'Análise e Desenvolvimento de Sistemas', 'AV1':5 })\n",
        "alunos.append({'nome': 'Aluno 12', 'curso': 'Análise e Desenvolvimento de Sistemas', 'AV1':9 })\n",
        "alunos.append({'nome': 'Aluno 13', 'curso': 'Análise e Desenvolvimento de Sistemas', 'AV1':9 })\n",
        "alunos.append({'nome': 'Aluno 14', 'curso': 'Ciências da Computação', 'AV1': 7})\n",
        "alunos.append({'nome': 'Aluno 15', 'curso': 'Análise e Desenvolvimento de Sistemas', 'AV1':7})\n",
        "alunos.append({'nome': 'Aluno 16', 'curso': 'Ciências da Computação', 'AV1': 6})\n",
        "alunos.append({'nome': 'Aluno 17', 'curso': 'Análise e Desenvolvimento de Sistemas', 'AV1':8 })\n",
        "alunos.append({'nome': 'Aluno 18', 'curso': 'Ciências da Computação', 'AV1':4 })\n",
        "alunos.append({'nome': 'Aluno 19', 'curso': 'Sistemas de Informação', 'AV1':2 })\n",
        "alunos.append({'nome': 'Aluno 20', 'curso': 'Análise e Desenvolvimento de Sistemas', 'AV1':9 })"
      ],
      "metadata": {
        "id": "S_hA-JKIZ1Kz"
      },
      "execution_count": 22,
      "outputs": []
    },
    {
      "cell_type": "code",
      "source": [
        "listaNota = []\n",
        "for nota in alunos:  \n",
        " listaNota.append(nota.get('AV1'))\n",
        "\n",
        "print('Maior nota na lista: ', (max(listaNota)))\n",
        "print('Menor nota na lista: ', (min(listaNota)))\n",
        "print('Média das nota na lista: ', (sum(listaNota) / len(listaNota)))"
      ],
      "metadata": {
        "id": "uSCk8B6raEBa",
        "colab": {
          "base_uri": "https://localhost:8080/"
        },
        "outputId": "10bea637-7d27-473d-c405-7502d9ec6204"
      },
      "execution_count": 32,
      "outputs": [
        {
          "output_type": "stream",
          "name": "stdout",
          "text": [
            "Maior nota na lista:  10\n",
            "Menor nota na lista:  2\n",
            "Média das nota na lista:  6.857142857142857\n"
          ]
        }
      ]
    }
  ]
}