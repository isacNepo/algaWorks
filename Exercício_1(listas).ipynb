{
  "nbformat": 4,
  "nbformat_minor": 0,
  "metadata": {
    "colab": {
      "provenance": [],
      "authorship_tag": "ABX9TyMAN9/fX9u8ykGeTw93LZkC",
      "include_colab_link": true
    },
    "kernelspec": {
      "name": "python3",
      "display_name": "Python 3"
    },
    "language_info": {
      "name": "python"
    }
  },
  "cells": [
    {
      "cell_type": "markdown",
      "metadata": {
        "id": "view-in-github",
        "colab_type": "text"
      },
      "source": [
        "<a href=\"https://colab.research.google.com/github/isacNepo/aulas_faculdade/blob/master/Exerc%C3%ADcio_1(listas).ipynb\" target=\"_parent\"><img src=\"https://colab.research.google.com/assets/colab-badge.svg\" alt=\"Open In Colab\"/></a>"
      ]
    },
    {
      "cell_type": "markdown",
      "source": [
        "# Exercício 1\n",
        "\n",
        "a) Leia via teclado 10 entradas numéricas (inteiros) \"não repetidos\". Se for repetido, informar o usuário e continuar o programa.\n",
        "\n",
        "b) Ao final da execução, mostrar os números lidos na ordem de: entrada, crescente e decrescente."
      ],
      "metadata": {
        "id": "KcslKGETqm1v"
      }
    },
    {
      "cell_type": "markdown",
      "source": [
        "## Leitura de 10 valores"
      ],
      "metadata": {
        "id": "afHmq4q_u0z6"
      }
    },
    {
      "cell_type": "code",
      "source": [
        "lista = []\n",
        "\n",
        "while len(lista) < 10:\n",
        "    numero = int(input('Digite o valor: '))\n",
        "  \n",
        "    if (numero) not in lista: \n",
        "        lista.append(numero) \n",
        "        print(numero, 'inserido na lista')\n",
        "        print()\n",
        "    else:\n",
        "        print(numero, 'já foi inserido na lista')\n",
        "        print()"
      ],
      "metadata": {
        "colab": {
          "base_uri": "https://localhost:8080/"
        },
        "id": "ogcHu0ORq2-w",
        "outputId": "d7e3e6bd-48a5-46e6-e63b-8818ae5d6d67"
      },
      "execution_count": 4,
      "outputs": [
        {
          "output_type": "stream",
          "name": "stdout",
          "text": [
            "Digite o valor: 2\n",
            "2 inserido na lista\n",
            "\n",
            "Digite o valor: 4\n",
            "4 inserido na lista\n",
            "\n",
            "Digite o valor: 6\n",
            "6 inserido na lista\n",
            "\n",
            "Digite o valor: 8\n",
            "8 inserido na lista\n",
            "\n",
            "Digite o valor: 10\n",
            "10 inserido na lista\n",
            "\n",
            "Digite o valor: 1\n",
            "1 inserido na lista\n",
            "\n",
            "Digite o valor: 3\n",
            "3 inserido na lista\n",
            "\n",
            "Digite o valor: 5\n",
            "5 inserido na lista\n",
            "\n",
            "Digite o valor: 7\n",
            "7 inserido na lista\n",
            "\n",
            "Digite o valor: 9\n",
            "9 inserido na lista\n",
            "\n"
          ]
        }
      ]
    },
    {
      "cell_type": "markdown",
      "source": [
        "## Números lidos na ordem de entrada"
      ],
      "metadata": {
        "id": "KmZeCvTNuv2b"
      }
    },
    {
      "cell_type": "code",
      "source": [
        "print(lista)"
      ],
      "metadata": {
        "colab": {
          "base_uri": "https://localhost:8080/"
        },
        "id": "MFaXaemUupk5",
        "outputId": "9b812f03-86ce-4917-de3a-98bb2aba6ae3"
      },
      "execution_count": 5,
      "outputs": [
        {
          "output_type": "stream",
          "name": "stdout",
          "text": [
            "[2, 4, 6, 8, 10, 1, 3, 5, 7, 9]\n"
          ]
        }
      ]
    },
    {
      "cell_type": "markdown",
      "source": [
        "## Números lidos na ordem crescente"
      ],
      "metadata": {
        "id": "SpERKZZduwXi"
      }
    },
    {
      "cell_type": "code",
      "source": [
        "lista.sort()\n",
        "print(lista)"
      ],
      "metadata": {
        "colab": {
          "base_uri": "https://localhost:8080/"
        },
        "id": "NWPZoV8wuqF6",
        "outputId": "4bf88984-f4fd-4977-cea2-ff68c90adf7d"
      },
      "execution_count": 6,
      "outputs": [
        {
          "output_type": "stream",
          "name": "stdout",
          "text": [
            "[1, 2, 3, 4, 5, 6, 7, 8, 9, 10]\n"
          ]
        }
      ]
    },
    {
      "cell_type": "markdown",
      "source": [
        "## Números lidos na ordem decrescente"
      ],
      "metadata": {
        "id": "buA9kohhuwtm"
      }
    },
    {
      "cell_type": "code",
      "source": [
        "lista.reverse()\n",
        "print(lista)"
      ],
      "metadata": {
        "colab": {
          "base_uri": "https://localhost:8080/"
        },
        "id": "q9qVxRUzuqbx",
        "outputId": "90e0ad43-2b3c-4722-c1a4-5331ff697482"
      },
      "execution_count": 7,
      "outputs": [
        {
          "output_type": "stream",
          "name": "stdout",
          "text": [
            "[10, 9, 8, 7, 6, 5, 4, 3, 2, 1]\n"
          ]
        }
      ]
    }
  ]
}