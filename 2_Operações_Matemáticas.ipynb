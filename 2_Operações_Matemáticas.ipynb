{
  "nbformat": 4,
  "nbformat_minor": 0,
  "metadata": {
    "colab": {
      "name": "2 - Operações Matemáticas.ipynb",
      "provenance": [],
      "authorship_tag": "ABX9TyMJbLP+nvk53Kdfok9CiCHr",
      "include_colab_link": true
    },
    "kernelspec": {
      "name": "python3",
      "display_name": "Python 3"
    },
    "language_info": {
      "name": "python"
    }
  },
  "cells": [
    {
      "cell_type": "markdown",
      "metadata": {
        "id": "view-in-github",
        "colab_type": "text"
      },
      "source": [
        "<a href=\"https://colab.research.google.com/github/isacNepo/algaWorks/blob/master/2_Opera%C3%A7%C3%B5es_Matem%C3%A1ticas.ipynb\" target=\"_parent\"><img src=\"https://colab.research.google.com/assets/colab-badge.svg\" alt=\"Open In Colab\"/></a>"
      ]
    },
    {
      "cell_type": "markdown",
      "source": [
        "# Operações matemáticas"
      ],
      "metadata": {
        "id": "e1lopkUkG-qP"
      }
    },
    {
      "cell_type": "code",
      "source": [
        "x = 6\n",
        "y = 7"
      ],
      "metadata": {
        "id": "LOZAZ_38HOC3"
      },
      "execution_count": 2,
      "outputs": []
    },
    {
      "cell_type": "code",
      "source": [
        "print(x, y)"
      ],
      "metadata": {
        "colab": {
          "base_uri": "https://localhost:8080/"
        },
        "id": "4P2kJc-LHiDu",
        "outputId": "493dc3d1-f560-4cc9-8a19-a290d11a74bf"
      },
      "execution_count": 3,
      "outputs": [
        {
          "output_type": "stream",
          "name": "stdout",
          "text": [
            "6 7\n"
          ]
        }
      ]
    },
    {
      "cell_type": "code",
      "source": [
        "z = x + y\n",
        "print(f'A soma é {z}')"
      ],
      "metadata": {
        "colab": {
          "base_uri": "https://localhost:8080/"
        },
        "id": "IaJ22ic0HpMn",
        "outputId": "11e36056-9d74-4f49-fcdf-a9117efa54c0"
      },
      "execution_count": 4,
      "outputs": [
        {
          "output_type": "stream",
          "name": "stdout",
          "text": [
            "A soma é 13\n"
          ]
        }
      ]
    },
    {
      "cell_type": "code",
      "source": [
        "#outra forma de fazer a operação:\n",
        "print(f'A soma é {x + y}')"
      ],
      "metadata": {
        "colab": {
          "base_uri": "https://localhost:8080/"
        },
        "id": "-jJaFdlaH4YQ",
        "outputId": "0acb5a3c-7910-4851-aec5-c10df1b78897"
      },
      "execution_count": 5,
      "outputs": [
        {
          "output_type": "stream",
          "name": "stdout",
          "text": [
            "A soma é 13\n"
          ]
        }
      ]
    },
    {
      "cell_type": "code",
      "source": [
        "sub = x - y\n",
        "div = x / y\n",
        "mult = x * y\n",
        "\n",
        "print(f'A subtração é {sub}')\n",
        "print(f'A divisão é {div}')\n",
        "print(f'A multiplicação é {mult}')"
      ],
      "metadata": {
        "colab": {
          "base_uri": "https://localhost:8080/"
        },
        "id": "5m9jItFYIE-n",
        "outputId": "62785b5e-74c2-4355-86e1-5a19720fea91"
      },
      "execution_count": 6,
      "outputs": [
        {
          "output_type": "stream",
          "name": "stdout",
          "text": [
            "A subtração é -1\n",
            "A divisão é 0.8571428571428571\n",
            "A multiplicação é 42\n"
          ]
        }
      ]
    },
    {
      "cell_type": "code",
      "source": [
        "operacao_1 = (x + y) * 3\n",
        "operacao_2 = x + y * 3\n",
        "\n",
        "print(operacao_1)\n",
        "print(operacao_2)"
      ],
      "metadata": {
        "colab": {
          "base_uri": "https://localhost:8080/"
        },
        "id": "TSj-pPHYIjp2",
        "outputId": "e45cb121-6f55-49e2-e8d9-ffbb07268ca6"
      },
      "execution_count": 10,
      "outputs": [
        {
          "output_type": "stream",
          "name": "stdout",
          "text": [
            "39\n",
            "27\n"
          ]
        }
      ]
    },
    {
      "cell_type": "code",
      "source": [
        "#resto de uma divisão:\n",
        "\n",
        "resto = y % x\n",
        "\n",
        "print(resto)"
      ],
      "metadata": {
        "colab": {
          "base_uri": "https://localhost:8080/"
        },
        "id": "XtjpW-i1I_hP",
        "outputId": "4e316ddf-636d-46b1-acba-b47a05dc7e20"
      },
      "execution_count": 11,
      "outputs": [
        {
          "output_type": "stream",
          "name": "stdout",
          "text": [
            "1\n"
          ]
        }
      ]
    },
    {
      "cell_type": "code",
      "source": [
        "#verificar se o numero é par\n",
        "a = 2332451\n",
        "\n",
        "print(f'Resto da divisão de {a} por 2 = {a % 2}')"
      ],
      "metadata": {
        "colab": {
          "base_uri": "https://localhost:8080/"
        },
        "id": "XV8aXDZ9JVV3",
        "outputId": "a8af0167-291e-4058-dcb9-e4557f6052f3"
      },
      "execution_count": 12,
      "outputs": [
        {
          "output_type": "stream",
          "name": "stdout",
          "text": [
            "Resto da divisão de 2332451 por 2 = 1\n"
          ]
        }
      ]
    },
    {
      "cell_type": "code",
      "source": [
        "#potenciação\n",
        "pot = 7 ** 2\n",
        "\n",
        "print(pot)"
      ],
      "metadata": {
        "colab": {
          "base_uri": "https://localhost:8080/"
        },
        "id": "LyT4nDuhLa72",
        "outputId": "16dcfcfb-2a94-41e5-e386-2c5afbcddd1a"
      },
      "execution_count": 13,
      "outputs": [
        {
          "output_type": "stream",
          "name": "stdout",
          "text": [
            "49\n"
          ]
        }
      ]
    },
    {
      "cell_type": "code",
      "source": [
        "import math #importa o pacote \"math\" que possui várias funções prontas\n",
        "\n",
        "print(math.sqrt(81)) #raiz quadrada\n",
        "print(math.pi)"
      ],
      "metadata": {
        "colab": {
          "base_uri": "https://localhost:8080/"
        },
        "id": "9pguibLhLy-O",
        "outputId": "7f234d61-585a-436e-b174-4e5d77710398"
      },
      "execution_count": 16,
      "outputs": [
        {
          "output_type": "stream",
          "name": "stdout",
          "text": [
            "9.0\n",
            "3.141592653589793\n"
          ]
        }
      ]
    },
    {
      "cell_type": "markdown",
      "source": [
        "## Arredondamento de valores\n"
      ],
      "metadata": {
        "id": "qA2Zj4X_Mbwf"
      }
    },
    {
      "cell_type": "code",
      "source": [
        "print(f'divisão de {x} e {y}')\n",
        "print(div)\n",
        "round(div, 3) #arredonda um número, nesse caso com 3 casas decimais"
      ],
      "metadata": {
        "colab": {
          "base_uri": "https://localhost:8080/"
        },
        "id": "iRQpAzQVMiSe",
        "outputId": "90a425a6-6e3d-4fdb-af96-b3af1d39c4a5"
      },
      "execution_count": 19,
      "outputs": [
        {
          "output_type": "stream",
          "name": "stdout",
          "text": [
            "divisão de 6 e 7\n",
            "0.8571428571428571\n"
          ]
        },
        {
          "output_type": "execute_result",
          "data": {
            "text/plain": [
              "0.857"
            ]
          },
          "metadata": {},
          "execution_count": 19
        }
      ]
    }
  ]
}