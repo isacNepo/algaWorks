{
  "nbformat": 4,
  "nbformat_minor": 0,
  "metadata": {
    "colab": {
      "name": "Aula-Vetores Ordenados.ipynb",
      "provenance": [],
      "collapsed_sections": [],
      "authorship_tag": "ABX9TyPe8we8uahmAuZYYmZzsN3+",
      "include_colab_link": true
    },
    "kernelspec": {
      "name": "python3",
      "display_name": "Python 3"
    },
    "language_info": {
      "name": "python"
    }
  },
  "cells": [
    {
      "cell_type": "markdown",
      "metadata": {
        "id": "view-in-github",
        "colab_type": "text"
      },
      "source": [
        "<a href=\"https://colab.research.google.com/github/isacNepo/aulas_faculdade/blob/master/Aula_Vetores_Ordenados.ipynb\" target=\"_parent\"><img src=\"https://colab.research.google.com/assets/colab-badge.svg\" alt=\"Open In Colab\"/></a>"
      ]
    },
    {
      "cell_type": "markdown",
      "source": [
        "# Vetor ordenado"
      ],
      "metadata": {
        "id": "g0Cf-3QwdKnl"
      }
    },
    {
      "cell_type": "code",
      "source": [
        "import numpy as np;"
      ],
      "metadata": {
        "id": "_STgA-_DdP6s"
      },
      "execution_count": 1,
      "outputs": []
    },
    {
      "cell_type": "code",
      "source": [
        "class VetorOrdenado:\n",
        "\n",
        "  def __init__(vetor, capacidade):\n",
        "    vetor.capacidade = capacidade\n",
        "    vetor.ultima_posicao = -1\n",
        "    vetor.valores = np.empty(vetor.capacidade, dtype=int)\n",
        "\n",
        "  def imprime(vetor):\n",
        "    if(vetor.ultima_posicao == -1):\n",
        "      print('O vetor esta vazio!')\n",
        "    else:\n",
        "      for i in range(vetor.ultima_posicao + 1):\n",
        "        print(f'[{i}] -> {vetor.valores[i]}') \n",
        "\n",
        "  def insere(vetor, valor):\n",
        "    if(vetor.ultima_posicao == vetor.capacidade - 1):\n",
        "      print('Impossivel inserir. Capacidade máxima ja atingida!')\n",
        "      return\n",
        "\n",
        "    posicao = 0\n",
        "    for i in range(vetor.ultima_posicao + 1):\n",
        "      posicao = i\n",
        "      if vetor.valores[i] > valor:\n",
        "        break\n",
        "      if i == vetor.ultima_posicao:\n",
        "        posicao = i + 1\n",
        "\n",
        "    x = vetor.ultima_posicao\n",
        "    while x >= posicao:\n",
        "      vetor.valores[x + 1] = vetor.valores[x]\n",
        "      x -= 1\n",
        "\n",
        "    vetor.valores[posicao] = valor\n",
        "    vetor.ultima_posicao += 1               "
      ],
      "metadata": {
        "id": "6TREUx2gdZmr"
      },
      "execution_count": 2,
      "outputs": []
    },
    {
      "cell_type": "markdown",
      "source": [
        "## Testes\n"
      ],
      "metadata": {
        "id": "l6Rry2ONgv_l"
      }
    },
    {
      "cell_type": "code",
      "source": [
        "vetor = VetorOrdenado(10)\n",
        "vetor.imprime()"
      ],
      "metadata": {
        "colab": {
          "base_uri": "https://localhost:8080/"
        },
        "id": "WXx5GL1Bgyjc",
        "outputId": "93fd6faf-ec98-4e6a-de16-ba2fbd6f1bcd"
      },
      "execution_count": 3,
      "outputs": [
        {
          "output_type": "stream",
          "name": "stdout",
          "text": [
            "O vetor esta vazio!\n"
          ]
        }
      ]
    },
    {
      "cell_type": "code",
      "source": [
        "vetor.insere(7)\n",
        "vetor.imprime()"
      ],
      "metadata": {
        "colab": {
          "base_uri": "https://localhost:8080/"
        },
        "id": "eBq336GshUlM",
        "outputId": "2958e6f2-3c20-4140-a0a3-99c7647e7d86"
      },
      "execution_count": 4,
      "outputs": [
        {
          "output_type": "stream",
          "name": "stdout",
          "text": [
            "[0] -> 7\n"
          ]
        }
      ]
    },
    {
      "cell_type": "code",
      "source": [
        "vetor.insere(37)\n",
        "vetor.imprime()"
      ],
      "metadata": {
        "colab": {
          "base_uri": "https://localhost:8080/"
        },
        "id": "FOyYtSbPhwe-",
        "outputId": "51262289-0b30-45ba-b28c-150008fd9c02"
      },
      "execution_count": 5,
      "outputs": [
        {
          "output_type": "stream",
          "name": "stdout",
          "text": [
            "[0] -> 7\n",
            "[1] -> 37\n"
          ]
        }
      ]
    },
    {
      "cell_type": "code",
      "source": [
        "vetor.insere(4)\n",
        "vetor.imprime()"
      ],
      "metadata": {
        "colab": {
          "base_uri": "https://localhost:8080/"
        },
        "id": "ylYC1Rqyhy80",
        "outputId": "f9e4d7cb-2ac3-4e6e-8cfb-ab9f51ad01f7"
      },
      "execution_count": 6,
      "outputs": [
        {
          "output_type": "stream",
          "name": "stdout",
          "text": [
            "[0] -> 4\n",
            "[1] -> 7\n",
            "[2] -> 37\n"
          ]
        }
      ]
    }
  ]
}