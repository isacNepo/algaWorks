{
  "nbformat": 4,
  "nbformat_minor": 0,
  "metadata": {
    "colab": {
      "name": "8-Matrizes.ipynb",
      "provenance": [],
      "collapsed_sections": [],
      "authorship_tag": "ABX9TyM8GHcrSGsavoZvskDQnm+W",
      "include_colab_link": true
    },
    "kernelspec": {
      "name": "python3",
      "display_name": "Python 3"
    },
    "language_info": {
      "name": "python"
    }
  },
  "cells": [
    {
      "cell_type": "markdown",
      "metadata": {
        "id": "view-in-github",
        "colab_type": "text"
      },
      "source": [
        "<a href=\"https://colab.research.google.com/github/isacNepo/aulas_faculdade/blob/master/8_Matrizes.ipynb\" target=\"_parent\"><img src=\"https://colab.research.google.com/assets/colab-badge.svg\" alt=\"Open In Colab\"/></a>"
      ]
    },
    {
      "cell_type": "markdown",
      "source": [
        "#Matrizes"
      ],
      "metadata": {
        "id": "9MGVqN1bM0Gl"
      }
    },
    {
      "cell_type": "code",
      "source": [
        "import numpy as np #numpy é muito utilizada para processamento cientifico (MUITO usada em IA)"
      ],
      "metadata": {
        "id": "rQ0xPG4YM6Aj"
      },
      "execution_count": 1,
      "outputs": []
    },
    {
      "cell_type": "code",
      "source": [
        "matriz = np.array([[2, 3, 1],\n",
        "                   [4, 5, 7]]) #matriz 2X3"
      ],
      "metadata": {
        "id": "d2s1r9rPNx9d"
      },
      "execution_count": 4,
      "outputs": []
    },
    {
      "cell_type": "code",
      "source": [
        "print(matriz)"
      ],
      "metadata": {
        "colab": {
          "base_uri": "https://localhost:8080/"
        },
        "id": "LM5f5NpYOGlk",
        "outputId": "7ec6f34c-ec08-470b-b4cc-18f4669d6f69"
      },
      "execution_count": 5,
      "outputs": [
        {
          "output_type": "stream",
          "name": "stdout",
          "text": [
            "[[2 3 1]\n",
            " [4 5 7]]\n"
          ]
        }
      ]
    },
    {
      "cell_type": "code",
      "source": [
        "matriz.shape #mostra o formato da estrutura"
      ],
      "metadata": {
        "colab": {
          "base_uri": "https://localhost:8080/"
        },
        "id": "uvedU7deOVcD",
        "outputId": "44fc5eea-b458-429d-bc98-de6e9c37f11c"
      },
      "execution_count": 6,
      "outputs": [
        {
          "output_type": "execute_result",
          "data": {
            "text/plain": [
              "(2, 3)"
            ]
          },
          "metadata": {},
          "execution_count": 6
        }
      ]
    },
    {
      "cell_type": "code",
      "source": [
        "matriz[0] #primeira linha"
      ],
      "metadata": {
        "colab": {
          "base_uri": "https://localhost:8080/"
        },
        "id": "owgs-bMSOdHL",
        "outputId": "2cc4a18a-b4da-4228-c554-d97d70eac0c1"
      },
      "execution_count": 7,
      "outputs": [
        {
          "output_type": "execute_result",
          "data": {
            "text/plain": [
              "array([2, 3, 1])"
            ]
          },
          "metadata": {},
          "execution_count": 7
        }
      ]
    },
    {
      "cell_type": "code",
      "source": [
        "matriz[1]"
      ],
      "metadata": {
        "colab": {
          "base_uri": "https://localhost:8080/"
        },
        "id": "Z-nIEhOKOqrU",
        "outputId": "5f512572-0173-464f-9b7f-788c5b2ee59e"
      },
      "execution_count": 8,
      "outputs": [
        {
          "output_type": "execute_result",
          "data": {
            "text/plain": [
              "array([4, 5, 7])"
            ]
          },
          "metadata": {},
          "execution_count": 8
        }
      ]
    },
    {
      "cell_type": "code",
      "source": [
        "matriz[0][2] #[linha][coluna]"
      ],
      "metadata": {
        "colab": {
          "base_uri": "https://localhost:8080/"
        },
        "id": "GqfvFDptOtx8",
        "outputId": "4b38e59c-c78d-4afc-8825-3ee4f4e3ab53"
      },
      "execution_count": 9,
      "outputs": [
        {
          "output_type": "execute_result",
          "data": {
            "text/plain": [
              "1"
            ]
          },
          "metadata": {},
          "execution_count": 9
        }
      ]
    },
    {
      "cell_type": "code",
      "source": [
        "matriz[1][0]"
      ],
      "metadata": {
        "colab": {
          "base_uri": "https://localhost:8080/"
        },
        "id": "WXtedN3NO-WE",
        "outputId": "845b4bdc-cdc9-4fd1-cc87-9506bbb49d5e"
      },
      "execution_count": 10,
      "outputs": [
        {
          "output_type": "execute_result",
          "data": {
            "text/plain": [
              "4"
            ]
          },
          "metadata": {},
          "execution_count": 10
        }
      ]
    },
    {
      "cell_type": "code",
      "source": [
        "for i in range(matriz.shape[0]):\n",
        "  print(matriz[i])\n",
        "  for j in range(matriz.shape[1]):\n",
        "    print(matriz[i][j])"
      ],
      "metadata": {
        "colab": {
          "base_uri": "https://localhost:8080/"
        },
        "id": "sKPjVZwNPkc9",
        "outputId": "9b15fd90-2e0d-431c-adef-e11e9d8cc33f"
      },
      "execution_count": 12,
      "outputs": [
        {
          "output_type": "stream",
          "name": "stdout",
          "text": [
            "[2 3 1]\n",
            "2\n",
            "3\n",
            "1\n",
            "[4 5 7]\n",
            "4\n",
            "5\n",
            "7\n"
          ]
        }
      ]
    },
    {
      "cell_type": "markdown",
      "source": [
        "# Exercícios de fixação"
      ],
      "metadata": {
        "id": "yEwWru41QXuk"
      }
    },
    {
      "cell_type": "markdown",
      "source": [
        "1. Lista: Crie uma estrutura de repetição para fazer a leitura de 5 números inteiros e os armazene dentro de uma lista. Após a leitura, crie outra estrutura de repetição para somar todos os valores digitados\n",
        "\n",
        "2. Dicionário: Crie um dicionário para armazenar o nome e a nota de 3 alunos, fazendo a leitura dos valores por meio de uma estrutura de repetição. Depois, crie uma nova estrutura de repetição para somar todas as notas e retornar a média\n",
        "3. Matriz: Dada a matriz abaixo, construa uma estrutura de repetição para percorrer e somar todos os elementos da matriz\n"
      ],
      "metadata": {
        "id": "KAsS5wK0RYyX"
      }
    },
    {
      "cell_type": "markdown",
      "source": [
        "## Exercício 1"
      ],
      "metadata": {
        "id": "xQJWONozRmWW"
      }
    },
    {
      "cell_type": "code",
      "source": [
        "lista = []\n",
        "for _ in range(1, 6):\n",
        "  valor = int(input('Informe o valor: '))\n",
        "  lista.append(valor)"
      ],
      "metadata": {
        "colab": {
          "base_uri": "https://localhost:8080/"
        },
        "id": "JJb8xI8VRr0N",
        "outputId": "59da98cb-222f-4972-d94f-18a9c8808dde"
      },
      "execution_count": 13,
      "outputs": [
        {
          "name": "stdout",
          "output_type": "stream",
          "text": [
            "Informe o valor: 2\n",
            "Informe o valor: 4\n",
            "Informe o valor: 6\n",
            "Informe o valor: 8\n",
            "Informe o valor: 10\n"
          ]
        }
      ]
    },
    {
      "cell_type": "code",
      "source": [
        "lista"
      ],
      "metadata": {
        "colab": {
          "base_uri": "https://localhost:8080/"
        },
        "id": "hq6T1jUOSed1",
        "outputId": "13869b12-713b-4bd0-dbfe-033577115106"
      },
      "execution_count": 14,
      "outputs": [
        {
          "output_type": "execute_result",
          "data": {
            "text/plain": [
              "[2, 4, 6, 8, 10]"
            ]
          },
          "metadata": {},
          "execution_count": 14
        }
      ]
    },
    {
      "cell_type": "code",
      "source": [
        "len(lista)"
      ],
      "metadata": {
        "colab": {
          "base_uri": "https://localhost:8080/"
        },
        "id": "4-Y-pq81ShJF",
        "outputId": "5518259f-f43a-4c9a-cd57-fa31e453d0e1"
      },
      "execution_count": 15,
      "outputs": [
        {
          "output_type": "execute_result",
          "data": {
            "text/plain": [
              "5"
            ]
          },
          "metadata": {},
          "execution_count": 15
        }
      ]
    },
    {
      "cell_type": "code",
      "source": [
        "soma = 0\n",
        "for i in range(len(lista)):\n",
        "  soma += lista[i]\n",
        "print('Soma: ', soma)  "
      ],
      "metadata": {
        "colab": {
          "base_uri": "https://localhost:8080/"
        },
        "id": "xqfv6_AWSj8F",
        "outputId": "97d86e26-39ae-4803-b716-e111e3ed2160"
      },
      "execution_count": 16,
      "outputs": [
        {
          "output_type": "stream",
          "name": "stdout",
          "text": [
            "Soma:  30\n"
          ]
        }
      ]
    },
    {
      "cell_type": "markdown",
      "source": [
        "## Exercício 2"
      ],
      "metadata": {
        "id": "Ij_DGYuaTT6l"
      }
    },
    {
      "cell_type": "code",
      "source": [
        "alunos = {}\n",
        "for _ in range(1, 4):\n",
        "  nome = input('Informe o nome do aluno: ')\n",
        "  nota = float(input(f'Informe a nota do aluno {nome}: '))\n",
        "  alunos[nome] = nota\n"
      ],
      "metadata": {
        "colab": {
          "base_uri": "https://localhost:8080/"
        },
        "id": "EcOJQBg-TBp9",
        "outputId": "9ecf0024-d7b4-4cad-f39c-cf536409fa58"
      },
      "execution_count": 19,
      "outputs": [
        {
          "name": "stdout",
          "output_type": "stream",
          "text": [
            "Informe o nome do aluno: Thiago\n",
            "Informe a nota do aluno Thiago: 9\n",
            "Informe o nome do aluno: Leonardo\n",
            "Informe a nota do aluno Leonardo: 10\n",
            "Informe o nome do aluno: Diego\n",
            "Informe a nota do aluno Diego: 6\n"
          ]
        }
      ]
    },
    {
      "cell_type": "code",
      "source": [
        "alunos"
      ],
      "metadata": {
        "colab": {
          "base_uri": "https://localhost:8080/"
        },
        "id": "6RQ3iRsZTYgP",
        "outputId": "54b5c874-7f92-4870-d19a-38845930075e"
      },
      "execution_count": 20,
      "outputs": [
        {
          "output_type": "execute_result",
          "data": {
            "text/plain": [
              "{'Diego': 6.0, 'Leonardo': 10.0, 'Thiago': 9.0}"
            ]
          },
          "metadata": {},
          "execution_count": 20
        }
      ]
    },
    {
      "cell_type": "code",
      "source": [
        "soma = 0\n",
        "for nota in alunos.values():\n",
        "  soma += nota\n",
        "print('A soma de notas é: ', soma)\n",
        "print('A média das notas é', soma/3)  "
      ],
      "metadata": {
        "colab": {
          "base_uri": "https://localhost:8080/"
        },
        "id": "KayiUxsDUyd2",
        "outputId": "a6bd6add-0616-48ea-b499-2b76d4166491"
      },
      "execution_count": 21,
      "outputs": [
        {
          "output_type": "stream",
          "name": "stdout",
          "text": [
            "A soma de notas é:  25.0\n",
            "A média das notas é 8.333333333333334\n"
          ]
        }
      ]
    },
    {
      "cell_type": "markdown",
      "source": [
        "## Exercício 3"
      ],
      "metadata": {
        "id": "bzqK0mylVQ99"
      }
    },
    {
      "cell_type": "code",
      "source": [
        "matriz = np.array([[3, 4, 1],\n",
        "                   [3, 1, 5]])"
      ],
      "metadata": {
        "id": "xTY9HmjKVTsl"
      },
      "execution_count": null,
      "outputs": []
    },
    {
      "cell_type": "code",
      "source": [
        "matriz.shape"
      ],
      "metadata": {
        "colab": {
          "base_uri": "https://localhost:8080/"
        },
        "id": "TbV1b5u6Vgp9",
        "outputId": "4a21d356-a5ce-4e26-fa13-697303e065ec"
      },
      "execution_count": 22,
      "outputs": [
        {
          "output_type": "execute_result",
          "data": {
            "text/plain": [
              "(2, 3)"
            ]
          },
          "metadata": {},
          "execution_count": 22
        }
      ]
    },
    {
      "cell_type": "code",
      "source": [
        "soma = 0\n",
        "for i in range(matriz.shape[0]):\n",
        "  for j in range(matriz.shape[1]):\n",
        "    soma += matriz[i][j]\n",
        "\n",
        "print('Soma: ', soma)"
      ],
      "metadata": {
        "colab": {
          "base_uri": "https://localhost:8080/"
        },
        "id": "pYjQWCGGVmY1",
        "outputId": "143a862f-a7a9-4fe6-f6d0-26d0fc88951d"
      },
      "execution_count": 25,
      "outputs": [
        {
          "output_type": "stream",
          "name": "stdout",
          "text": [
            "Soma:  22\n"
          ]
        }
      ]
    }
  ]
}