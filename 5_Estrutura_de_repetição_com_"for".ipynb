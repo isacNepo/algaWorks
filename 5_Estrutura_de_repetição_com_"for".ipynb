{
  "nbformat": 4,
  "nbformat_minor": 0,
  "metadata": {
    "colab": {
      "name": "5-Estrutura de repetição com \"for\".ipynb",
      "provenance": [],
      "collapsed_sections": [],
      "authorship_tag": "ABX9TyMc1MpwGVg//iA5sB94ShiM",
      "include_colab_link": true
    },
    "kernelspec": {
      "name": "python3",
      "display_name": "Python 3"
    },
    "language_info": {
      "name": "python"
    }
  },
  "cells": [
    {
      "cell_type": "markdown",
      "metadata": {
        "id": "view-in-github",
        "colab_type": "text"
      },
      "source": [
        "<a href=\"https://colab.research.google.com/github/isacNepo/aulas_faculdade/blob/master/5_Estrutura_de_repeti%C3%A7%C3%A3o_com_%22for%22.ipynb\" target=\"_parent\"><img src=\"https://colab.research.google.com/assets/colab-badge.svg\" alt=\"Open In Colab\"/></a>"
      ]
    },
    {
      "cell_type": "markdown",
      "source": [
        "#Estrutura de repetição com \"for\""
      ],
      "metadata": {
        "id": "UuyeptQpHOuI"
      }
    },
    {
      "cell_type": "code",
      "source": [
        "print(1)\n",
        "print(2)\n",
        "print(3)\n",
        "print(4)\n",
        "print(5)\n",
        "print(6)"
      ],
      "metadata": {
        "colab": {
          "base_uri": "https://localhost:8080/"
        },
        "id": "sHVSC2qMHXOf",
        "outputId": "8429bcc1-1152-47f5-dfe1-7d3cf971460b"
      },
      "execution_count": 1,
      "outputs": [
        {
          "output_type": "stream",
          "name": "stdout",
          "text": [
            "1\n",
            "2\n",
            "3\n",
            "4\n",
            "5\n",
            "6\n"
          ]
        }
      ]
    },
    {
      "cell_type": "code",
      "source": [
        "for numero in range(1, 6): #note que o range no for (x, y) vai de x até y - 1\n",
        "  print(numero)"
      ],
      "metadata": {
        "colab": {
          "base_uri": "https://localhost:8080/"
        },
        "id": "Yt_JHtJfHgqQ",
        "outputId": "fa62f256-92b7-492f-dc78-09b51ddcba34"
      },
      "execution_count": 2,
      "outputs": [
        {
          "output_type": "stream",
          "name": "stdout",
          "text": [
            "1\n",
            "2\n",
            "3\n",
            "4\n",
            "5\n"
          ]
        }
      ]
    },
    {
      "cell_type": "code",
      "source": [
        "#loop \"ao contrario\"\n",
        "for numero in range(5, 0, -1): #o -1 representa a condição de passo, ou decremento\n",
        "  print(numero)"
      ],
      "metadata": {
        "colab": {
          "base_uri": "https://localhost:8080/"
        },
        "id": "QVAyjqKEH3w_",
        "outputId": "de3d8ce2-bd32-45e5-e8bf-9ee4124115b2"
      },
      "execution_count": 3,
      "outputs": [
        {
          "output_type": "stream",
          "name": "stdout",
          "text": [
            "5\n",
            "4\n",
            "3\n",
            "2\n",
            "1\n"
          ]
        }
      ]
    },
    {
      "cell_type": "code",
      "source": [
        "soma = 1 + 2 + 3 + 4 + 5 + 6\n",
        "print(soma)"
      ],
      "metadata": {
        "colab": {
          "base_uri": "https://localhost:8080/"
        },
        "id": "Z50U2InCINEI",
        "outputId": "4a0cf568-4acb-45b2-b1a7-70fddc9d89f0"
      },
      "execution_count": 4,
      "outputs": [
        {
          "output_type": "stream",
          "name": "stdout",
          "text": [
            "21\n"
          ]
        }
      ]
    },
    {
      "cell_type": "code",
      "source": [
        "#alternativa com loop\n",
        "soma = 0\n",
        "for numero in range(1, 7):\n",
        "  soma = soma + numero\n",
        "  print(f'A soma esta em {soma} -> a soma anterior + {numero}')\n",
        "print(f'Resutado final: {soma}')  "
      ],
      "metadata": {
        "colab": {
          "base_uri": "https://localhost:8080/"
        },
        "id": "F9PkdZnBIU3Q",
        "outputId": "62432382-8344-4be6-9217-e0bb81c940fb"
      },
      "execution_count": 5,
      "outputs": [
        {
          "output_type": "stream",
          "name": "stdout",
          "text": [
            "A soma esta em 1 -> a soma anterior + 1\n",
            "A soma esta em 3 -> a soma anterior + 2\n",
            "A soma esta em 6 -> a soma anterior + 3\n",
            "A soma esta em 10 -> a soma anterior + 4\n",
            "A soma esta em 15 -> a soma anterior + 5\n",
            "A soma esta em 21 -> a soma anterior + 6\n",
            "Resutado final: 21\n"
          ]
        }
      ]
    },
    {
      "cell_type": "code",
      "source": [
        "#podemos utilizar loops for com string, tambem.. veja:\n",
        "palavra = 'Uninove'\n",
        "for letra in palavra:\n",
        "  print(letra)"
      ],
      "metadata": {
        "colab": {
          "base_uri": "https://localhost:8080/"
        },
        "id": "fo6V-C5nI_VA",
        "outputId": "65834928-9764-4e4f-8d8a-9304c4d82a1e"
      },
      "execution_count": 6,
      "outputs": [
        {
          "output_type": "stream",
          "name": "stdout",
          "text": [
            "U\n",
            "n\n",
            "i\n",
            "n\n",
            "o\n",
            "v\n",
            "e\n"
          ]
        }
      ]
    },
    {
      "cell_type": "code",
      "source": [
        "#loop dentro de outro...\n",
        "for i in range(0, 6):\n",
        "  print()\n",
        "  print(i)\n",
        "  print('-------')\n",
        "  for j in range(0, 4):\n",
        "    print('J = ', j)\n",
        "print()    "
      ],
      "metadata": {
        "colab": {
          "base_uri": "https://localhost:8080/"
        },
        "id": "U76KCfmLJgeR",
        "outputId": "ee9f9f28-afab-45d5-c8df-3a845925f0d9"
      },
      "execution_count": 8,
      "outputs": [
        {
          "output_type": "stream",
          "name": "stdout",
          "text": [
            "\n",
            "0\n",
            "-------\n",
            "J =  0\n",
            "J =  1\n",
            "J =  2\n",
            "J =  3\n",
            "\n",
            "1\n",
            "-------\n",
            "J =  0\n",
            "J =  1\n",
            "J =  2\n",
            "J =  3\n",
            "\n",
            "2\n",
            "-------\n",
            "J =  0\n",
            "J =  1\n",
            "J =  2\n",
            "J =  3\n",
            "\n",
            "3\n",
            "-------\n",
            "J =  0\n",
            "J =  1\n",
            "J =  2\n",
            "J =  3\n",
            "\n",
            "4\n",
            "-------\n",
            "J =  0\n",
            "J =  1\n",
            "J =  2\n",
            "J =  3\n",
            "\n",
            "5\n",
            "-------\n",
            "J =  0\n",
            "J =  1\n",
            "J =  2\n",
            "J =  3\n",
            "\n"
          ]
        }
      ]
    }
  ]
}