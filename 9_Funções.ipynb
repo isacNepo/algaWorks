{
  "nbformat": 4,
  "nbformat_minor": 0,
  "metadata": {
    "colab": {
      "name": "9-Funções.ipynb",
      "provenance": [],
      "collapsed_sections": [],
      "authorship_tag": "ABX9TyNOwS/e4wpc6/g9C0h1JmYW",
      "include_colab_link": true
    },
    "kernelspec": {
      "name": "python3",
      "display_name": "Python 3"
    },
    "language_info": {
      "name": "python"
    }
  },
  "cells": [
    {
      "cell_type": "markdown",
      "metadata": {
        "id": "view-in-github",
        "colab_type": "text"
      },
      "source": [
        "<a href=\"https://colab.research.google.com/github/isacNepo/aulas_faculdade/blob/master/9_Fun%C3%A7%C3%B5es.ipynb\" target=\"_parent\"><img src=\"https://colab.research.google.com/assets/colab-badge.svg\" alt=\"Open In Colab\"/></a>"
      ]
    },
    {
      "cell_type": "markdown",
      "source": [
        "# Funções \n",
        "\n",
        " - Trechos de códigos de um programa que recebem um determinado NOME e podem ser CHAMADOS \"n\" vezes durante a execução do programa\n",
        " - Principais vantagens: reutilização de código, modularidade e facilidade de manutenção do sistema, facilidade para programação etc."
      ],
      "metadata": {
        "id": "4zIapQDhWcni"
      }
    },
    {
      "cell_type": "markdown",
      "source": [
        "## Funções SEM entrada de parametros e SEM retorno"
      ],
      "metadata": {
        "id": "q1s-LWTTXFle"
      }
    },
    {
      "cell_type": "code",
      "source": [
        "def dizOla():\n",
        "  print('Olá, seja muito bem-vindo')\n",
        "  print('Sinta-se em casa! :D')"
      ],
      "metadata": {
        "id": "9grdMS8yXORe"
      },
      "execution_count": null,
      "outputs": []
    },
    {
      "cell_type": "code",
      "source": [
        "dizOla()"
      ],
      "metadata": {
        "colab": {
          "base_uri": "https://localhost:8080/"
        },
        "id": "MCTt88IBXgZ2",
        "outputId": "3aef547c-e345-4a49-d112-d11eafbe4f53"
      },
      "execution_count": null,
      "outputs": [
        {
          "output_type": "stream",
          "name": "stdout",
          "text": [
            "Olá, seja muito bem-vindo\n",
            "Sinta-se em casa! :D\n"
          ]
        }
      ]
    },
    {
      "cell_type": "markdown",
      "source": [
        "## Funções COM entrada de parametros e SEM retorno"
      ],
      "metadata": {
        "id": "8yxgfaxWXnnG"
      }
    },
    {
      "cell_type": "code",
      "source": [
        "def dizNome(nome):\n",
        "  print(f'Olá {nome}, seja muito bem vindo(a)!')"
      ],
      "metadata": {
        "id": "mugYgvcIXxTH"
      },
      "execution_count": null,
      "outputs": []
    },
    {
      "cell_type": "code",
      "source": [
        "dizNome('Thiago')"
      ],
      "metadata": {
        "colab": {
          "base_uri": "https://localhost:8080/"
        },
        "id": "_h_ssfjjYFyO",
        "outputId": "6ed614a9-c4d1-426e-df27-b9be04f6d541"
      },
      "execution_count": null,
      "outputs": [
        {
          "output_type": "stream",
          "name": "stdout",
          "text": [
            "Olá Thiago, seja muito bem vindo(a)!\n"
          ]
        }
      ]
    },
    {
      "cell_type": "markdown",
      "source": [
        "## Funções COM entrada de parametro e COM retorno"
      ],
      "metadata": {
        "id": "RJZfbqBGYQCe"
      }
    },
    {
      "cell_type": "code",
      "source": [
        "def soma(a, b):\n",
        "  return a + b"
      ],
      "metadata": {
        "id": "YLNgeKSLYbd-"
      },
      "execution_count": null,
      "outputs": []
    },
    {
      "cell_type": "code",
      "source": [
        "soma(20, 4)"
      ],
      "metadata": {
        "colab": {
          "base_uri": "https://localhost:8080/"
        },
        "id": "Y5Hxu2y3YiBH",
        "outputId": "2c544362-37e4-40b5-dcf0-9f00769f7d42"
      },
      "execution_count": null,
      "outputs": [
        {
          "output_type": "execute_result",
          "data": {
            "text/plain": [
              "24"
            ]
          },
          "metadata": {},
          "execution_count": 6
        }
      ]
    },
    {
      "cell_type": "code",
      "source": [
        "x = soma(5, 9)\n",
        "print(x)"
      ],
      "metadata": {
        "colab": {
          "base_uri": "https://localhost:8080/"
        },
        "id": "IU4Zayw1YmFe",
        "outputId": "635cacde-1ded-4154-908b-f73766dde1f6"
      },
      "execution_count": null,
      "outputs": [
        {
          "output_type": "stream",
          "name": "stdout",
          "text": [
            "14\n"
          ]
        }
      ]
    },
    {
      "cell_type": "code",
      "source": [
        "def calcula_energia_potencial_gravitacional(m, h, g = 10):\n",
        "  e =  g * m * h\n",
        "  return e"
      ],
      "metadata": {
        "id": "J7F_Bu8TYxH_"
      },
      "execution_count": null,
      "outputs": []
    },
    {
      "cell_type": "code",
      "source": [
        "calcula_energia_potencial_gravitacional(30, 14)"
      ],
      "metadata": {
        "colab": {
          "base_uri": "https://localhost:8080/"
        },
        "id": "YbJ1P67vZHX-",
        "outputId": "e7ab8312-62e4-40df-fe9f-8c2f22eb08bb"
      },
      "execution_count": null,
      "outputs": [
        {
          "output_type": "execute_result",
          "data": {
            "text/plain": [
              "4200"
            ]
          },
          "metadata": {},
          "execution_count": 10
        }
      ]
    },
    {
      "cell_type": "code",
      "source": [
        "calcula_energia_potencial_gravitacional(30, 12, 9.4)"
      ],
      "metadata": {
        "colab": {
          "base_uri": "https://localhost:8080/"
        },
        "id": "8piGTjlFZO0e",
        "outputId": "532c17ba-269b-4b04-b683-b0b81ace57d9"
      },
      "execution_count": null,
      "outputs": [
        {
          "output_type": "execute_result",
          "data": {
            "text/plain": [
              "3384.0"
            ]
          },
          "metadata": {},
          "execution_count": 11
        }
      ]
    },
    {
      "cell_type": "markdown",
      "source": [
        "# Exercícios\n",
        "\n",
        "1. Ler uma temperatura em graus Celsius e apresentá-la convertida em graus Fahrenheit. A fórmula de conversão é F = (9 * C + 160) / 5, na qual F é a temperatura em Fahrenheit e C é a temperatura em graus Celsius\n",
        " - Função para ler e retorna o valor da temperatura (não recebe parâmetro)\n",
        " - Função para fazer o cálculo (recebe como parâmetro a temperatura em graus Celsius)\n",
        " - Função para mostrar o resultado, recebendo como parâmetro o valor e fazendo a impressão\n",
        "\n",
        "2. Efetuar o cálculo da quantidade de litros de combustível gasto em uma viagem, utilizando um automóvel que faz 15 Km por litro. Para obter o cálculo, o usuário deve fornecer o tempo gasto na viagem e a velocidade média durante ela. Desta forma, será possível obter a distância percorrida com a fórmula DISTANCIA = TEMPO * VELOCIDADE. Tendo o valor da distância, basta calcular a quantidade de litros de combustível utilizada na viagem, com a fórmula: LITROS_USADOS = DISTANCIA / 12. O programa deve apresentar os valores da velocidade média, tempo gasto na viagem, a distância percorrida e a quantidade de litros utilizada na viagem\n",
        " - Função para ler os valores (não recebe parâmetro e retorna os dois valores)\n",
        " - Função para calcular a distância (recebe como parâmetro o tempo e a velocidade e retorna a distância)\n",
        " - Função para calcular a quantidade de litros (recebe como parâmetro a distância e retorna os litros)\n",
        " - Função para apresentar o resultado (recebe como parâmetro os valores e somente imprime o resultado)\n"
      ],
      "metadata": {
        "id": "Jy5CVng4ZW1m"
      }
    },
    {
      "cell_type": "markdown",
      "source": [
        "## Exercicio 1"
      ],
      "metadata": {
        "id": "n-xT1Hvt_4FT"
      }
    },
    {
      "cell_type": "code",
      "source": [
        "def ler_temperatura():\n",
        "  temp = float(input('Informe a temperatura em grau Celsius: '))\n",
        "  return temp"
      ],
      "metadata": {
        "id": "M0HPnk7ZaN16"
      },
      "execution_count": 19,
      "outputs": []
    },
    {
      "cell_type": "code",
      "source": [
        "def calculo_de_conversao(temp_c):\n",
        "  temp_f = (9 * temp_c + 160) / 5\n",
        "  return temp_f"
      ],
      "metadata": {
        "id": "Njb7fPo98HkV"
      },
      "execution_count": 18,
      "outputs": []
    },
    {
      "cell_type": "code",
      "source": [
        "def mostrar_resutado(temp):\n",
        "  print(f'A temperatura é {temp}')"
      ],
      "metadata": {
        "id": "GcYjR2fUBJ8p"
      },
      "execution_count": 17,
      "outputs": []
    },
    {
      "cell_type": "code",
      "source": [
        "temp_c = ler_temperatura()\n",
        "temp_f = calculo_de_conversao(temp_c)\n",
        "mostrar_resutado(temp_f)"
      ],
      "metadata": {
        "colab": {
          "base_uri": "https://localhost:8080/"
        },
        "id": "1W_2xma_B-By",
        "outputId": "e9693421-9ea5-4b01-f987-1504ad242f2c"
      },
      "execution_count": 20,
      "outputs": [
        {
          "output_type": "stream",
          "name": "stdout",
          "text": [
            "Informe a temperatura em grau Celsius: 20\n",
            "A temperatura é 68.0\n"
          ]
        }
      ]
    },
    {
      "cell_type": "markdown",
      "source": [
        "## Exercício 2"
      ],
      "metadata": {
        "id": "IU5IpMbqChgp"
      }
    },
    {
      "cell_type": "code",
      "source": [
        "def ler_valores():\n",
        "  tempo = float(input('Informe o tempo gasto: '))\n",
        "  velocidade = float(input('Informe a velocidade média: '))\n",
        "  return tempo, velocidade"
      ],
      "metadata": {
        "id": "46kNovp2ClVZ"
      },
      "execution_count": 25,
      "outputs": []
    },
    {
      "cell_type": "code",
      "source": [
        "def calculo_distancia(tempo, velocidade):\n",
        "  return tempo * velocidade"
      ],
      "metadata": {
        "id": "ERHv0UkiDZRB"
      },
      "execution_count": 23,
      "outputs": []
    },
    {
      "cell_type": "code",
      "source": [
        "def calculo_litros(distancia):\n",
        "  return distancia / 15"
      ],
      "metadata": {
        "id": "UiXhY5EnD2h5"
      },
      "execution_count": 24,
      "outputs": []
    },
    {
      "cell_type": "code",
      "source": [
        "def mostra_resutado(velocidade, tempo, distancia, qtd_litros):\n",
        "  print(f'A velocidade média foi de: {velocidade}Km/h')\n",
        "  print(f'O tempo médio de viagem foi de: {tempo}h')\n",
        "  print(f'A distancia percorrida foi de: {distancia}Km')\n",
        "  print(f'A quantidade de litros de combustivel utilizado foi de {qtd_litros}L')"
      ],
      "metadata": {
        "id": "TaAycHKxEEuA"
      },
      "execution_count": 26,
      "outputs": []
    },
    {
      "cell_type": "code",
      "source": [
        "temp, velo = ler_valores()\n",
        "d = calculo_distancia(temp, velo)\n",
        "l = calculo_litros(d)\n",
        "mostra_resutado(velo, temp, d, l)"
      ],
      "metadata": {
        "colab": {
          "base_uri": "https://localhost:8080/"
        },
        "id": "5rJ9HcNdFWeq",
        "outputId": "ababaf04-57c8-4ea1-ed9d-781547c8b560"
      },
      "execution_count": 30,
      "outputs": [
        {
          "output_type": "stream",
          "name": "stdout",
          "text": [
            "Informe o tempo gasto: 2\n",
            "Informe a velocidade média: 120\n",
            "A velocidade média foi de: 120.0Km/h\n",
            "O tempo médio de viagem foi de: 2.0h\n",
            "A distancia percorrida foi de: 240.0Km\n",
            "A quantidade de litros de combustivel utilizado foi de 16.0L\n"
          ]
        }
      ]
    }
  ]
}