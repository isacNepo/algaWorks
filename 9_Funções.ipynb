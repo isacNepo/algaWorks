{
  "nbformat": 4,
  "nbformat_minor": 0,
  "metadata": {
    "colab": {
      "name": "9-Funções.ipynb",
      "provenance": [],
      "collapsed_sections": [],
      "authorship_tag": "ABX9TyNMV9htyGPkzU6uPccgDbG4",
      "include_colab_link": true
    },
    "kernelspec": {
      "name": "python3",
      "display_name": "Python 3"
    },
    "language_info": {
      "name": "python"
    }
  },
  "cells": [
    {
      "cell_type": "markdown",
      "metadata": {
        "id": "view-in-github",
        "colab_type": "text"
      },
      "source": [
        "<a href=\"https://colab.research.google.com/github/isacNepo/aulas_faculdade/blob/master/9_Fun%C3%A7%C3%B5es.ipynb\" target=\"_parent\"><img src=\"https://colab.research.google.com/assets/colab-badge.svg\" alt=\"Open In Colab\"/></a>"
      ]
    },
    {
      "cell_type": "markdown",
      "source": [
        "# Funções \n",
        "\n",
        " - Trechos de códigos de um programa que recebem um determinado NOME e podem ser CHAMADOS \"n\" vezes durante a execução do programa\n",
        " - Principais vantagens: reutilização de código, modularidade e facilidade de manutenção do sistema, facilidade para programação etc."
      ],
      "metadata": {
        "id": "4zIapQDhWcni"
      }
    },
    {
      "cell_type": "markdown",
      "source": [
        "## Funções SEM entrada de parametros e SEM retorno"
      ],
      "metadata": {
        "id": "q1s-LWTTXFle"
      }
    },
    {
      "cell_type": "code",
      "source": [
        "def dizOla():\n",
        "  print('Olá, seja muito bem-vindo')\n",
        "  print('Sinta-se em casa! :D')"
      ],
      "metadata": {
        "id": "9grdMS8yXORe"
      },
      "execution_count": 1,
      "outputs": []
    },
    {
      "cell_type": "code",
      "source": [
        "dizOla()"
      ],
      "metadata": {
        "colab": {
          "base_uri": "https://localhost:8080/"
        },
        "id": "MCTt88IBXgZ2",
        "outputId": "3aef547c-e345-4a49-d112-d11eafbe4f53"
      },
      "execution_count": 2,
      "outputs": [
        {
          "output_type": "stream",
          "name": "stdout",
          "text": [
            "Olá, seja muito bem-vindo\n",
            "Sinta-se em casa! :D\n"
          ]
        }
      ]
    },
    {
      "cell_type": "markdown",
      "source": [
        "## Funções COM entrada de parametros e SEM retorno"
      ],
      "metadata": {
        "id": "8yxgfaxWXnnG"
      }
    },
    {
      "cell_type": "code",
      "source": [
        "def dizNome(nome):\n",
        "  print(f'Olá {nome}, seja muito bem vindo(a)!')"
      ],
      "metadata": {
        "id": "mugYgvcIXxTH"
      },
      "execution_count": 3,
      "outputs": []
    },
    {
      "cell_type": "code",
      "source": [
        "dizNome('Thiago')"
      ],
      "metadata": {
        "colab": {
          "base_uri": "https://localhost:8080/"
        },
        "id": "_h_ssfjjYFyO",
        "outputId": "6ed614a9-c4d1-426e-df27-b9be04f6d541"
      },
      "execution_count": 4,
      "outputs": [
        {
          "output_type": "stream",
          "name": "stdout",
          "text": [
            "Olá Thiago, seja muito bem vindo(a)!\n"
          ]
        }
      ]
    },
    {
      "cell_type": "markdown",
      "source": [
        "## Funções COM entrada de parametro e COM retorno"
      ],
      "metadata": {
        "id": "RJZfbqBGYQCe"
      }
    },
    {
      "cell_type": "code",
      "source": [
        "def soma(a, b):\n",
        "  return a + b"
      ],
      "metadata": {
        "id": "YLNgeKSLYbd-"
      },
      "execution_count": 5,
      "outputs": []
    },
    {
      "cell_type": "code",
      "source": [
        "soma(20, 4)"
      ],
      "metadata": {
        "colab": {
          "base_uri": "https://localhost:8080/"
        },
        "id": "Y5Hxu2y3YiBH",
        "outputId": "2c544362-37e4-40b5-dcf0-9f00769f7d42"
      },
      "execution_count": 6,
      "outputs": [
        {
          "output_type": "execute_result",
          "data": {
            "text/plain": [
              "24"
            ]
          },
          "metadata": {},
          "execution_count": 6
        }
      ]
    },
    {
      "cell_type": "code",
      "source": [
        "x = soma(5, 9)\n",
        "print(x)"
      ],
      "metadata": {
        "colab": {
          "base_uri": "https://localhost:8080/"
        },
        "id": "IU4Zayw1YmFe",
        "outputId": "635cacde-1ded-4154-908b-f73766dde1f6"
      },
      "execution_count": 8,
      "outputs": [
        {
          "output_type": "stream",
          "name": "stdout",
          "text": [
            "14\n"
          ]
        }
      ]
    },
    {
      "cell_type": "code",
      "source": [
        "def calcula_energia_potencial_gravitacional(m, h, g = 10):\n",
        "  e =  g * m * h\n",
        "  return e"
      ],
      "metadata": {
        "id": "J7F_Bu8TYxH_"
      },
      "execution_count": 9,
      "outputs": []
    },
    {
      "cell_type": "code",
      "source": [
        "calcula_energia_potencial_gravitacional(30, 14)"
      ],
      "metadata": {
        "colab": {
          "base_uri": "https://localhost:8080/"
        },
        "id": "YbJ1P67vZHX-",
        "outputId": "e7ab8312-62e4-40df-fe9f-8c2f22eb08bb"
      },
      "execution_count": 10,
      "outputs": [
        {
          "output_type": "execute_result",
          "data": {
            "text/plain": [
              "4200"
            ]
          },
          "metadata": {},
          "execution_count": 10
        }
      ]
    },
    {
      "cell_type": "code",
      "source": [
        "calcula_energia_potencial_gravitacional(30, 12, 9.4)"
      ],
      "metadata": {
        "colab": {
          "base_uri": "https://localhost:8080/"
        },
        "id": "8piGTjlFZO0e",
        "outputId": "532c17ba-269b-4b04-b683-b0b81ace57d9"
      },
      "execution_count": 11,
      "outputs": [
        {
          "output_type": "execute_result",
          "data": {
            "text/plain": [
              "3384.0"
            ]
          },
          "metadata": {},
          "execution_count": 11
        }
      ]
    },
    {
      "cell_type": "markdown",
      "source": [
        "# Exercícios\n",
        "\n",
        "1. Ler uma temperatura em graus Celsius e apresentá-la convertida em graus Fahrenheit. A fórmula de conversão é F = (9 * C + 160) / 5, na qual F é a temperatura em Fahrenheit e C é a temperatura em graus Celsius\n",
        " - Função para ler e retorna o valor da temperatura (não recebe parâmetro)\n",
        " - Função para fazer o cálculo (recebe como parâmetro a temperatura em graus Celsius)\n",
        " - Função para mostrar o resultado, recebendo como parâmetro o valor e fazendo a impressão\n",
        "\n",
        "2. Efetuar o cálculo da quantidade de litros de combustível gasto em uma viagem, utilizando um automóvel que faz 15 Km por litro. Para obter o cálculo, o usuário deve fornecer o tempo gasto na viagem e a velocidade média durante ela. Desta forma, será possível obter a distância percorrida com a fórmula DISTANCIA = TEMPO * VELOCIDADE. Tendo o valor da distância, basta calcular a quantidade de litros de combustível utilizada na viagem, com a fórmula: LITROS_USADOS = DISTANCIA / 12. O programa deve apresentar os valores da velocidade média, tempo gasto na viagem, a distância percorrida e a quantidade de litros utilizada na viagem\n",
        " - Função para ler os valores (não recebe parâmetro e retorna os dois valores)\n",
        " - Função para calcular a distância (recebe como parâmetro o tempo e a velocidade e retorna a distância)\n",
        " - Função para calcular a quantidade de litros (recebe como parâmetro a distância e retorna os litros)\n",
        " - Função para apresentar o resultado (recebe como parâmetro os valores e somente imprime o resultado)\n"
      ],
      "metadata": {
        "id": "Jy5CVng4ZW1m"
      }
    },
    {
      "cell_type": "code",
      "source": [
        ""
      ],
      "metadata": {
        "id": "M0HPnk7ZaN16"
      },
      "execution_count": null,
      "outputs": []
    }
  ]
}