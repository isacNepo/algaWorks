{
  "nbformat": 4,
  "nbformat_minor": 0,
  "metadata": {
    "colab": {
      "name": "Cópia de aula_03 - operadores.ipynb",
      "provenance": [],
      "collapsed_sections": [
        "yy3EXfKIA5sq",
        "FtRv1fqeBNrE",
        "vHTu7QjBBrUS",
        "xmYmbQ2zBtZ3",
        "whLOjJg1Cp-O",
        "TXdazaApC5tu"
      ],
      "include_colab_link": true
    },
    "kernelspec": {
      "name": "python3",
      "display_name": "Python 3"
    },
    "language_info": {
      "name": "python"
    }
  },
  "cells": [
    {
      "cell_type": "markdown",
      "metadata": {
        "id": "view-in-github",
        "colab_type": "text"
      },
      "source": [
        "<a href=\"https://colab.research.google.com/github/isacNepo/aulas_faculdade/blob/master/C%C3%B3pia_de_aula_03_operadores.ipynb\" target=\"_parent\"><img src=\"https://colab.research.google.com/assets/colab-badge.svg\" alt=\"Open In Colab\"/></a>"
      ]
    },
    {
      "cell_type": "markdown",
      "source": [
        "# Operadores, Estruturas de Decisão e Repetição"
      ],
      "metadata": {
        "id": "tTxQfmap_wUm"
      }
    },
    {
      "cell_type": "markdown",
      "source": [
        "## Operadores Aritméticos\n",
        "\n",
        "| Operação      | Operador |\n",
        "|---------------|:--------:|\n",
        "| Adição        |     +    |\n",
        "| Subtração     |     -    |\n",
        "| Multiplicação |     *    |\n",
        "| Divisão       |     /    |\n",
        "| Exponenciação |    **    |\n",
        "| Parte Inteira |    //    |\n",
        "| Módulo        |     %    |"
      ],
      "metadata": {
        "id": "aPzqDwjWAINA"
      }
    },
    {
      "cell_type": "code",
      "source": [
        "# adição (+)\n",
        "10 + 10"
      ],
      "metadata": {
        "colab": {
          "base_uri": "https://localhost:8080/"
        },
        "id": "aQ_TvEuDApiV",
        "outputId": "c2e6622e-e969-4064-b20f-898d7efc5b23"
      },
      "execution_count": 3,
      "outputs": [
        {
          "output_type": "execute_result",
          "data": {
            "text/plain": [
              "20"
            ]
          },
          "metadata": {},
          "execution_count": 3
        }
      ]
    },
    {
      "cell_type": "code",
      "source": [
        "# subtração (-)\n",
        "10 -2"
      ],
      "metadata": {
        "colab": {
          "base_uri": "https://localhost:8080/"
        },
        "id": "K-vprFSjGod7",
        "outputId": "7843e57a-e5c4-4421-a5b4-748e29619f80"
      },
      "execution_count": 4,
      "outputs": [
        {
          "output_type": "execute_result",
          "data": {
            "text/plain": [
              "8"
            ]
          },
          "metadata": {},
          "execution_count": 4
        }
      ]
    },
    {
      "cell_type": "code",
      "source": [
        "# multiplicação (*)\n",
        "10 * 2"
      ],
      "metadata": {
        "colab": {
          "base_uri": "https://localhost:8080/"
        },
        "id": "8x1n6h-YGohB",
        "outputId": "7ee44301-7fb2-4982-fd35-e5b02220381a"
      },
      "execution_count": 5,
      "outputs": [
        {
          "output_type": "execute_result",
          "data": {
            "text/plain": [
              "20"
            ]
          },
          "metadata": {},
          "execution_count": 5
        }
      ]
    },
    {
      "cell_type": "code",
      "source": [
        "# divisão (/)\n",
        "10 / 2"
      ],
      "metadata": {
        "colab": {
          "base_uri": "https://localhost:8080/"
        },
        "id": "u71R7SfYGokH",
        "outputId": "d05567bc-b802-4d75-8f3e-1925bf8d4f20"
      },
      "execution_count": 6,
      "outputs": [
        {
          "output_type": "execute_result",
          "data": {
            "text/plain": [
              "5.0"
            ]
          },
          "metadata": {},
          "execution_count": 6
        }
      ]
    },
    {
      "cell_type": "code",
      "source": [
        "# exponenciação/potência (**)\n",
        "2 ** 3"
      ],
      "metadata": {
        "colab": {
          "base_uri": "https://localhost:8080/"
        },
        "id": "OhYW_nnTGong",
        "outputId": "3d0f717d-fd19-43d3-fe44-bee9bb9dbb0f"
      },
      "execution_count": 7,
      "outputs": [
        {
          "output_type": "execute_result",
          "data": {
            "text/plain": [
              "8"
            ]
          },
          "metadata": {},
          "execution_count": 7
        }
      ]
    },
    {
      "cell_type": "code",
      "source": [
        "# Divisão inteira (//)\n",
        "print(10 // 3)\n",
        "print(5 // 2) # 5/2 = 2.5"
      ],
      "metadata": {
        "colab": {
          "base_uri": "https://localhost:8080/"
        },
        "id": "26-4af5hHmsh",
        "outputId": "3d501a79-26c7-4102-8cc8-0bf323cfe71f"
      },
      "execution_count": 8,
      "outputs": [
        {
          "output_type": "stream",
          "name": "stdout",
          "text": [
            "3\n",
            "2\n"
          ]
        }
      ]
    },
    {
      "cell_type": "code",
      "source": [
        "# Resto da divisão - módulo (%)\n",
        "print(10 % 3)\n",
        "print(5 % 2)"
      ],
      "metadata": {
        "colab": {
          "base_uri": "https://localhost:8080/"
        },
        "id": "XHlQajGmHmyM",
        "outputId": "086fb464-4a42-4cb0-8c09-c6947d9592d9"
      },
      "execution_count": 9,
      "outputs": [
        {
          "output_type": "stream",
          "name": "stdout",
          "text": [
            "1\n",
            "1\n"
          ]
        }
      ]
    },
    {
      "cell_type": "code",
      "source": [
        "# Descobrindo se um número é par ou ímpar\n",
        "n = 5\n",
        "n % 2"
      ],
      "metadata": {
        "colab": {
          "base_uri": "https://localhost:8080/"
        },
        "id": "Lig1rDsfI5oy",
        "outputId": "e38f00c8-7b74-426a-a391-69e28be60d36"
      },
      "execution_count": 10,
      "outputs": [
        {
          "output_type": "execute_result",
          "data": {
            "text/plain": [
              "1"
            ]
          },
          "metadata": {},
          "execution_count": 10
        }
      ]
    },
    {
      "cell_type": "markdown",
      "source": [
        "## Operadores Relacionais\n",
        "| Descrição        | Operador |\n",
        "|------------------|:--------:|\n",
        "| Maior que        |     >    |\n",
        "| Menor que        |     <    |\n",
        "| Igual a          |    ==    |\n",
        "| Maior ou igual a |    >=    |\n",
        "| Menor ou igual a |    <=    |\n",
        "| Diferente        |    !=    |\n",
        "\n",
        "O símbolo `!` significa uma negação ou não."
      ],
      "metadata": {
        "id": "Fwk1VRaFAqmy"
      }
    },
    {
      "cell_type": "code",
      "source": [
        "print(10 < 2)\n",
        "print(2 < 10)\n",
        "print(10 == 10)\n",
        "print(11 >= 10)\n",
        "print(10 <= 11)\n",
        "print(10 != 11)\n",
        "print(10 < 10)"
      ],
      "metadata": {
        "colab": {
          "base_uri": "https://localhost:8080/"
        },
        "id": "o-igPfdZAxTx",
        "outputId": "fd9736dc-a555-4942-86bf-bbac4123fd10"
      },
      "execution_count": 11,
      "outputs": [
        {
          "output_type": "stream",
          "name": "stdout",
          "text": [
            "False\n",
            "True\n",
            "True\n",
            "True\n",
            "True\n",
            "True\n",
            "False\n"
          ]
        }
      ]
    },
    {
      "cell_type": "markdown",
      "source": [
        "## Operadores Lógicos\n",
        "\n",
        "Esses operadores permitem unir 2 expressões ligando-as com os conectivos lógicos matemáticos e são:\n",
        "\n",
        "| Operador Lógico \t| Função    \t| Prioridade \t|\n",
        "|-----------------\t|-----------\t|:----------:\t|\n",
        "| NOT             \t| Negação   \t|      1     \t|\n",
        "| AND             \t| Conjunção \t|      2     \t|\n",
        "| OR              \t| Disjunção \t|      3     \t|\n",
        "\n",
        "**Observação**: Pesquisar sobre conectivos lógicos e tabela Verdade"
      ],
      "metadata": {
        "id": "BdpjjLG0AxyJ"
      }
    },
    {
      "cell_type": "code",
      "source": [
        "# NOT\n",
        "print('NOT', not (10 < 2) )\n",
        "print('NOT', not (10 > 10) )\n",
        "print('NOT', not (10 == 10) )"
      ],
      "metadata": {
        "colab": {
          "base_uri": "https://localhost:8080/"
        },
        "id": "se_Bz9ODA1qB",
        "outputId": "c905efc5-43b0-423a-ab56-f0606884e182"
      },
      "execution_count": 12,
      "outputs": [
        {
          "output_type": "stream",
          "name": "stdout",
          "text": [
            "NOT True\n",
            "NOT True\n",
            "NOT False\n"
          ]
        }
      ]
    },
    {
      "cell_type": "code",
      "source": [
        "# AND\n",
        "print((10 > 2) and (8 != 4))"
      ],
      "metadata": {
        "colab": {
          "base_uri": "https://localhost:8080/"
        },
        "id": "G_cxEn1BN7X-",
        "outputId": "47e4ab9e-4a2a-4f00-c382-494e4ffbdfa7"
      },
      "execution_count": 13,
      "outputs": [
        {
          "output_type": "stream",
          "name": "stdout",
          "text": [
            "True\n"
          ]
        }
      ]
    },
    {
      "cell_type": "markdown",
      "source": [
        "## Conversão de Tipos\n",
        "\n",
        "* Absoluto abs(x) - sem sinal (+ ou -)\n",
        "* Conveter para Inteiro: int(x)\n",
        "* Converter para Real: float(x)\n",
        "* Converter para String: str(valor)"
      ],
      "metadata": {
        "id": "F8PkOiZnA-a0"
      }
    },
    {
      "cell_type": "code",
      "source": [
        "print(abs(-98))\n",
        "print(int(10.32))\n",
        "print(int('12'))\n",
        "print(float('23.12') * 2)\n",
        "print(type(str(123.12)))"
      ],
      "metadata": {
        "colab": {
          "base_uri": "https://localhost:8080/"
        },
        "id": "KptGRZyjBHHe",
        "outputId": "36dcef0d-b818-4b7a-8e5c-c638643a5e74"
      },
      "execution_count": 14,
      "outputs": [
        {
          "output_type": "stream",
          "name": "stdout",
          "text": [
            "98\n",
            "10\n",
            "12\n",
            "46.24\n",
            "<class 'str'>\n"
          ]
        }
      ]
    },
    {
      "cell_type": "markdown",
      "source": [
        "## Leitura pelo Teclado\n",
        "\n",
        "Para realizar a entrada de dados, podemos usar o comando `input()` da seguinte forma:\n",
        "\n",
        "```python\n",
        "    variavel = input('Mensagem ao usuário: ')\n",
        "```\n",
        "\n",
        "É importante destacar que a entrada de dados sempre será interpretada como um `String`, isso significa que qualquer valor lido deverá ser convertido para o tipo específico. Exemplos:"
      ],
      "metadata": {
        "id": "yy3EXfKIA5sq"
      }
    },
    {
      "cell_type": "code",
      "execution_count": 15,
      "metadata": {
        "colab": {
          "base_uri": "https://localhost:8080/"
        },
        "id": "whkgU2RN_sLG",
        "outputId": "7f2f52b7-09c7-493b-abcb-a8e4066d918b"
      },
      "outputs": [
        {
          "output_type": "stream",
          "name": "stdout",
          "text": [
            "digite seu nome: isac\n",
            "isac\n"
          ]
        }
      ],
      "source": [
        "valor = input('digite seu nome: ')\n",
        "print(valor)"
      ]
    },
    {
      "cell_type": "code",
      "source": [
        "valor1 = float(input('Digite um número qualquer: '))\n",
        "valor2 = float(input('Digite outro número qualquer: '))\n",
        "print(type(valor1), type(valor2))\n",
        "\n",
        "print(valor1 * valor2)"
      ],
      "metadata": {
        "colab": {
          "base_uri": "https://localhost:8080/"
        },
        "id": "HPkfF2gARkYG",
        "outputId": "f2cb90a3-9f96-4edb-a501-1ae11df4f9a8"
      },
      "execution_count": 16,
      "outputs": [
        {
          "output_type": "stream",
          "name": "stdout",
          "text": [
            "Digite um número qualquer: 5\n",
            "Digite outro número qualquer: 6\n",
            "<class 'float'> <class 'float'>\n",
            "30.0\n"
          ]
        }
      ]
    },
    {
      "cell_type": "markdown",
      "source": [
        "# Exercício\n",
        "\n",
        "Calcule o **delta** da equação a seguir, realizando a entrada dos valores de (a, b e c) pelo teclado.\n",
        "\n",
        "<h2>\n",
        "\n",
        "Exemplo: $x^2 + 12x - 13 = 0$ com $a$=1, $b$=12 e $c$=-13.\n",
        "\n",
        "$\\Delta=$b$^2 - 4 \\cdot $a$ \\cdot $c$ $\n",
        "\n",
        "</h2>"
      ],
      "metadata": {
        "id": "FtRv1fqeBNrE"
      }
    },
    {
      "cell_type": "code",
      "source": [
        "a = float(input('Digite o valor de A: '))\n",
        "b = float(input('Digite o valor de B: '))\n",
        "c = float(input('Digite o valor de C: '))\n",
        "\n",
        "delta = (b ** 2) - 4 * a * c\n",
        "\n",
        "print(delta)"
      ],
      "metadata": {
        "id": "DT6yPw6XBptQ",
        "colab": {
          "base_uri": "https://localhost:8080/"
        },
        "outputId": "985f340f-0730-4489-c123-2d95647874a4"
      },
      "execution_count": 22,
      "outputs": [
        {
          "output_type": "stream",
          "name": "stdout",
          "text": [
            "Digite o valor de A: 2\n",
            "Digite o valor de B: 2\n",
            "Digite o valor de C: 2\n",
            "-12.0\n"
          ]
        }
      ]
    },
    {
      "cell_type": "markdown",
      "source": [
        "---\n",
        "\n",
        "# Desvios Condicionais e estruturas de Repetição\n",
        "\n",
        "__ATENÇÃO__: Python define ``blocos de código`` através da __indentação__."
      ],
      "metadata": {
        "id": "vHTu7QjBBrUS"
      }
    },
    {
      "cell_type": "markdown",
      "source": [
        "### Desvio Condicional (``if-elif-else``)\n",
        "\n",
        "É um desvio realizado dentro de um algoritmo para tomar caminhos diferentes na execução de tarefas.\n",
        "\n",
        "```python\n",
        "if (condição):\n",
        "    ...comandos...\n",
        "elif (condição):\n",
        "    ...comandos...\n",
        "else:\n",
        "    ...comandos...\n",
        "```"
      ],
      "metadata": {
        "id": "xmYmbQ2zBtZ3"
      }
    },
    {
      "cell_type": "code",
      "source": [
        "if (10 > 2):\n",
        "  print('É verdade')\n",
        "else:\n",
        "    print('É falso')"
      ],
      "metadata": {
        "id": "i7HNCjDYBCxq",
        "colab": {
          "base_uri": "https://localhost:8080/"
        },
        "outputId": "f50541e9-6ae5-4d86-953a-e1e33eef1c78"
      },
      "execution_count": 23,
      "outputs": [
        {
          "output_type": "stream",
          "name": "stdout",
          "text": [
            "É verdade\n"
          ]
        }
      ]
    },
    {
      "cell_type": "code",
      "source": [
        "variavel = 32\n",
        "\n",
        "if (variavel % 2 == 0):\n",
        "  print(f\"{variavel} é par\")\n",
        "else:\n",
        "  print(f\"{variavel} é impar\")"
      ],
      "metadata": {
        "colab": {
          "base_uri": "https://localhost:8080/"
        },
        "id": "qTUZVpwBcbjP",
        "outputId": "70d1f521-1e8e-453f-8e3a-ddd86235793f"
      },
      "execution_count": 24,
      "outputs": [
        {
          "output_type": "stream",
          "name": "stdout",
          "text": [
            "32 é par\n"
          ]
        }
      ]
    },
    {
      "cell_type": "code",
      "source": [
        "#elif\n",
        "variavel = 9\n",
        "\n",
        "if (variavel % 2 == 0):\n",
        "  print(variavel * 2)\n",
        "\n",
        "elif ((variavel % 2 == 0) and (variavel > 10)):\n",
        "  print(variavel * 3)\n",
        "\n",
        "else:\n",
        "  print(variavel * 5)"
      ],
      "metadata": {
        "colab": {
          "base_uri": "https://localhost:8080/"
        },
        "id": "whRHu8Uccbe-",
        "outputId": "1f367808-8316-415a-a44e-7501b0511600"
      },
      "execution_count": 25,
      "outputs": [
        {
          "output_type": "stream",
          "name": "stdout",
          "text": [
            "45\n"
          ]
        }
      ]
    },
    {
      "cell_type": "markdown",
      "source": [
        "## Atividade\n",
        "\n",
        "Faça um programa que leia o peso e a altura de uma pessoa, calcule o seu IMC e mostre o seu estado nutricional. \n",
        "\n",
        "**Observações:**\n",
        "* Utilizar *if-elif-else*\n",
        "* O IMC deverá conter apenas duas casas decimais\n",
        "<br><br>\n",
        "\n",
        "<center>\n",
        "Equação para o cálculo\n",
        "<br><br> \n",
        "$\n",
        "\\large IMC = \\frac{peso}{altura^2}\n",
        "$\n",
        "<br><br>\n",
        "<strong>Tabela do Estado Nutricional</strong>\n",
        "</center>\n",
        "\n",
        "| IMC               | Resultado        |\n",
        "|-------------------|------------------|\n",
        "| Menos do que 18,5 | Abaixo do peso   |\n",
        "| Entre 18,5 e 24,9 | Peso normal      |\n",
        "| Entre 25 e 29,9   | Sobrepeso        |\n",
        "| Entre 30 e 34,9   | Obesidade grau 1 |\n",
        "| Entre 35 e 39,9   | Obesidade grau 2 |\n",
        "| Mais do que 40    | Obesidade grau 3 |"
      ],
      "metadata": {
        "id": "whLOjJg1Cp-O"
      }
    },
    {
      "cell_type": "code",
      "source": [
        "peso = float(input('Digite seu peso: '))\n",
        "altura = float(input('Digite sua altora: '))\n",
        "\n",
        "imc = peso / (altura ** 2)\n",
        "\n",
        "if (imc < 18,5):\n",
        "  print('abaixo do peso')\n",
        "\n",
        "elif (imc >= 18,5 and imc <= 24,9):\n",
        "  print('peso normal')\n",
        "  \n",
        "elif (imc >= 25 and imc <= 29,9):\n",
        "  print('Sobrepeso')\n",
        "\n",
        "elif (imc >= 30 and imc <= 34,9):\n",
        "  print('Obesidade grau 1')\n",
        "\n",
        "elif (imc >= 35 and imc <= 39,9):\n",
        "  print('Obesidade grau 2')\n",
        "\n",
        "else:\n",
        "  print('Obesidade grau 3')"
      ],
      "metadata": {
        "id": "TAHp-eH-CtiR",
        "colab": {
          "base_uri": "https://localhost:8080/"
        },
        "outputId": "96dd18de-f448-4e76-f93a-b05b4f5a6d46"
      },
      "execution_count": 26,
      "outputs": [
        {
          "output_type": "stream",
          "name": "stdout",
          "text": [
            "Digite seu peso: 55\n",
            "Digite sua altora: 1.70\n",
            "abaixo do peso\n"
          ]
        }
      ]
    },
    {
      "cell_type": "markdown",
      "source": [
        "# Estrutura de Repetição\n",
        "\n",
        "### Estrutura ``for``\n",
        "\n",
        "```python\n",
        "for variável condição:\n",
        "    <instruções>\n",
        "```"
      ],
      "metadata": {
        "id": "mO0omFSHCvq1"
      }
    },
    {
      "cell_type": "code",
      "source": [
        "# range(numeros): range(1, 10)\n",
        "for i in range(1, 11):  \n",
        "  print(i)"
      ],
      "metadata": {
        "id": "I0HUjNF8CzMA",
        "colab": {
          "base_uri": "https://localhost:8080/"
        },
        "outputId": "03f820a2-9ddc-4e47-8912-a7f17a5769f5"
      },
      "execution_count": 27,
      "outputs": [
        {
          "output_type": "stream",
          "name": "stdout",
          "text": [
            "1\n",
            "2\n",
            "3\n",
            "4\n",
            "5\n",
            "6\n",
            "7\n",
            "8\n",
            "9\n",
            "10\n"
          ]
        }
      ]
    },
    {
      "cell_type": "markdown",
      "source": [
        "### Estrutura ``while``\n",
        "\n",
        "```python\n",
        "while (condição):\n",
        "    <instruções>\n",
        "    [condição]\n",
        "```"
      ],
      "metadata": {
        "id": "TXdazaApC5tu"
      }
    },
    {
      "cell_type": "code",
      "source": [
        "contador = 1\n",
        "while (contador < 11):\n",
        "  print(contador)\n",
        "  contador +=1 # adiciona um valor a cada execução"
      ],
      "metadata": {
        "id": "vSbKfj3WDKOH",
        "colab": {
          "base_uri": "https://localhost:8080/"
        },
        "outputId": "bed6d974-19c2-4a83-e58d-5a4a107bb87e"
      },
      "execution_count": 28,
      "outputs": [
        {
          "output_type": "stream",
          "name": "stdout",
          "text": [
            "1\n",
            "2\n",
            "3\n",
            "4\n",
            "5\n",
            "6\n",
            "7\n",
            "8\n",
            "9\n",
            "10\n"
          ]
        }
      ]
    },
    {
      "cell_type": "markdown",
      "source": [
        "# Exercícios\n",
        "\n",
        "Elabore um programa que leia um número do teclado e apresente a sua tabuada."
      ],
      "metadata": {
        "id": "K60tV23xDNz1"
      }
    },
    {
      "cell_type": "code",
      "source": [
        "# Considerar que a tabuada é de 1 a té 10\n",
        "n = int(input('Digite a tabuada: '))\n",
        "\n",
        "for i in range(1, 11):\n",
        "  print(n, 'X', i, ' = ', n*i)"
      ],
      "metadata": {
        "id": "pCRxKiKwDQDY",
        "colab": {
          "base_uri": "https://localhost:8080/"
        },
        "outputId": "20dbb7af-0ca2-496c-fe24-d66441bbdd50"
      },
      "execution_count": 29,
      "outputs": [
        {
          "output_type": "stream",
          "name": "stdout",
          "text": [
            "Digite a tabuada: 2\n",
            "2 X 1  =  2\n",
            "2 X 2  =  4\n",
            "2 X 3  =  6\n",
            "2 X 4  =  8\n",
            "2 X 5  =  10\n",
            "2 X 6  =  12\n",
            "2 X 7  =  14\n",
            "2 X 8  =  16\n",
            "2 X 9  =  18\n",
            "2 X 10  =  20\n"
          ]
        }
      ]
    },
    {
      "cell_type": "code",
      "source": [
        "n = int(input('Digite a tabuada: '))\n",
        "\n",
        "i = 1\n",
        "while i < 11:\n",
        "  print(n, 'X', i, ' = ', n*i)\n",
        "  i += 1"
      ],
      "metadata": {
        "colab": {
          "base_uri": "https://localhost:8080/"
        },
        "id": "35ipjn16i_ji",
        "outputId": "7f6e58c4-47d7-4343-9090-4fe826f187e9"
      },
      "execution_count": 30,
      "outputs": [
        {
          "output_type": "stream",
          "name": "stdout",
          "text": [
            "Digite a tabuada: 2\n",
            "2 X 1  =  2\n",
            "2 X 2  =  4\n",
            "2 X 3  =  6\n",
            "2 X 4  =  8\n",
            "2 X 5  =  10\n",
            "2 X 6  =  12\n",
            "2 X 7  =  14\n",
            "2 X 8  =  16\n",
            "2 X 9  =  18\n",
            "2 X 10  =  20\n"
          ]
        }
      ]
    }
  ]
}