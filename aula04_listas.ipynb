{
  "cells": [
    {
      "cell_type": "markdown",
      "metadata": {
        "id": "view-in-github",
        "colab_type": "text"
      },
      "source": [
        "<a href=\"https://colab.research.google.com/github/isacNepo/aulas_faculdade/blob/master/aula04_listas.ipynb\" target=\"_parent\"><img src=\"https://colab.research.google.com/assets/colab-badge.svg\" alt=\"Open In Colab\"/></a>"
      ]
    },
    {
      "cell_type": "markdown",
      "metadata": {
        "id": "L7ztJvkrghwS"
      },
      "source": [
        "# Estrutura de Dados - _``list``_\n",
        "## Listas (_``list``_)\n",
        "\n",
        "É uma estrutura de dados que possui nenhum, um ou mais elementos ou itens. Os itens são ordenados a partir de um índice, apresentando flexibilidade para manipulação dos dados como inclusão, exclusão, alteração, ordenação, etc.\n",
        "\n",
        "As listas são estruturas dinâmicas, ou seja, permitem que as operações possam ser realizadas em tempo de execução. Outro detalhe importante é que os dados armazenados em uma lista podem ser de tipos variados, permitindo um maior controle sobre os mesmos.\n",
        "\n",
        "Em Python uma lista é representada por um par de colchetes ``[ ]``."
      ]
    },
    {
      "cell_type": "code",
      "execution_count": 1,
      "metadata": {
        "id": "5tSbwgmPgKDG",
        "colab": {
          "base_uri": "https://localhost:8080/"
        },
        "outputId": "45d8e022-2acf-4c17-c7e9-bb10c06bd971"
      },
      "outputs": [
        {
          "output_type": "stream",
          "name": "stdout",
          "text": [
            "<class 'int'>\n"
          ]
        }
      ],
      "source": [
        "# Relembrando\n",
        "x = 10\n",
        "\n",
        "# Como saber o tipo do dado armazenado na variável x?\n",
        "print(type(x))"
      ]
    },
    {
      "cell_type": "code",
      "execution_count": 2,
      "metadata": {
        "id": "TX37QwepjcaP"
      },
      "outputs": [],
      "source": [
        "# Declaração de uma variável do tipo lista\n",
        "lista = []"
      ]
    },
    {
      "cell_type": "code",
      "execution_count": 3,
      "metadata": {
        "id": "lAUReIoDj4d-",
        "colab": {
          "base_uri": "https://localhost:8080/"
        },
        "outputId": "b8e99174-921b-44fe-e459-24cd49fc62f4"
      },
      "outputs": [
        {
          "output_type": "execute_result",
          "data": {
            "text/plain": [
              "[]"
            ]
          },
          "metadata": {},
          "execution_count": 3
        }
      ],
      "source": [
        "lista"
      ]
    },
    {
      "cell_type": "code",
      "execution_count": 4,
      "metadata": {
        "id": "E5TLMS54j5Lh",
        "colab": {
          "base_uri": "https://localhost:8080/"
        },
        "outputId": "c15949ab-e158-48fe-ed58-f44e490ae016"
      },
      "outputs": [
        {
          "output_type": "stream",
          "name": "stdout",
          "text": [
            "<class 'list'>\n"
          ]
        }
      ],
      "source": [
        "print(type(lista))"
      ]
    },
    {
      "cell_type": "code",
      "execution_count": 5,
      "metadata": {
        "id": "piM4eFYKj9__",
        "colab": {
          "base_uri": "https://localhost:8080/"
        },
        "outputId": "3b069ab4-36a2-4a09-ddf9-d669f0b1733a"
      },
      "outputs": [
        {
          "output_type": "stream",
          "name": "stdout",
          "text": [
            "['Edson', 'Tio Patinhas', 'Zé Carioca', 'Pica Pau']\n"
          ]
        }
      ],
      "source": [
        "# Ex. 1 - lista com dados tipo String\n",
        "nomes = ['Edson', 'Tio Patinhas', 'Zé Carioca', 'Pica Pau']\n",
        "print(nomes)"
      ]
    },
    {
      "cell_type": "code",
      "execution_count": 6,
      "metadata": {
        "id": "yDaL36SfkSZL",
        "colab": {
          "base_uri": "https://localhost:8080/"
        },
        "outputId": "1a76d255-6b01-4f26-d700-acf3e4d1aa03"
      },
      "outputs": [
        {
          "output_type": "stream",
          "name": "stdout",
          "text": [
            "<class 'list'>\n"
          ]
        }
      ],
      "source": [
        "# Qual o tipo de dado que será mostrado com o type(nomes)?\n",
        "print(type(nomes))"
      ]
    },
    {
      "cell_type": "code",
      "execution_count": 7,
      "metadata": {
        "id": "jV-sYTBOkeoB",
        "colab": {
          "base_uri": "https://localhost:8080/"
        },
        "outputId": "78a0c07a-9c28-4638-f559-4b06259f2f29"
      },
      "outputs": [
        {
          "output_type": "execute_result",
          "data": {
            "text/plain": [
              "[123, 'Edson', 109.2, None, True]"
            ]
          },
          "metadata": {},
          "execution_count": 7
        }
      ],
      "source": [
        "# Ex. 2 - Lista variada\n",
        "aluno = [123, 'Edson', 109.2, None, True]\n",
        "aluno"
      ]
    },
    {
      "cell_type": "code",
      "execution_count": 8,
      "metadata": {
        "id": "XoGBsm7ClOzh",
        "colab": {
          "base_uri": "https://localhost:8080/"
        },
        "outputId": "c097bef5-f316-4191-89af-b1696fd02c0e"
      },
      "outputs": [
        {
          "output_type": "stream",
          "name": "stdout",
          "text": [
            "<class 'list'>\n"
          ]
        }
      ],
      "source": [
        "print(type(aluno))"
      ]
    },
    {
      "cell_type": "code",
      "execution_count": 9,
      "metadata": {
        "id": "vVV9W7pFl6Uf",
        "colab": {
          "base_uri": "https://localhost:8080/"
        },
        "outputId": "7d559515-6780-4532-cf56-e274a1327c4d"
      },
      "outputs": [
        {
          "output_type": "stream",
          "name": "stdout",
          "text": [
            "Edson\n",
            "None\n"
          ]
        }
      ],
      "source": [
        "# Acessar elemtnos de uma lista\n",
        "# Basta usar o índice da lista (sempre inicia-se em zero)\n",
        "# var[posicao] -> posicao é o índice\n",
        "#         0      1       2      3    4\n",
        "aluno = [123, 'Edson', 109.2, None, True]\n",
        "\n",
        "print(aluno[1]) # Edson\n",
        "print(aluno[3]) # None"
      ]
    },
    {
      "cell_type": "code",
      "execution_count": 10,
      "metadata": {
        "id": "uywUVZ1xmSiq",
        "colab": {
          "base_uri": "https://localhost:8080/"
        },
        "outputId": "8f24a9ff-ac7c-477b-f385-48a5b4528698"
      },
      "outputs": [
        {
          "output_type": "stream",
          "name": "stdout",
          "text": [
            "123\n",
            "Edson\n",
            "109.2\n",
            "None\n",
            "True\n"
          ]
        }
      ],
      "source": [
        "# Se sabemos acessar um item pelo índice, então como percorrer uma lista?\n",
        "for var in aluno:\n",
        "    print(var)"
      ]
    },
    {
      "cell_type": "code",
      "execution_count": 11,
      "metadata": {
        "id": "axqkoXs7m7Gv",
        "colab": {
          "base_uri": "https://localhost:8080/"
        },
        "outputId": "dd730e7b-ae8d-41b5-9b4a-84dcc69a7064"
      },
      "outputs": [
        {
          "output_type": "stream",
          "name": "stdout",
          "text": [
            "<class 'int'>\n",
            "<class 'str'>\n",
            "<class 'float'>\n",
            "<class 'NoneType'>\n",
            "<class 'bool'>\n"
          ]
        }
      ],
      "source": [
        "# Atividade para treinar\n",
        "# Mostra qual o tipo de dados de cada um dos itens da lista\n",
        "\n",
        "for x in aluno:\n",
        "    print(type(x))"
      ]
    },
    {
      "cell_type": "code",
      "execution_count": 12,
      "metadata": {
        "id": "15-Znluznm1-",
        "colab": {
          "base_uri": "https://localhost:8080/"
        },
        "outputId": "ca426e4c-6acf-48bf-eb1c-dc8819cdd627"
      },
      "outputs": [
        {
          "output_type": "stream",
          "name": "stdout",
          "text": [
            "0 123\n",
            "1 Edson\n",
            "2 109.2\n",
            "3 None\n",
            "4 True\n"
          ]
        }
      ],
      "source": [
        "# Mostrar o índice e o valor de cada entrada da lista aluno\n",
        "for var in aluno:\n",
        "    print(aluno.index(var), var)"
      ]
    },
    {
      "cell_type": "code",
      "execution_count": 13,
      "metadata": {
        "id": "lPhK4wMOo4dv"
      },
      "outputs": [],
      "source": [
        "# Forma alternativa seria com um contador"
      ]
    },
    {
      "cell_type": "markdown",
      "metadata": {
        "id": "4sCi_-uZpthP"
      },
      "source": [
        "____\n",
        "### Operações com listas"
      ]
    },
    {
      "cell_type": "code",
      "execution_count": 14,
      "metadata": {
        "id": "38gNx681pXQO"
      },
      "outputs": [],
      "source": [
        "lista = []"
      ]
    },
    {
      "cell_type": "code",
      "execution_count": 15,
      "metadata": {
        "id": "4IY6EmDUp3Ch",
        "colab": {
          "base_uri": "https://localhost:8080/"
        },
        "outputId": "40c9b871-afce-4673-c8f3-da19a0e09ad2"
      },
      "outputs": [
        {
          "output_type": "execute_result",
          "data": {
            "text/plain": [
              "['Banana', 'Abacaxi']"
            ]
          },
          "metadata": {},
          "execution_count": 15
        }
      ],
      "source": [
        "# Adicionar via .append(value) - sempre no final da lista\n",
        "lista.append('Banana')\n",
        "lista.append('Abacaxi')\n",
        "lista"
      ]
    },
    {
      "cell_type": "code",
      "execution_count": 16,
      "metadata": {
        "id": "6FcUGJhlp_Ew",
        "colab": {
          "base_uri": "https://localhost:8080/"
        },
        "outputId": "c82f3c77-12a7-4853-db4a-4ef28b7ea536"
      },
      "outputs": [
        {
          "output_type": "execute_result",
          "data": {
            "text/plain": [
              "['Banana', 'Maça', 'Abacaxi']"
            ]
          },
          "metadata": {},
          "execution_count": 16
        }
      ],
      "source": [
        "# Adicionar via insert(index, value) - insere em uma posição específica\n",
        "lista.insert(1, 'Maça')\n",
        "lista"
      ]
    },
    {
      "cell_type": "code",
      "execution_count": 17,
      "metadata": {
        "id": "aHjQ3BE3qx8M",
        "colab": {
          "base_uri": "https://localhost:8080/"
        },
        "outputId": "44d48623-3aa4-4fe3-ca89-cda626147af1"
      },
      "outputs": [
        {
          "output_type": "execute_result",
          "data": {
            "text/plain": [
              "['Maça', 'Abacaxi']"
            ]
          },
          "metadata": {},
          "execution_count": 17
        }
      ],
      "source": [
        "# Remover um item específico\n",
        "lista.remove('Banana')\n",
        "lista"
      ]
    },
    {
      "cell_type": "code",
      "execution_count": 18,
      "metadata": {
        "id": "mDbQxF9fq7zv",
        "colab": {
          "base_uri": "https://localhost:8080/"
        },
        "outputId": "9458cef7-d3e3-447f-e593-35b1fa30ee53"
      },
      "outputs": [
        {
          "output_type": "execute_result",
          "data": {
            "text/plain": [
              "['Maça', 'Abacaxi', 'Caqui', 'Cebola', 'Espinafre']"
            ]
          },
          "metadata": {},
          "execution_count": 18
        }
      ],
      "source": [
        "lista.append('Caqui')\n",
        "lista.append('Cebola')\n",
        "lista.append('Espinafre')\n",
        "lista"
      ]
    },
    {
      "cell_type": "code",
      "execution_count": 19,
      "metadata": {
        "id": "LrOGtf6nrSOD",
        "colab": {
          "base_uri": "https://localhost:8080/"
        },
        "outputId": "41ac24c9-9cf0-40be-a258-ba60a7f6a654"
      },
      "outputs": [
        {
          "output_type": "stream",
          "name": "stdout",
          "text": [
            "['Maça', 'Abacaxi', 'Caqui', 'Cebola', 'Espinafre']\n",
            "['Maça', 'Abacaxi', 'Caqui', 'Cebola']\n"
          ]
        }
      ],
      "source": [
        "# Remoção do último indice (item) - pop()\n",
        "print(lista)\n",
        "lista.pop()\n",
        "print(lista)"
      ]
    },
    {
      "cell_type": "code",
      "execution_count": 20,
      "metadata": {
        "id": "7c0TtTJPr8jj",
        "colab": {
          "base_uri": "https://localhost:8080/"
        },
        "outputId": "63df59d2-7c55-4439-e774-b2e481b4afed"
      },
      "outputs": [
        {
          "output_type": "execute_result",
          "data": {
            "text/plain": [
              "['Maça', 'Caqui', 'Cebola']"
            ]
          },
          "metadata": {},
          "execution_count": 20
        }
      ],
      "source": [
        "# Removendo com pop(index)\n",
        "lista.pop(1)\n",
        "lista"
      ]
    },
    {
      "cell_type": "code",
      "execution_count": 21,
      "metadata": {
        "id": "7RQQB5WMsbcK",
        "colab": {
          "base_uri": "https://localhost:8080/"
        },
        "outputId": "793aecef-25b2-4c57-b24d-152bdd6c429f"
      },
      "outputs": [
        {
          "output_type": "execute_result",
          "data": {
            "text/plain": [
              "['Joel', 'Juan', 'Gabriel', 'Wellington', 'Felipe', 'Yuri']"
            ]
          },
          "metadata": {},
          "execution_count": 21
        }
      ],
      "source": [
        "alunos = ['Joel', 'Juan', 'Gabriel', 'Wellington', 'Felipe', 'Yuri']\n",
        "alunos"
      ]
    },
    {
      "cell_type": "code",
      "execution_count": 22,
      "metadata": {
        "id": "TiD8-g_BtKTt",
        "colab": {
          "base_uri": "https://localhost:8080/"
        },
        "outputId": "5c4bfe0b-3cc9-40a5-fb51-5e46cc6245ab"
      },
      "outputs": [
        {
          "output_type": "execute_result",
          "data": {
            "text/plain": [
              "['Felipe', 'Gabriel', 'Joel', 'Juan', 'Wellington', 'Yuri']"
            ]
          },
          "metadata": {},
          "execution_count": 22
        }
      ],
      "source": [
        "# ordenação de lista .sort()\n",
        "#             0        1         2         3             4        5\n",
        "# alunos = ['Joel', 'Juan', 'Gabriel', 'Wellington', 'Felipe', 'Yuri']\n",
        "alunos.sort()\n",
        "alunos\n",
        "#              0          1        2        3         4           5 \n",
        "#          ['Felipe', 'Gabriel', 'Joel', 'Juan', 'Wellington', 'Yuri']"
      ]
    },
    {
      "cell_type": "code",
      "execution_count": 23,
      "metadata": {
        "id": "7AHr3sdythkJ",
        "colab": {
          "base_uri": "https://localhost:8080/"
        },
        "outputId": "5b80f2cb-acc5-4593-ca03-60cf421d181f"
      },
      "outputs": [
        {
          "output_type": "execute_result",
          "data": {
            "text/plain": [
              "['Felipe', 'Joel', 'Juan', 'Wellington', 'Yuri']"
            ]
          },
          "metadata": {},
          "execution_count": 23
        }
      ],
      "source": [
        "alunos.pop(1)\n",
        "alunos"
      ]
    },
    {
      "cell_type": "code",
      "execution_count": 24,
      "metadata": {
        "id": "JMznoWpquj_E",
        "colab": {
          "base_uri": "https://localhost:8080/"
        },
        "outputId": "db45aece-52b1-4391-e50f-0eba69f8c9e6"
      },
      "outputs": [
        {
          "output_type": "execute_result",
          "data": {
            "text/plain": [
              "['1.78', '125', '512', 'Edson', 'Maria', 'True', 'Zezinho']"
            ]
          },
          "metadata": {},
          "execution_count": 24
        }
      ],
      "source": [
        "mix = ['125', 'Edson', 'Maria', 'True', 'Zezinho', '512', '1.78']\n",
        "mix.sort()\n",
        "mix"
      ]
    },
    {
      "cell_type": "code",
      "execution_count": 25,
      "metadata": {
        "id": "zbjqQKaIu9dO",
        "colab": {
          "base_uri": "https://localhost:8080/"
        },
        "outputId": "fa259bc0-4b78-429c-8be7-57dd900c99ac"
      },
      "outputs": [
        {
          "output_type": "execute_result",
          "data": {
            "text/plain": [
              "[-19, 1, 56]"
            ]
          },
          "metadata": {},
          "execution_count": 25
        }
      ],
      "source": [
        "inteiro = [1, 56, -19]\n",
        "inteiro.sort()\n",
        "inteiro"
      ]
    },
    {
      "cell_type": "code",
      "execution_count": 26,
      "metadata": {
        "id": "qMqfwBr3va0V",
        "colab": {
          "base_uri": "https://localhost:8080/"
        },
        "outputId": "81bfa9ff-c3e0-45a7-dcfd-b0a0bdb97d79"
      },
      "outputs": [
        {
          "output_type": "execute_result",
          "data": {
            "text/plain": [
              "[False, False, False, True]"
            ]
          },
          "metadata": {},
          "execution_count": 26
        }
      ],
      "source": [
        "x = [True, False, False, not True]\n",
        "x.sort()\n",
        "x"
      ]
    },
    {
      "cell_type": "code",
      "execution_count": 27,
      "metadata": {
        "id": "_cpbiUvdvi5s",
        "colab": {
          "base_uri": "https://localhost:8080/"
        },
        "outputId": "790d50b8-456a-4fbf-c9b1-e8e09ddcaa83"
      },
      "outputs": [
        {
          "output_type": "stream",
          "name": "stdout",
          "text": [
            "['Joel', 'Juan', 'Gabriel', 'Wellington', 'Felipe', 'Yuri']\n"
          ]
        }
      ],
      "source": [
        "# Ordem reversa - reverse\n",
        "alunos = ['Joel', 'Juan', 'Gabriel', 'Wellington', 'Felipe', 'Yuri']\n",
        "print(alunos)"
      ]
    },
    {
      "cell_type": "code",
      "execution_count": 28,
      "metadata": {
        "id": "y_jdpMJ8wIGb",
        "colab": {
          "base_uri": "https://localhost:8080/"
        },
        "outputId": "a63e3d11-c6d4-4530-bfb3-cd4fb42c4c5a"
      },
      "outputs": [
        {
          "output_type": "stream",
          "name": "stdout",
          "text": [
            "['Yuri', 'Felipe', 'Wellington', 'Gabriel', 'Juan', 'Joel']\n"
          ]
        }
      ],
      "source": [
        "alunos.reverse()\n",
        "print(alunos)"
      ]
    },
    {
      "cell_type": "code",
      "execution_count": 29,
      "metadata": {
        "id": "PrUf0xpHwWau",
        "colab": {
          "base_uri": "https://localhost:8080/"
        },
        "outputId": "a17dc00d-8247-4654-a379-9ef110640ea8"
      },
      "outputs": [
        {
          "output_type": "execute_result",
          "data": {
            "text/plain": [
              "['Felipe', 'Gabriel', 'Joel', 'Juan', 'Wellington', 'Yuri']"
            ]
          },
          "metadata": {},
          "execution_count": 29
        }
      ],
      "source": [
        "# Ordenar de A-Z\n",
        "alunos.sort()\n",
        "alunos"
      ]
    },
    {
      "cell_type": "code",
      "execution_count": 30,
      "metadata": {
        "id": "MIzTS3nkwq3J",
        "colab": {
          "base_uri": "https://localhost:8080/"
        },
        "outputId": "3d0aba24-ce2d-4b99-f1a5-d3bfc8e7e7a8"
      },
      "outputs": [
        {
          "output_type": "execute_result",
          "data": {
            "text/plain": [
              "['Yuri', 'Wellington', 'Juan', 'Joel', 'Gabriel', 'Felipe']"
            ]
          },
          "metadata": {},
          "execution_count": 30
        }
      ],
      "source": [
        "# Ordenar decrescente\n",
        "alunos.reverse()\n",
        "alunos"
      ]
    },
    {
      "cell_type": "markdown",
      "metadata": {
        "id": "VkzihW63w5PZ"
      },
      "source": [
        "### Mesclagem de listas"
      ]
    },
    {
      "cell_type": "code",
      "execution_count": 31,
      "metadata": {
        "id": "7beMyIoEwvGj"
      },
      "outputs": [],
      "source": [
        "lista1 = ['Memorial', 'Vergueiro', 'Vila Maria']\n",
        "lista2 = ['Santo Amaro', 'Bauru', 'Vila Prudente']"
      ]
    },
    {
      "cell_type": "code",
      "execution_count": 32,
      "metadata": {
        "id": "F-ewBa9wxD2k",
        "colab": {
          "base_uri": "https://localhost:8080/"
        },
        "outputId": "1719fefd-fb4f-41b6-f00c-768027360954"
      },
      "outputs": [
        {
          "output_type": "stream",
          "name": "stdout",
          "text": [
            "['Memorial', 'Vergueiro', 'Vila Maria', 'Santo Amaro', 'Bauru', 'Vila Prudente']\n"
          ]
        }
      ],
      "source": [
        "# Ex. 1: junta as duas listas, mas não altera os conteúdos\n",
        "print(lista1 + lista2)"
      ]
    },
    {
      "cell_type": "code",
      "execution_count": 33,
      "metadata": {
        "id": "9AM6S0SnxKfC",
        "colab": {
          "base_uri": "https://localhost:8080/"
        },
        "outputId": "6bcfc2ca-fd46-4f32-ea16-c509870c5c04"
      },
      "outputs": [
        {
          "output_type": "stream",
          "name": "stdout",
          "text": [
            "['Memorial', 'Vergueiro', 'Vila Maria', 'Santo Amaro', 'Bauru', 'Vila Prudente']\n",
            "['Santo Amaro', 'Bauru', 'Vila Prudente']\n"
          ]
        }
      ],
      "source": [
        "# Ex. 2: junta a lista 2 na lista 1\n",
        "lista1.extend(lista2)\n",
        "print(lista1)\n",
        "print(lista2)"
      ]
    },
    {
      "cell_type": "markdown",
      "metadata": {
        "id": "tgSk-y5TnXuK"
      },
      "source": [
        "## Atividade Treino\n",
        "\n",
        "- Leia via teclado 10 entradas numéricas (inteiros) \"não repetidos\". Se for repetido, informar o usuário.\n",
        "- Ao final mostrar os números lidos\n",
        "- Tempo: 10 minutos"
      ]
    },
    {
      "cell_type": "code",
      "execution_count": 34,
      "metadata": {
        "id": "IOzuM7vbxjwf",
        "colab": {
          "base_uri": "https://localhost:8080/"
        },
        "outputId": "f763f255-47be-4cbd-beaa-4ec19fa86258"
      },
      "outputs": [
        {
          "output_type": "stream",
          "name": "stdout",
          "text": [
            "Digite o valor: 2\n",
            "2 inserido na lista\n",
            "Digite o valor: 3\n",
            "3 inserido na lista\n",
            "Digite o valor: 4\n",
            "4 inserido na lista\n",
            "Digite o valor: 5\n",
            "5 inserido na lista\n",
            "Digite o valor: 6\n",
            "6 inserido na lista\n",
            "Digite o valor: 7\n",
            "7 inserido na lista\n",
            "Digite o valor: 8\n",
            "8 inserido na lista\n",
            "Digite o valor: 9\n",
            "9 inserido na lista\n",
            "Digite o valor: 10\n",
            "10 inserido na lista\n",
            "Digite o valor: 1\n",
            "1 inserido na lista\n",
            "Digite o valor: 1\n",
            "1 já foi inserido na lista anteriormente\n",
            "Digite o valor: 1\n",
            "1 já foi inserido na lista anteriormente\n",
            "Digite o valor: 11\n",
            "11 inserido na lista\n",
            "[2, 3, 4, 5, 6, 7, 8, 9, 10, 1, 11]\n"
          ]
        }
      ],
      "source": [
        "lista = []\n",
        "\n",
        "while len(lista) < 11:\n",
        "    val = int(input('Digite o valor: '))\n",
        "  \n",
        "    if (val) not in lista: # se não estiver na lista\n",
        "        lista.append(val) # inserimos o número na lista\n",
        "        print(val, 'inserido na lista')\n",
        "    else:\n",
        "        print(val, 'já foi inserido na lista anteriormente')\n",
        "    \n",
        "print(lista)"
      ]
    },
    {
      "cell_type": "markdown",
      "metadata": {
        "id": "hNF4uits1SJK"
      },
      "source": [
        "### Fatiamento de listas ou _``slice``_"
      ]
    },
    {
      "cell_type": "code",
      "execution_count": 35,
      "metadata": {
        "id": "6_T7oCT50g_Y",
        "colab": {
          "base_uri": "https://localhost:8080/"
        },
        "outputId": "b9fc31da-3a44-4e1c-dbb0-e2d25aa69ce0"
      },
      "outputs": [
        {
          "output_type": "execute_result",
          "data": {
            "text/plain": [
              "7"
            ]
          },
          "metadata": {},
          "execution_count": 35
        }
      ],
      "source": [
        "# o último índice é o tamanho da lista menos um -> len()-1\n",
        "lista = ['Edson', 'Ana', 'Luiz', 'Pedro', 'Carol', 'Tio patinhas', 'Pica Pau']\n",
        "len(lista)"
      ]
    },
    {
      "cell_type": "code",
      "execution_count": 36,
      "metadata": {
        "id": "rlCf_kjC1tp6",
        "colab": {
          "base_uri": "https://localhost:8080/"
        },
        "outputId": "3fc839bc-bf09-4da5-ea5f-be5ff31c0f38"
      },
      "outputs": [
        {
          "output_type": "stream",
          "name": "stdout",
          "text": [
            "['Edson', 'Ana']\n",
            "['Luiz', 'Pedro', 'Carol']\n",
            "['Pedro', 'Carol', 'Tio patinhas', 'Pica Pau']\n",
            "['Edson', 'Ana', 'Luiz']\n",
            "['Edson', 'Luiz', 'Carol', 'Pica Pau']\n"
          ]
        }
      ],
      "source": [
        "# lista[início, fim, passo (número de contagem)]\n",
        "# lista[start, stop, step]\n",
        "\n",
        "# Forma 1\n",
        "print(lista[0:2])\n",
        "print(lista[2:5])\n",
        "\n",
        "print(lista[3:]) # começa no três e vai até o final\n",
        "print(lista[:3])\n",
        "\n",
        "print(lista[::2]) # pulando"
      ]
    },
    {
      "cell_type": "code",
      "execution_count": 37,
      "metadata": {
        "id": "af7E_iub2rE5",
        "colab": {
          "base_uri": "https://localhost:8080/"
        },
        "outputId": "711bea8b-5a4a-4887-efa0-90e524cd10cd"
      },
      "outputs": [
        {
          "output_type": "stream",
          "name": "stdout",
          "text": [
            "slice(None, 3, None)\n",
            "['Edson', 'Ana', 'Luiz']\n"
          ]
        }
      ],
      "source": [
        "# Forma 2\n",
        "v1 = slice(3)\n",
        "print(v1)\n",
        "print(lista[v1])"
      ]
    },
    {
      "cell_type": "markdown",
      "metadata": {
        "id": "ztUheHK5nXuL"
      },
      "source": [
        "### Composição de listas\n",
        "\n",
        "Como a lista é uma estrutura de dados que permite tipos de dados diferentes, também podemos utilizar uma lista dentro de outra."
      ]
    },
    {
      "cell_type": "code",
      "execution_count": 38,
      "metadata": {
        "id": "X8DNJKDKnXuL",
        "colab": {
          "base_uri": "https://localhost:8080/"
        },
        "outputId": "9edab791-9e7a-426a-dd6b-3ca8efbc9516"
      },
      "outputs": [
        {
          "output_type": "stream",
          "name": "stdout",
          "text": [
            "[[1, 'Ciências da Computação'], [2, 'Análise de Sistemas'], [3, 'Sistemas de Informação']]\n"
          ]
        }
      ],
      "source": [
        "# Lista composta\n",
        "lista_1 = [1, 'Ciências da Computação']\n",
        "lista_2 = [2, 'Análise de Sistemas']\n",
        "lista_3 = [3, 'Sistemas de Informação']\n",
        "\n",
        "# inserindo listas com itens de uma lista\n",
        "lista_cursos = [lista_1, lista_2, lista_3]\n",
        "\n",
        "print(lista_cursos)"
      ]
    },
    {
      "cell_type": "markdown",
      "metadata": {
        "id": "aIYPu9uXnXuL"
      },
      "source": [
        "Perceba que no início e no final dos dados encontramos __dois colchetes__, indicando a existência de uma lista dentro de outra."
      ]
    },
    {
      "cell_type": "code",
      "execution_count": 39,
      "metadata": {
        "id": "PydG3_7mnXuM",
        "colab": {
          "base_uri": "https://localhost:8080/"
        },
        "outputId": "3eafee21-2a07-42e9-869e-df21382d9a97"
      },
      "outputs": [
        {
          "output_type": "stream",
          "name": "stdout",
          "text": [
            "[1, 'Ciências da Computação']\n",
            "[2, 'Análise de Sistemas']\n",
            "[3, 'Sistemas de Informação']\n"
          ]
        }
      ],
      "source": [
        "# Percorrendo uma lista composta\n",
        "for itens in lista_cursos:\n",
        "    #mostra ca uma das listas contidas nos índices da lista_cursos\n",
        "    print(itens)"
      ]
    },
    {
      "cell_type": "code",
      "execution_count": 40,
      "metadata": {
        "id": "4NTeHraSnXuM",
        "colab": {
          "base_uri": "https://localhost:8080/"
        },
        "outputId": "fb532d96-6705-4eb2-8875-52ff7b0a6828"
      },
      "outputs": [
        {
          "output_type": "stream",
          "name": "stdout",
          "text": [
            "1 Ciências da Computação \n",
            "2 Análise de Sistemas \n",
            "3 Sistemas de Informação \n"
          ]
        }
      ],
      "source": [
        "# Percorrendo a lista_cursos e mostrando os itens idividuais de cada uma das listas\n",
        "# Obs.: O parâmetro \"end\" dentro do print informa que não haverá salto de linha e conterá um espaço de separação\n",
        "for itens in lista_cursos:\n",
        "    for curso in itens:\n",
        "        print(curso, end=\" \")\n",
        "    print()"
      ]
    },
    {
      "cell_type": "markdown",
      "metadata": {
        "id": "kg_AmgMT5S3K"
      },
      "source": [
        "### Operações Numéricas em Listas"
      ]
    },
    {
      "cell_type": "code",
      "execution_count": 41,
      "metadata": {
        "id": "IDL1Ihev4hD5",
        "colab": {
          "base_uri": "https://localhost:8080/"
        },
        "outputId": "1faa1927-15f4-4fb0-c13e-74571bbd9c24"
      },
      "outputs": [
        {
          "output_type": "stream",
          "name": "stdout",
          "text": [
            "MAX: 10\n",
            "MIN: 1\n",
            "SUM: 55\n"
          ]
        }
      ],
      "source": [
        "lista = [1, 2, 3, 4, 5, 6, 7, 8, 9, 10]\n",
        "\n",
        "print('MAX:', max(lista))\n",
        "print('MIN:', min(lista))\n",
        "print('SUM:', sum(lista))"
      ]
    },
    {
      "cell_type": "code",
      "execution_count": 41,
      "metadata": {
        "id": "EtA2XtT4nXuM"
      },
      "outputs": [],
      "source": []
    }
  ],
  "metadata": {
    "colab": {
      "collapsed_sections": [],
      "provenance": [],
      "include_colab_link": true
    },
    "kernelspec": {
      "display_name": "Python 3 (ipykernel)",
      "language": "python",
      "name": "python3"
    },
    "language_info": {
      "codemirror_mode": {
        "name": "ipython",
        "version": 3
      },
      "file_extension": ".py",
      "mimetype": "text/x-python",
      "name": "python",
      "nbconvert_exporter": "python",
      "pygments_lexer": "ipython3",
      "version": "3.9.12"
    }
  },
  "nbformat": 4,
  "nbformat_minor": 0
}